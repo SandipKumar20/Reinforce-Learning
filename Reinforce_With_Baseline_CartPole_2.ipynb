{
 "cells": [
  {
   "cell_type": "code",
   "execution_count": 1,
   "metadata": {},
   "outputs": [],
   "source": [
    "import torch\n",
    "import gym\n",
    "import torch.nn as nn\n",
    "from torch.autograd import Variable\n",
    "from torch.optim import Adam"
   ]
  },
  {
   "cell_type": "code",
   "execution_count": 2,
   "metadata": {},
   "outputs": [],
   "source": [
    "env = gym.make('CartPole-v0')"
   ]
  },
  {
   "cell_type": "code",
   "execution_count": 3,
   "metadata": {},
   "outputs": [],
   "source": [
    "class PolicyNet():\n",
    "    def __init__(self,num_state,num_action,num_hidden=128,lr=0.001):\n",
    "        self.model = nn.Sequential(\n",
    "                     nn.Linear(num_state,num_hidden),\n",
    "                     nn.ReLU(),\n",
    "                     nn.Linear(num_hidden,num_action),\n",
    "                     nn.Softmax(),)\n",
    "        self.optimizer = Adam(self.model.parameters(),lr)\n",
    "    def predict(self,s):\n",
    "        return self.model(torch.Tensor(s))\n",
    "    def update(self,Return_Values,log_probs):\n",
    "        policy_grad = []\n",
    "        for log_prob,Gt in zip(log_probs,Return_Values):\n",
    "            policy_grad.append(-log_prob * Gt)\n",
    "        loss = torch.stack(policy_grad).sum()\n",
    "        self.optimizer.zero_grad()\n",
    "        loss.backward()\n",
    "        self.optimizer.step()\n",
    "    def get_action(self,s):\n",
    "        probs = self.predict(s)\n",
    "        action = torch.multinomial(probs,1).item()\n",
    "        log_prob = torch.log(probs[action])\n",
    "        return action,log_prob\n",
    "        \n",
    "        "
   ]
  },
  {
   "cell_type": "code",
   "execution_count": 4,
   "metadata": {},
   "outputs": [],
   "source": [
    "class ValueNet():\n",
    "    def __init__(self,num_state,num_hidden =128,lr = 0.05):\n",
    "        self.model = nn.Sequential(\n",
    "                       nn.Linear(num_state,num_hidden),\n",
    "                       nn.ReLU(),\n",
    "                       nn.Linear(num_hidden,1)\n",
    "        )\n",
    "        self.loss = nn.MSELoss()\n",
    "        self.optimizer = Adam(self.model.parameters(),lr)\n",
    "    def update(self,s,y):\n",
    "        y_pred = self.model(torch.Tensor(s))\n",
    "        loss = self.loss(y_pred,Variable(torch.Tensor(y)))\n",
    "        self.optimizer.zero_grad()\n",
    "        loss.backward()\n",
    "        self.optimizer.step()\n",
    "    def predict(self,s):\n",
    "        with torch.no_grad():\n",
    "            return self.model(torch.Tensor(s))\n",
    "        "
   ]
  },
  {
   "cell_type": "code",
   "execution_count": 5,
   "metadata": {},
   "outputs": [],
   "source": [
    "def Reinforce_with_baseline(env,policy_net,value_net,num_epochs,gamma=0.99):\n",
    "    for epoch in range(num_epochs):\n",
    "        log_probs = []\n",
    "        states = []\n",
    "        rewards = []\n",
    "        state = env.reset()\n",
    "        \n",
    "        while True:\n",
    "            states.append(state)\n",
    "            action,log_prob = policy_net.get_action(state)\n",
    "            next_state,reward,done,_ = env.step(action)\n",
    "            total_reward_episode[epoch] += reward\n",
    "            log_probs.append(log_prob)\n",
    "            rewards.append(reward)\n",
    "            \n",
    "            if done:\n",
    "                Gt = 0\n",
    "                pw = 0\n",
    "                returns = []\n",
    "                for k in range(len(states)):\n",
    "                    Gt += gamma ** pw * rewards[k]\n",
    "                    pw += 1\n",
    "                    returns.append(Gt)\n",
    "                #returns = returns[::-1]\n",
    "                returns = torch.tensor(returns)\n",
    "                baseline_values = value_net.predict(states)\n",
    "                Return_Values = returns - baseline_values\n",
    "                value_net.update(states,returns)\n",
    "                policy_net.update(Return_Values,log_probs)\n",
    "                print(f\"Episode: {epoch}, total_reward:{total_reward_episode[epoch]}\")\n",
    "                break\n",
    "            state = next_state\n",
    "                "
   ]
  },
  {
   "cell_type": "code",
   "execution_count": 6,
   "metadata": {},
   "outputs": [
    {
     "name": "stderr",
     "output_type": "stream",
     "text": [
      "/home/user/anaconda3/lib/python3.8/site-packages/torch/nn/modules/container.py:141: UserWarning: Implicit dimension choice for softmax has been deprecated. Change the call to include dim=X as an argument.\n",
      "  input = module(input)\n",
      "<ipython-input-4-3819a5188e2e>:18: UserWarning: Creating a tensor from a list of numpy.ndarrays is extremely slow. Please consider converting the list to a single numpy.ndarray with numpy.array() before converting to a tensor. (Triggered internally at  ../torch/csrc/utils/tensor_new.cpp:201.)\n",
      "  return self.model(torch.Tensor(s))\n",
      "/home/user/anaconda3/lib/python3.8/site-packages/torch/nn/modules/loss.py:520: UserWarning: Using a target size (torch.Size([15])) that is different to the input size (torch.Size([15, 1])). This will likely lead to incorrect results due to broadcasting. Please ensure they have the same size.\n",
      "  return F.mse_loss(input, target, reduction=self.reduction)\n"
     ]
    },
    {
     "name": "stdout",
     "output_type": "stream",
     "text": [
      "Episode: 0, total_reward:15.0\n",
      "Episode: 1, total_reward:21.0\n",
      "Episode: 2, total_reward:11.0\n",
      "Episode: 3, total_reward:17.0\n",
      "Episode: 4, total_reward:59.0\n",
      "Episode: 5, total_reward:27.0\n"
     ]
    },
    {
     "name": "stderr",
     "output_type": "stream",
     "text": [
      "/home/user/anaconda3/lib/python3.8/site-packages/torch/nn/modules/loss.py:520: UserWarning: Using a target size (torch.Size([21])) that is different to the input size (torch.Size([21, 1])). This will likely lead to incorrect results due to broadcasting. Please ensure they have the same size.\n",
      "  return F.mse_loss(input, target, reduction=self.reduction)\n",
      "/home/user/anaconda3/lib/python3.8/site-packages/torch/nn/modules/loss.py:520: UserWarning: Using a target size (torch.Size([11])) that is different to the input size (torch.Size([11, 1])). This will likely lead to incorrect results due to broadcasting. Please ensure they have the same size.\n",
      "  return F.mse_loss(input, target, reduction=self.reduction)\n",
      "/home/user/anaconda3/lib/python3.8/site-packages/torch/nn/modules/loss.py:520: UserWarning: Using a target size (torch.Size([17])) that is different to the input size (torch.Size([17, 1])). This will likely lead to incorrect results due to broadcasting. Please ensure they have the same size.\n",
      "  return F.mse_loss(input, target, reduction=self.reduction)\n",
      "/home/user/anaconda3/lib/python3.8/site-packages/torch/nn/modules/loss.py:520: UserWarning: Using a target size (torch.Size([59])) that is different to the input size (torch.Size([59, 1])). This will likely lead to incorrect results due to broadcasting. Please ensure they have the same size.\n",
      "  return F.mse_loss(input, target, reduction=self.reduction)\n",
      "/home/user/anaconda3/lib/python3.8/site-packages/torch/nn/modules/loss.py:520: UserWarning: Using a target size (torch.Size([27])) that is different to the input size (torch.Size([27, 1])). This will likely lead to incorrect results due to broadcasting. Please ensure they have the same size.\n",
      "  return F.mse_loss(input, target, reduction=self.reduction)\n"
     ]
    },
    {
     "name": "stdout",
     "output_type": "stream",
     "text": [
      "Episode: 6, total_reward:21.0\n",
      "Episode: 7, total_reward:15.0\n",
      "Episode: 8, total_reward:12.0\n",
      "Episode: 9, total_reward:10.0\n",
      "Episode: 10, total_reward:13.0\n",
      "Episode: 11, total_reward:32.0\n",
      "Episode: 12, total_reward:12.0\n",
      "Episode: 13, total_reward:18.0\n"
     ]
    },
    {
     "name": "stderr",
     "output_type": "stream",
     "text": [
      "/home/user/anaconda3/lib/python3.8/site-packages/torch/nn/modules/loss.py:520: UserWarning: Using a target size (torch.Size([12])) that is different to the input size (torch.Size([12, 1])). This will likely lead to incorrect results due to broadcasting. Please ensure they have the same size.\n",
      "  return F.mse_loss(input, target, reduction=self.reduction)\n",
      "/home/user/anaconda3/lib/python3.8/site-packages/torch/nn/modules/loss.py:520: UserWarning: Using a target size (torch.Size([10])) that is different to the input size (torch.Size([10, 1])). This will likely lead to incorrect results due to broadcasting. Please ensure they have the same size.\n",
      "  return F.mse_loss(input, target, reduction=self.reduction)\n",
      "/home/user/anaconda3/lib/python3.8/site-packages/torch/nn/modules/loss.py:520: UserWarning: Using a target size (torch.Size([13])) that is different to the input size (torch.Size([13, 1])). This will likely lead to incorrect results due to broadcasting. Please ensure they have the same size.\n",
      "  return F.mse_loss(input, target, reduction=self.reduction)\n",
      "/home/user/anaconda3/lib/python3.8/site-packages/torch/nn/modules/loss.py:520: UserWarning: Using a target size (torch.Size([32])) that is different to the input size (torch.Size([32, 1])). This will likely lead to incorrect results due to broadcasting. Please ensure they have the same size.\n",
      "  return F.mse_loss(input, target, reduction=self.reduction)\n",
      "/home/user/anaconda3/lib/python3.8/site-packages/torch/nn/modules/loss.py:520: UserWarning: Using a target size (torch.Size([18])) that is different to the input size (torch.Size([18, 1])). This will likely lead to incorrect results due to broadcasting. Please ensure they have the same size.\n",
      "  return F.mse_loss(input, target, reduction=self.reduction)\n",
      "/home/user/anaconda3/lib/python3.8/site-packages/torch/nn/modules/loss.py:520: UserWarning: Using a target size (torch.Size([34])) that is different to the input size (torch.Size([34, 1])). This will likely lead to incorrect results due to broadcasting. Please ensure they have the same size.\n",
      "  return F.mse_loss(input, target, reduction=self.reduction)\n",
      "/home/user/anaconda3/lib/python3.8/site-packages/torch/nn/modules/loss.py:520: UserWarning: Using a target size (torch.Size([44])) that is different to the input size (torch.Size([44, 1])). This will likely lead to incorrect results due to broadcasting. Please ensure they have the same size.\n",
      "  return F.mse_loss(input, target, reduction=self.reduction)\n"
     ]
    },
    {
     "name": "stdout",
     "output_type": "stream",
     "text": [
      "Episode: 14, total_reward:34.0\n",
      "Episode: 15, total_reward:44.0\n",
      "Episode: 16, total_reward:13.0\n",
      "Episode: 17, total_reward:21.0\n",
      "Episode: 18, total_reward:23.0\n",
      "Episode: 19, total_reward:20.0\n",
      "Episode: 20, total_reward:28.0\n"
     ]
    },
    {
     "name": "stderr",
     "output_type": "stream",
     "text": [
      "/home/user/anaconda3/lib/python3.8/site-packages/torch/nn/modules/loss.py:520: UserWarning: Using a target size (torch.Size([23])) that is different to the input size (torch.Size([23, 1])). This will likely lead to incorrect results due to broadcasting. Please ensure they have the same size.\n",
      "  return F.mse_loss(input, target, reduction=self.reduction)\n",
      "/home/user/anaconda3/lib/python3.8/site-packages/torch/nn/modules/loss.py:520: UserWarning: Using a target size (torch.Size([20])) that is different to the input size (torch.Size([20, 1])). This will likely lead to incorrect results due to broadcasting. Please ensure they have the same size.\n",
      "  return F.mse_loss(input, target, reduction=self.reduction)\n",
      "/home/user/anaconda3/lib/python3.8/site-packages/torch/nn/modules/loss.py:520: UserWarning: Using a target size (torch.Size([28])) that is different to the input size (torch.Size([28, 1])). This will likely lead to incorrect results due to broadcasting. Please ensure they have the same size.\n",
      "  return F.mse_loss(input, target, reduction=self.reduction)\n",
      "/home/user/anaconda3/lib/python3.8/site-packages/torch/nn/modules/loss.py:520: UserWarning: Using a target size (torch.Size([22])) that is different to the input size (torch.Size([22, 1])). This will likely lead to incorrect results due to broadcasting. Please ensure they have the same size.\n",
      "  return F.mse_loss(input, target, reduction=self.reduction)\n",
      "/home/user/anaconda3/lib/python3.8/site-packages/torch/nn/modules/loss.py:520: UserWarning: Using a target size (torch.Size([14])) that is different to the input size (torch.Size([14, 1])). This will likely lead to incorrect results due to broadcasting. Please ensure they have the same size.\n",
      "  return F.mse_loss(input, target, reduction=self.reduction)\n"
     ]
    },
    {
     "name": "stdout",
     "output_type": "stream",
     "text": [
      "Episode: 21, total_reward:20.0\n",
      "Episode: 22, total_reward:12.0\n",
      "Episode: 23, total_reward:20.0\n",
      "Episode: 24, total_reward:22.0\n",
      "Episode: 25, total_reward:14.0\n",
      "Episode: 26, total_reward:11.0\n",
      "Episode: 27, total_reward:14.0\n",
      "Episode: 28, total_reward:14.0\n",
      "Episode: 29, total_reward:10.0\n",
      "Episode: 30, total_reward:11.0\n",
      "Episode: 31, total_reward:14.0\n",
      "Episode: 32, total_reward:11.0\n"
     ]
    },
    {
     "name": "stderr",
     "output_type": "stream",
     "text": [
      "/home/user/anaconda3/lib/python3.8/site-packages/torch/nn/modules/loss.py:520: UserWarning: Using a target size (torch.Size([38])) that is different to the input size (torch.Size([38, 1])). This will likely lead to incorrect results due to broadcasting. Please ensure they have the same size.\n",
      "  return F.mse_loss(input, target, reduction=self.reduction)\n",
      "/home/user/anaconda3/lib/python3.8/site-packages/torch/nn/modules/loss.py:520: UserWarning: Using a target size (torch.Size([25])) that is different to the input size (torch.Size([25, 1])). This will likely lead to incorrect results due to broadcasting. Please ensure they have the same size.\n",
      "  return F.mse_loss(input, target, reduction=self.reduction)\n",
      "/home/user/anaconda3/lib/python3.8/site-packages/torch/nn/modules/loss.py:520: UserWarning: Using a target size (torch.Size([24])) that is different to the input size (torch.Size([24, 1])). This will likely lead to incorrect results due to broadcasting. Please ensure they have the same size.\n",
      "  return F.mse_loss(input, target, reduction=self.reduction)\n",
      "/home/user/anaconda3/lib/python3.8/site-packages/torch/nn/modules/loss.py:520: UserWarning: Using a target size (torch.Size([39])) that is different to the input size (torch.Size([39, 1])). This will likely lead to incorrect results due to broadcasting. Please ensure they have the same size.\n",
      "  return F.mse_loss(input, target, reduction=self.reduction)\n",
      "/home/user/anaconda3/lib/python3.8/site-packages/torch/nn/modules/loss.py:520: UserWarning: Using a target size (torch.Size([19])) that is different to the input size (torch.Size([19, 1])). This will likely lead to incorrect results due to broadcasting. Please ensure they have the same size.\n",
      "  return F.mse_loss(input, target, reduction=self.reduction)\n"
     ]
    },
    {
     "name": "stdout",
     "output_type": "stream",
     "text": [
      "Episode: 33, total_reward:38.0\n",
      "Episode: 34, total_reward:25.0\n",
      "Episode: 35, total_reward:24.0\n",
      "Episode: 36, total_reward:14.0\n",
      "Episode: 37, total_reward:39.0\n",
      "Episode: 38, total_reward:13.0\n",
      "Episode: 39, total_reward:19.0\n",
      "Episode: 40, total_reward:20.0\n",
      "Episode: 41, total_reward:21.0\n",
      "Episode: 42, total_reward:17.0\n",
      "Episode: 43, total_reward:16.0\n",
      "Episode: 44, total_reward:13.0\n",
      "Episode: 45, total_reward:27.0\n",
      "Episode: 46, total_reward:11.0\n",
      "Episode: 47, total_reward:46.0\n"
     ]
    },
    {
     "name": "stderr",
     "output_type": "stream",
     "text": [
      "/home/user/anaconda3/lib/python3.8/site-packages/torch/nn/modules/loss.py:520: UserWarning: Using a target size (torch.Size([16])) that is different to the input size (torch.Size([16, 1])). This will likely lead to incorrect results due to broadcasting. Please ensure they have the same size.\n",
      "  return F.mse_loss(input, target, reduction=self.reduction)\n",
      "/home/user/anaconda3/lib/python3.8/site-packages/torch/nn/modules/loss.py:520: UserWarning: Using a target size (torch.Size([46])) that is different to the input size (torch.Size([46, 1])). This will likely lead to incorrect results due to broadcasting. Please ensure they have the same size.\n",
      "  return F.mse_loss(input, target, reduction=self.reduction)\n",
      "/home/user/anaconda3/lib/python3.8/site-packages/torch/nn/modules/loss.py:520: UserWarning: Using a target size (torch.Size([54])) that is different to the input size (torch.Size([54, 1])). This will likely lead to incorrect results due to broadcasting. Please ensure they have the same size.\n",
      "  return F.mse_loss(input, target, reduction=self.reduction)\n"
     ]
    },
    {
     "name": "stdout",
     "output_type": "stream",
     "text": [
      "Episode: 48, total_reward:54.0\n",
      "Episode: 49, total_reward:16.0\n",
      "Episode: 50, total_reward:22.0\n",
      "Episode: 51, total_reward:16.0\n",
      "Episode: 52, total_reward:31.0\n",
      "Episode: 53, total_reward:13.0\n",
      "Episode: 54, total_reward:13.0\n",
      "Episode: 55, total_reward:18.0\n",
      "Episode: 56, total_reward:13.0\n",
      "Episode: 57, total_reward:14.0\n",
      "Episode: 58, total_reward:12.0\n",
      "Episode: 59, total_reward:27.0\n",
      "Episode: 60, total_reward:26.0\n",
      "Episode: 61, total_reward:11.0\n",
      "Episode: 62, total_reward:28.0\n",
      "Episode: 63, total_reward:22.0\n",
      "Episode: 64, total_reward:14.0\n"
     ]
    },
    {
     "name": "stderr",
     "output_type": "stream",
     "text": [
      "/home/user/anaconda3/lib/python3.8/site-packages/torch/nn/modules/loss.py:520: UserWarning: Using a target size (torch.Size([31])) that is different to the input size (torch.Size([31, 1])). This will likely lead to incorrect results due to broadcasting. Please ensure they have the same size.\n",
      "  return F.mse_loss(input, target, reduction=self.reduction)\n",
      "/home/user/anaconda3/lib/python3.8/site-packages/torch/nn/modules/loss.py:520: UserWarning: Using a target size (torch.Size([26])) that is different to the input size (torch.Size([26, 1])). This will likely lead to incorrect results due to broadcasting. Please ensure they have the same size.\n",
      "  return F.mse_loss(input, target, reduction=self.reduction)\n",
      "/home/user/anaconda3/lib/python3.8/site-packages/torch/nn/modules/loss.py:520: UserWarning: Using a target size (torch.Size([35])) that is different to the input size (torch.Size([35, 1])). This will likely lead to incorrect results due to broadcasting. Please ensure they have the same size.\n",
      "  return F.mse_loss(input, target, reduction=self.reduction)\n",
      "/home/user/anaconda3/lib/python3.8/site-packages/torch/nn/modules/loss.py:520: UserWarning: Using a target size (torch.Size([29])) that is different to the input size (torch.Size([29, 1])). This will likely lead to incorrect results due to broadcasting. Please ensure they have the same size.\n",
      "  return F.mse_loss(input, target, reduction=self.reduction)\n"
     ]
    },
    {
     "name": "stdout",
     "output_type": "stream",
     "text": [
      "Episode: 65, total_reward:35.0\n",
      "Episode: 66, total_reward:13.0\n",
      "Episode: 67, total_reward:13.0\n",
      "Episode: 68, total_reward:29.0\n",
      "Episode: 69, total_reward:28.0\n",
      "Episode: 70, total_reward:11.0\n",
      "Episode: 71, total_reward:15.0\n",
      "Episode: 72, total_reward:15.0\n",
      "Episode: 73, total_reward:39.0\n",
      "Episode: 74, total_reward:31.0\n",
      "Episode: 75, total_reward:26.0\n",
      "Episode: 76, total_reward:46.0\n",
      "Episode: 77, total_reward:14.0\n",
      "Episode: 78, total_reward:21.0\n",
      "Episode: 79, total_reward:24.0\n",
      "Episode: 80, total_reward:83.0\n"
     ]
    },
    {
     "name": "stderr",
     "output_type": "stream",
     "text": [
      "/home/user/anaconda3/lib/python3.8/site-packages/torch/nn/modules/loss.py:520: UserWarning: Using a target size (torch.Size([83])) that is different to the input size (torch.Size([83, 1])). This will likely lead to incorrect results due to broadcasting. Please ensure they have the same size.\n",
      "  return F.mse_loss(input, target, reduction=self.reduction)\n",
      "/home/user/anaconda3/lib/python3.8/site-packages/torch/nn/modules/loss.py:520: UserWarning: Using a target size (torch.Size([47])) that is different to the input size (torch.Size([47, 1])). This will likely lead to incorrect results due to broadcasting. Please ensure they have the same size.\n",
      "  return F.mse_loss(input, target, reduction=self.reduction)\n",
      "/home/user/anaconda3/lib/python3.8/site-packages/torch/nn/modules/loss.py:520: UserWarning: Using a target size (torch.Size([50])) that is different to the input size (torch.Size([50, 1])). This will likely lead to incorrect results due to broadcasting. Please ensure they have the same size.\n",
      "  return F.mse_loss(input, target, reduction=self.reduction)\n"
     ]
    },
    {
     "name": "stdout",
     "output_type": "stream",
     "text": [
      "Episode: 81, total_reward:29.0\n",
      "Episode: 82, total_reward:47.0\n",
      "Episode: 83, total_reward:11.0\n",
      "Episode: 84, total_reward:21.0\n",
      "Episode: 85, total_reward:50.0\n",
      "Episode: 86, total_reward:14.0\n",
      "Episode: 87, total_reward:27.0\n",
      "Episode: 88, total_reward:16.0\n",
      "Episode: 89, total_reward:21.0\n",
      "Episode: 90, total_reward:29.0\n",
      "Episode: 91, total_reward:31.0\n",
      "Episode: 92, total_reward:23.0\n",
      "Episode: 93, total_reward:15.0\n",
      "Episode: 94, total_reward:31.0\n",
      "Episode: 95, total_reward:30.0\n",
      "Episode: 96, total_reward:16.0\n",
      "Episode: 97, total_reward:35.0\n"
     ]
    },
    {
     "name": "stderr",
     "output_type": "stream",
     "text": [
      "/home/user/anaconda3/lib/python3.8/site-packages/torch/nn/modules/loss.py:520: UserWarning: Using a target size (torch.Size([30])) that is different to the input size (torch.Size([30, 1])). This will likely lead to incorrect results due to broadcasting. Please ensure they have the same size.\n",
      "  return F.mse_loss(input, target, reduction=self.reduction)\n"
     ]
    },
    {
     "name": "stdout",
     "output_type": "stream",
     "text": [
      "Episode: 98, total_reward:19.0\n",
      "Episode: 99, total_reward:25.0\n",
      "Episode: 100, total_reward:35.0\n",
      "Episode: 101, total_reward:46.0\n",
      "Episode: 102, total_reward:24.0\n",
      "Episode: 103, total_reward:44.0\n",
      "Episode: 104, total_reward:21.0\n",
      "Episode: 105, total_reward:57.0\n"
     ]
    },
    {
     "name": "stderr",
     "output_type": "stream",
     "text": [
      "/home/user/anaconda3/lib/python3.8/site-packages/torch/nn/modules/loss.py:520: UserWarning: Using a target size (torch.Size([57])) that is different to the input size (torch.Size([57, 1])). This will likely lead to incorrect results due to broadcasting. Please ensure they have the same size.\n",
      "  return F.mse_loss(input, target, reduction=self.reduction)\n"
     ]
    },
    {
     "name": "stdout",
     "output_type": "stream",
     "text": [
      "Episode: 106, total_reward:25.0\n",
      "Episode: 107, total_reward:24.0\n",
      "Episode: 108, total_reward:32.0\n",
      "Episode: 109, total_reward:16.0\n",
      "Episode: 110, total_reward:28.0\n",
      "Episode: 111, total_reward:54.0\n",
      "Episode: 112, total_reward:31.0\n",
      "Episode: 113, total_reward:16.0\n",
      "Episode: 114, total_reward:32.0\n",
      "Episode: 115, total_reward:16.0\n",
      "Episode: 116, total_reward:18.0\n",
      "Episode: 117, total_reward:15.0\n",
      "Episode: 118, total_reward:23.0\n",
      "Episode: 119, total_reward:16.0\n",
      "Episode: 120, total_reward:25.0\n",
      "Episode: 121, total_reward:53.0\n",
      "Episode: 122, total_reward:19.0\n",
      "Episode: 123, total_reward:28.0\n",
      "Episode: 124, total_reward:18.0\n",
      "Episode: 125, total_reward:16.0\n"
     ]
    },
    {
     "name": "stderr",
     "output_type": "stream",
     "text": [
      "/home/user/anaconda3/lib/python3.8/site-packages/torch/nn/modules/loss.py:520: UserWarning: Using a target size (torch.Size([53])) that is different to the input size (torch.Size([53, 1])). This will likely lead to incorrect results due to broadcasting. Please ensure they have the same size.\n",
      "  return F.mse_loss(input, target, reduction=self.reduction)\n",
      "/home/user/anaconda3/lib/python3.8/site-packages/torch/nn/modules/loss.py:520: UserWarning: Using a target size (torch.Size([52])) that is different to the input size (torch.Size([52, 1])). This will likely lead to incorrect results due to broadcasting. Please ensure they have the same size.\n",
      "  return F.mse_loss(input, target, reduction=self.reduction)\n"
     ]
    },
    {
     "name": "stdout",
     "output_type": "stream",
     "text": [
      "Episode: 126, total_reward:23.0\n",
      "Episode: 127, total_reward:52.0\n",
      "Episode: 128, total_reward:30.0\n",
      "Episode: 129, total_reward:38.0\n",
      "Episode: 130, total_reward:16.0\n",
      "Episode: 131, total_reward:16.0\n",
      "Episode: 132, total_reward:16.0\n",
      "Episode: 133, total_reward:36.0\n",
      "Episode: 134, total_reward:25.0\n",
      "Episode: 135, total_reward:23.0\n"
     ]
    },
    {
     "name": "stderr",
     "output_type": "stream",
     "text": [
      "/home/user/anaconda3/lib/python3.8/site-packages/torch/nn/modules/loss.py:520: UserWarning: Using a target size (torch.Size([36])) that is different to the input size (torch.Size([36, 1])). This will likely lead to incorrect results due to broadcasting. Please ensure they have the same size.\n",
      "  return F.mse_loss(input, target, reduction=self.reduction)\n",
      "/home/user/anaconda3/lib/python3.8/site-packages/torch/nn/modules/loss.py:520: UserWarning: Using a target size (torch.Size([63])) that is different to the input size (torch.Size([63, 1])). This will likely lead to incorrect results due to broadcasting. Please ensure they have the same size.\n",
      "  return F.mse_loss(input, target, reduction=self.reduction)\n",
      "/home/user/anaconda3/lib/python3.8/site-packages/torch/nn/modules/loss.py:520: UserWarning: Using a target size (torch.Size([37])) that is different to the input size (torch.Size([37, 1])). This will likely lead to incorrect results due to broadcasting. Please ensure they have the same size.\n",
      "  return F.mse_loss(input, target, reduction=self.reduction)\n",
      "/home/user/anaconda3/lib/python3.8/site-packages/torch/nn/modules/loss.py:520: UserWarning: Using a target size (torch.Size([41])) that is different to the input size (torch.Size([41, 1])). This will likely lead to incorrect results due to broadcasting. Please ensure they have the same size.\n",
      "  return F.mse_loss(input, target, reduction=self.reduction)\n"
     ]
    },
    {
     "name": "stdout",
     "output_type": "stream",
     "text": [
      "Episode: 136, total_reward:35.0\n",
      "Episode: 137, total_reward:63.0\n",
      "Episode: 138, total_reward:11.0\n",
      "Episode: 139, total_reward:37.0\n",
      "Episode: 140, total_reward:41.0\n",
      "Episode: 141, total_reward:12.0\n",
      "Episode: 142, total_reward:61.0\n",
      "Episode: 143, total_reward:14.0\n",
      "Episode: 144, total_reward:36.0\n",
      "Episode: 145, total_reward:32.0\n"
     ]
    },
    {
     "name": "stderr",
     "output_type": "stream",
     "text": [
      "/home/user/anaconda3/lib/python3.8/site-packages/torch/nn/modules/loss.py:520: UserWarning: Using a target size (torch.Size([61])) that is different to the input size (torch.Size([61, 1])). This will likely lead to incorrect results due to broadcasting. Please ensure they have the same size.\n",
      "  return F.mse_loss(input, target, reduction=self.reduction)\n",
      "/home/user/anaconda3/lib/python3.8/site-packages/torch/nn/modules/loss.py:520: UserWarning: Using a target size (torch.Size([95])) that is different to the input size (torch.Size([95, 1])). This will likely lead to incorrect results due to broadcasting. Please ensure they have the same size.\n",
      "  return F.mse_loss(input, target, reduction=self.reduction)\n",
      "/home/user/anaconda3/lib/python3.8/site-packages/torch/nn/modules/loss.py:520: UserWarning: Using a target size (torch.Size([48])) that is different to the input size (torch.Size([48, 1])). This will likely lead to incorrect results due to broadcasting. Please ensure they have the same size.\n",
      "  return F.mse_loss(input, target, reduction=self.reduction)\n",
      "/home/user/anaconda3/lib/python3.8/site-packages/torch/nn/modules/loss.py:520: UserWarning: Using a target size (torch.Size([45])) that is different to the input size (torch.Size([45, 1])). This will likely lead to incorrect results due to broadcasting. Please ensure they have the same size.\n",
      "  return F.mse_loss(input, target, reduction=self.reduction)\n"
     ]
    },
    {
     "name": "stdout",
     "output_type": "stream",
     "text": [
      "Episode: 146, total_reward:95.0\n",
      "Episode: 147, total_reward:17.0\n",
      "Episode: 148, total_reward:27.0\n",
      "Episode: 149, total_reward:48.0\n",
      "Episode: 150, total_reward:45.0\n",
      "Episode: 151, total_reward:21.0\n",
      "Episode: 152, total_reward:26.0\n",
      "Episode: 153, total_reward:38.0\n",
      "Episode: 154, total_reward:18.0\n",
      "Episode: 155, total_reward:16.0\n",
      "Episode: 156, total_reward:34.0\n",
      "Episode: 157, total_reward:34.0\n",
      "Episode: 158, total_reward:34.0\n",
      "Episode: 159, total_reward:41.0\n",
      "Episode: 160, total_reward:33.0\n",
      "Episode: 161, total_reward:18.0\n",
      "Episode: 162, total_reward:26.0\n",
      "Episode: 163, total_reward:27.0\n",
      "Episode: 164, total_reward:16.0\n",
      "Episode: 165, total_reward:23.0\n",
      "Episode: 166, total_reward:18.0\n"
     ]
    },
    {
     "name": "stderr",
     "output_type": "stream",
     "text": [
      "/home/user/anaconda3/lib/python3.8/site-packages/torch/nn/modules/loss.py:520: UserWarning: Using a target size (torch.Size([33])) that is different to the input size (torch.Size([33, 1])). This will likely lead to incorrect results due to broadcasting. Please ensure they have the same size.\n",
      "  return F.mse_loss(input, target, reduction=self.reduction)\n"
     ]
    },
    {
     "name": "stdout",
     "output_type": "stream",
     "text": [
      "Episode: 167, total_reward:17.0\n",
      "Episode: 168, total_reward:27.0\n",
      "Episode: 169, total_reward:21.0\n",
      "Episode: 170, total_reward:13.0\n",
      "Episode: 171, total_reward:42.0\n",
      "Episode: 172, total_reward:36.0\n",
      "Episode: 173, total_reward:22.0\n"
     ]
    },
    {
     "name": "stderr",
     "output_type": "stream",
     "text": [
      "/home/user/anaconda3/lib/python3.8/site-packages/torch/nn/modules/loss.py:520: UserWarning: Using a target size (torch.Size([42])) that is different to the input size (torch.Size([42, 1])). This will likely lead to incorrect results due to broadcasting. Please ensure they have the same size.\n",
      "  return F.mse_loss(input, target, reduction=self.reduction)\n"
     ]
    },
    {
     "name": "stdout",
     "output_type": "stream",
     "text": [
      "Episode: 174, total_reward:18.0\n",
      "Episode: 175, total_reward:30.0\n",
      "Episode: 176, total_reward:49.0\n",
      "Episode: 177, total_reward:84.0\n"
     ]
    },
    {
     "name": "stderr",
     "output_type": "stream",
     "text": [
      "/home/user/anaconda3/lib/python3.8/site-packages/torch/nn/modules/loss.py:520: UserWarning: Using a target size (torch.Size([49])) that is different to the input size (torch.Size([49, 1])). This will likely lead to incorrect results due to broadcasting. Please ensure they have the same size.\n",
      "  return F.mse_loss(input, target, reduction=self.reduction)\n",
      "/home/user/anaconda3/lib/python3.8/site-packages/torch/nn/modules/loss.py:520: UserWarning: Using a target size (torch.Size([84])) that is different to the input size (torch.Size([84, 1])). This will likely lead to incorrect results due to broadcasting. Please ensure they have the same size.\n",
      "  return F.mse_loss(input, target, reduction=self.reduction)\n"
     ]
    },
    {
     "name": "stdout",
     "output_type": "stream",
     "text": [
      "Episode: 178, total_reward:39.0\n",
      "Episode: 179, total_reward:63.0\n",
      "Episode: 180, total_reward:36.0\n",
      "Episode: 181, total_reward:59.0\n",
      "Episode: 182, total_reward:35.0\n",
      "Episode: 183, total_reward:63.0\n",
      "Episode: 184, total_reward:49.0\n",
      "Episode: 185, total_reward:22.0\n",
      "Episode: 186, total_reward:25.0\n",
      "Episode: 187, total_reward:22.0\n",
      "Episode: 188, total_reward:66.0\n"
     ]
    },
    {
     "name": "stderr",
     "output_type": "stream",
     "text": [
      "/home/user/anaconda3/lib/python3.8/site-packages/torch/nn/modules/loss.py:520: UserWarning: Using a target size (torch.Size([66])) that is different to the input size (torch.Size([66, 1])). This will likely lead to incorrect results due to broadcasting. Please ensure they have the same size.\n",
      "  return F.mse_loss(input, target, reduction=self.reduction)\n"
     ]
    },
    {
     "name": "stdout",
     "output_type": "stream",
     "text": [
      "Episode: 189, total_reward:34.0\n",
      "Episode: 190, total_reward:30.0\n",
      "Episode: 191, total_reward:29.0\n",
      "Episode: 192, total_reward:36.0\n",
      "Episode: 193, total_reward:39.0\n",
      "Episode: 194, total_reward:17.0\n",
      "Episode: 195, total_reward:18.0\n",
      "Episode: 196, total_reward:23.0\n",
      "Episode: 197, total_reward:33.0\n",
      "Episode: 198, total_reward:61.0\n",
      "Episode: 199, total_reward:12.0\n",
      "Episode: 200, total_reward:49.0\n",
      "Episode: 201, total_reward:37.0\n",
      "Episode: 202, total_reward:32.0\n",
      "Episode: 203, total_reward:12.0\n",
      "Episode: 204, total_reward:63.0\n",
      "Episode: 205, total_reward:19.0\n",
      "Episode: 206, total_reward:34.0\n",
      "Episode: 207, total_reward:40.0\n",
      "Episode: 208, total_reward:23.0\n",
      "Episode: 209, total_reward:33.0\n",
      "Episode: 210, total_reward:64.0\n",
      "Episode: 211, total_reward:34.0\n"
     ]
    },
    {
     "name": "stderr",
     "output_type": "stream",
     "text": [
      "/home/user/anaconda3/lib/python3.8/site-packages/torch/nn/modules/loss.py:520: UserWarning: Using a target size (torch.Size([40])) that is different to the input size (torch.Size([40, 1])). This will likely lead to incorrect results due to broadcasting. Please ensure they have the same size.\n",
      "  return F.mse_loss(input, target, reduction=self.reduction)\n",
      "/home/user/anaconda3/lib/python3.8/site-packages/torch/nn/modules/loss.py:520: UserWarning: Using a target size (torch.Size([64])) that is different to the input size (torch.Size([64, 1])). This will likely lead to incorrect results due to broadcasting. Please ensure they have the same size.\n",
      "  return F.mse_loss(input, target, reduction=self.reduction)\n"
     ]
    },
    {
     "name": "stdout",
     "output_type": "stream",
     "text": [
      "Episode: 212, total_reward:22.0\n",
      "Episode: 213, total_reward:28.0\n",
      "Episode: 214, total_reward:39.0\n",
      "Episode: 215, total_reward:21.0\n",
      "Episode: 216, total_reward:25.0\n",
      "Episode: 217, total_reward:26.0\n",
      "Episode: 218, total_reward:145.0\n",
      "Episode: 219, total_reward:23.0\n",
      "Episode: 220, total_reward:35.0\n"
     ]
    },
    {
     "name": "stderr",
     "output_type": "stream",
     "text": [
      "/home/user/anaconda3/lib/python3.8/site-packages/torch/nn/modules/loss.py:520: UserWarning: Using a target size (torch.Size([145])) that is different to the input size (torch.Size([145, 1])). This will likely lead to incorrect results due to broadcasting. Please ensure they have the same size.\n",
      "  return F.mse_loss(input, target, reduction=self.reduction)\n",
      "/home/user/anaconda3/lib/python3.8/site-packages/torch/nn/modules/loss.py:520: UserWarning: Using a target size (torch.Size([51])) that is different to the input size (torch.Size([51, 1])). This will likely lead to incorrect results due to broadcasting. Please ensure they have the same size.\n",
      "  return F.mse_loss(input, target, reduction=self.reduction)\n"
     ]
    },
    {
     "name": "stdout",
     "output_type": "stream",
     "text": [
      "Episode: 221, total_reward:23.0\n",
      "Episode: 222, total_reward:53.0\n",
      "Episode: 223, total_reward:51.0\n",
      "Episode: 224, total_reward:24.0\n",
      "Episode: 225, total_reward:27.0\n",
      "Episode: 226, total_reward:36.0\n"
     ]
    },
    {
     "name": "stderr",
     "output_type": "stream",
     "text": [
      "/home/user/anaconda3/lib/python3.8/site-packages/torch/nn/modules/loss.py:520: UserWarning: Using a target size (torch.Size([65])) that is different to the input size (torch.Size([65, 1])). This will likely lead to incorrect results due to broadcasting. Please ensure they have the same size.\n",
      "  return F.mse_loss(input, target, reduction=self.reduction)\n",
      "/home/user/anaconda3/lib/python3.8/site-packages/torch/nn/modules/loss.py:520: UserWarning: Using a target size (torch.Size([67])) that is different to the input size (torch.Size([67, 1])). This will likely lead to incorrect results due to broadcasting. Please ensure they have the same size.\n",
      "  return F.mse_loss(input, target, reduction=self.reduction)\n",
      "/home/user/anaconda3/lib/python3.8/site-packages/torch/nn/modules/loss.py:520: UserWarning: Using a target size (torch.Size([58])) that is different to the input size (torch.Size([58, 1])). This will likely lead to incorrect results due to broadcasting. Please ensure they have the same size.\n",
      "  return F.mse_loss(input, target, reduction=self.reduction)\n"
     ]
    },
    {
     "name": "stdout",
     "output_type": "stream",
     "text": [
      "Episode: 227, total_reward:65.0\n",
      "Episode: 228, total_reward:67.0\n",
      "Episode: 229, total_reward:58.0\n",
      "Episode: 230, total_reward:65.0\n",
      "Episode: 231, total_reward:63.0\n",
      "Episode: 232, total_reward:48.0\n",
      "Episode: 233, total_reward:50.0\n",
      "Episode: 234, total_reward:55.0\n",
      "Episode: 235, total_reward:33.0\n"
     ]
    },
    {
     "name": "stderr",
     "output_type": "stream",
     "text": [
      "/home/user/anaconda3/lib/python3.8/site-packages/torch/nn/modules/loss.py:520: UserWarning: Using a target size (torch.Size([55])) that is different to the input size (torch.Size([55, 1])). This will likely lead to incorrect results due to broadcasting. Please ensure they have the same size.\n",
      "  return F.mse_loss(input, target, reduction=self.reduction)\n"
     ]
    },
    {
     "name": "stdout",
     "output_type": "stream",
     "text": [
      "Episode: 236, total_reward:49.0\n",
      "Episode: 237, total_reward:57.0\n",
      "Episode: 238, total_reward:35.0\n",
      "Episode: 239, total_reward:28.0\n",
      "Episode: 240, total_reward:65.0\n",
      "Episode: 241, total_reward:22.0\n",
      "Episode: 242, total_reward:61.0\n",
      "Episode: 243, total_reward:43.0\n"
     ]
    },
    {
     "name": "stderr",
     "output_type": "stream",
     "text": [
      "/home/user/anaconda3/lib/python3.8/site-packages/torch/nn/modules/loss.py:520: UserWarning: Using a target size (torch.Size([43])) that is different to the input size (torch.Size([43, 1])). This will likely lead to incorrect results due to broadcasting. Please ensure they have the same size.\n",
      "  return F.mse_loss(input, target, reduction=self.reduction)\n",
      "/home/user/anaconda3/lib/python3.8/site-packages/torch/nn/modules/loss.py:520: UserWarning: Using a target size (torch.Size([79])) that is different to the input size (torch.Size([79, 1])). This will likely lead to incorrect results due to broadcasting. Please ensure they have the same size.\n",
      "  return F.mse_loss(input, target, reduction=self.reduction)\n"
     ]
    },
    {
     "name": "stdout",
     "output_type": "stream",
     "text": [
      "Episode: 244, total_reward:79.0\n",
      "Episode: 245, total_reward:50.0\n",
      "Episode: 246, total_reward:47.0\n",
      "Episode: 247, total_reward:26.0\n",
      "Episode: 248, total_reward:45.0\n",
      "Episode: 249, total_reward:65.0\n",
      "Episode: 250, total_reward:40.0\n",
      "Episode: 251, total_reward:42.0\n",
      "Episode: 252, total_reward:30.0\n",
      "Episode: 253, total_reward:43.0\n",
      "Episode: 254, total_reward:52.0\n",
      "Episode: 255, total_reward:27.0\n",
      "Episode: 256, total_reward:71.0\n",
      "Episode: 257, total_reward:42.0\n",
      "Episode: 258, total_reward:50.0\n",
      "Episode: 259, total_reward:70.0\n",
      "Episode: 260, total_reward:37.0\n",
      "Episode: 261, total_reward:36.0\n"
     ]
    },
    {
     "name": "stderr",
     "output_type": "stream",
     "text": [
      "/home/user/anaconda3/lib/python3.8/site-packages/torch/nn/modules/loss.py:520: UserWarning: Using a target size (torch.Size([71])) that is different to the input size (torch.Size([71, 1])). This will likely lead to incorrect results due to broadcasting. Please ensure they have the same size.\n",
      "  return F.mse_loss(input, target, reduction=self.reduction)\n",
      "/home/user/anaconda3/lib/python3.8/site-packages/torch/nn/modules/loss.py:520: UserWarning: Using a target size (torch.Size([70])) that is different to the input size (torch.Size([70, 1])). This will likely lead to incorrect results due to broadcasting. Please ensure they have the same size.\n",
      "  return F.mse_loss(input, target, reduction=self.reduction)\n",
      "/home/user/anaconda3/lib/python3.8/site-packages/torch/nn/modules/loss.py:520: UserWarning: Using a target size (torch.Size([150])) that is different to the input size (torch.Size([150, 1])). This will likely lead to incorrect results due to broadcasting. Please ensure they have the same size.\n",
      "  return F.mse_loss(input, target, reduction=self.reduction)\n"
     ]
    },
    {
     "name": "stdout",
     "output_type": "stream",
     "text": [
      "Episode: 262, total_reward:150.0\n",
      "Episode: 263, total_reward:58.0\n",
      "Episode: 264, total_reward:67.0\n",
      "Episode: 265, total_reward:32.0\n",
      "Episode: 266, total_reward:59.0\n",
      "Episode: 267, total_reward:26.0\n",
      "Episode: 268, total_reward:23.0\n",
      "Episode: 269, total_reward:34.0\n",
      "Episode: 270, total_reward:56.0\n",
      "Episode: 271, total_reward:47.0\n",
      "Episode: 272, total_reward:31.0\n"
     ]
    },
    {
     "name": "stderr",
     "output_type": "stream",
     "text": [
      "/home/user/anaconda3/lib/python3.8/site-packages/torch/nn/modules/loss.py:520: UserWarning: Using a target size (torch.Size([56])) that is different to the input size (torch.Size([56, 1])). This will likely lead to incorrect results due to broadcasting. Please ensure they have the same size.\n",
      "  return F.mse_loss(input, target, reduction=self.reduction)\n",
      "/home/user/anaconda3/lib/python3.8/site-packages/torch/nn/modules/loss.py:520: UserWarning: Using a target size (torch.Size([69])) that is different to the input size (torch.Size([69, 1])). This will likely lead to incorrect results due to broadcasting. Please ensure they have the same size.\n",
      "  return F.mse_loss(input, target, reduction=self.reduction)\n"
     ]
    },
    {
     "name": "stdout",
     "output_type": "stream",
     "text": [
      "Episode: 273, total_reward:69.0\n",
      "Episode: 274, total_reward:72.0\n",
      "Episode: 275, total_reward:39.0\n"
     ]
    },
    {
     "name": "stderr",
     "output_type": "stream",
     "text": [
      "/home/user/anaconda3/lib/python3.8/site-packages/torch/nn/modules/loss.py:520: UserWarning: Using a target size (torch.Size([72])) that is different to the input size (torch.Size([72, 1])). This will likely lead to incorrect results due to broadcasting. Please ensure they have the same size.\n",
      "  return F.mse_loss(input, target, reduction=self.reduction)\n",
      "/home/user/anaconda3/lib/python3.8/site-packages/torch/nn/modules/loss.py:520: UserWarning: Using a target size (torch.Size([68])) that is different to the input size (torch.Size([68, 1])). This will likely lead to incorrect results due to broadcasting. Please ensure they have the same size.\n",
      "  return F.mse_loss(input, target, reduction=self.reduction)\n"
     ]
    },
    {
     "name": "stdout",
     "output_type": "stream",
     "text": [
      "Episode: 276, total_reward:68.0\n",
      "Episode: 277, total_reward:77.0\n",
      "Episode: 278, total_reward:69.0\n"
     ]
    },
    {
     "name": "stderr",
     "output_type": "stream",
     "text": [
      "/home/user/anaconda3/lib/python3.8/site-packages/torch/nn/modules/loss.py:520: UserWarning: Using a target size (torch.Size([77])) that is different to the input size (torch.Size([77, 1])). This will likely lead to incorrect results due to broadcasting. Please ensure they have the same size.\n",
      "  return F.mse_loss(input, target, reduction=self.reduction)\n"
     ]
    },
    {
     "name": "stdout",
     "output_type": "stream",
     "text": [
      "Episode: 279, total_reward:79.0\n",
      "Episode: 280, total_reward:44.0\n",
      "Episode: 281, total_reward:74.0\n"
     ]
    },
    {
     "name": "stderr",
     "output_type": "stream",
     "text": [
      "/home/user/anaconda3/lib/python3.8/site-packages/torch/nn/modules/loss.py:520: UserWarning: Using a target size (torch.Size([74])) that is different to the input size (torch.Size([74, 1])). This will likely lead to incorrect results due to broadcasting. Please ensure they have the same size.\n",
      "  return F.mse_loss(input, target, reduction=self.reduction)\n"
     ]
    },
    {
     "name": "stdout",
     "output_type": "stream",
     "text": [
      "Episode: 282, total_reward:52.0\n",
      "Episode: 283, total_reward:23.0\n",
      "Episode: 284, total_reward:42.0\n",
      "Episode: 285, total_reward:27.0\n",
      "Episode: 286, total_reward:49.0\n",
      "Episode: 287, total_reward:48.0\n"
     ]
    },
    {
     "name": "stderr",
     "output_type": "stream",
     "text": [
      "/home/user/anaconda3/lib/python3.8/site-packages/torch/nn/modules/loss.py:520: UserWarning: Using a target size (torch.Size([86])) that is different to the input size (torch.Size([86, 1])). This will likely lead to incorrect results due to broadcasting. Please ensure they have the same size.\n",
      "  return F.mse_loss(input, target, reduction=self.reduction)\n"
     ]
    },
    {
     "name": "stdout",
     "output_type": "stream",
     "text": [
      "Episode: 288, total_reward:86.0\n",
      "Episode: 289, total_reward:43.0\n",
      "Episode: 290, total_reward:83.0\n",
      "Episode: 291, total_reward:59.0\n"
     ]
    },
    {
     "name": "stderr",
     "output_type": "stream",
     "text": [
      "/home/user/anaconda3/lib/python3.8/site-packages/torch/nn/modules/loss.py:520: UserWarning: Using a target size (torch.Size([136])) that is different to the input size (torch.Size([136, 1])). This will likely lead to incorrect results due to broadcasting. Please ensure they have the same size.\n",
      "  return F.mse_loss(input, target, reduction=self.reduction)\n",
      "/home/user/anaconda3/lib/python3.8/site-packages/torch/nn/modules/loss.py:520: UserWarning: Using a target size (torch.Size([110])) that is different to the input size (torch.Size([110, 1])). This will likely lead to incorrect results due to broadcasting. Please ensure they have the same size.\n",
      "  return F.mse_loss(input, target, reduction=self.reduction)\n"
     ]
    },
    {
     "name": "stdout",
     "output_type": "stream",
     "text": [
      "Episode: 292, total_reward:136.0\n",
      "Episode: 293, total_reward:37.0\n",
      "Episode: 294, total_reward:29.0\n",
      "Episode: 295, total_reward:37.0\n",
      "Episode: 296, total_reward:39.0\n",
      "Episode: 297, total_reward:55.0\n",
      "Episode: 298, total_reward:61.0\n",
      "Episode: 299, total_reward:110.0\n",
      "Episode: 300, total_reward:41.0\n",
      "Episode: 301, total_reward:79.0\n",
      "Episode: 302, total_reward:32.0\n",
      "Episode: 303, total_reward:22.0\n",
      "Episode: 304, total_reward:75.0\n",
      "Episode: 305, total_reward:31.0\n",
      "Episode: 306, total_reward:51.0\n"
     ]
    },
    {
     "name": "stderr",
     "output_type": "stream",
     "text": [
      "/home/user/anaconda3/lib/python3.8/site-packages/torch/nn/modules/loss.py:520: UserWarning: Using a target size (torch.Size([75])) that is different to the input size (torch.Size([75, 1])). This will likely lead to incorrect results due to broadcasting. Please ensure they have the same size.\n",
      "  return F.mse_loss(input, target, reduction=self.reduction)\n"
     ]
    },
    {
     "name": "stdout",
     "output_type": "stream",
     "text": [
      "Episode: 307, total_reward:110.0\n",
      "Episode: 308, total_reward:68.0\n",
      "Episode: 309, total_reward:54.0\n",
      "Episode: 310, total_reward:44.0\n",
      "Episode: 311, total_reward:24.0\n",
      "Episode: 312, total_reward:46.0\n",
      "Episode: 313, total_reward:60.0\n",
      "Episode: 314, total_reward:27.0\n",
      "Episode: 315, total_reward:75.0\n",
      "Episode: 316, total_reward:45.0\n"
     ]
    },
    {
     "name": "stderr",
     "output_type": "stream",
     "text": [
      "/home/user/anaconda3/lib/python3.8/site-packages/torch/nn/modules/loss.py:520: UserWarning: Using a target size (torch.Size([60])) that is different to the input size (torch.Size([60, 1])). This will likely lead to incorrect results due to broadcasting. Please ensure they have the same size.\n",
      "  return F.mse_loss(input, target, reduction=self.reduction)\n"
     ]
    },
    {
     "name": "stdout",
     "output_type": "stream",
     "text": [
      "Episode: 317, total_reward:48.0\n",
      "Episode: 318, total_reward:108.0\n"
     ]
    },
    {
     "name": "stderr",
     "output_type": "stream",
     "text": [
      "/home/user/anaconda3/lib/python3.8/site-packages/torch/nn/modules/loss.py:520: UserWarning: Using a target size (torch.Size([108])) that is different to the input size (torch.Size([108, 1])). This will likely lead to incorrect results due to broadcasting. Please ensure they have the same size.\n",
      "  return F.mse_loss(input, target, reduction=self.reduction)\n",
      "/home/user/anaconda3/lib/python3.8/site-packages/torch/nn/modules/loss.py:520: UserWarning: Using a target size (torch.Size([82])) that is different to the input size (torch.Size([82, 1])). This will likely lead to incorrect results due to broadcasting. Please ensure they have the same size.\n",
      "  return F.mse_loss(input, target, reduction=self.reduction)\n"
     ]
    },
    {
     "name": "stdout",
     "output_type": "stream",
     "text": [
      "Episode: 319, total_reward:82.0\n",
      "Episode: 320, total_reward:47.0\n",
      "Episode: 321, total_reward:81.0\n",
      "Episode: 322, total_reward:50.0\n"
     ]
    },
    {
     "name": "stderr",
     "output_type": "stream",
     "text": [
      "/home/user/anaconda3/lib/python3.8/site-packages/torch/nn/modules/loss.py:520: UserWarning: Using a target size (torch.Size([81])) that is different to the input size (torch.Size([81, 1])). This will likely lead to incorrect results due to broadcasting. Please ensure they have the same size.\n",
      "  return F.mse_loss(input, target, reduction=self.reduction)\n",
      "/home/user/anaconda3/lib/python3.8/site-packages/torch/nn/modules/loss.py:520: UserWarning: Using a target size (torch.Size([87])) that is different to the input size (torch.Size([87, 1])). This will likely lead to incorrect results due to broadcasting. Please ensure they have the same size.\n",
      "  return F.mse_loss(input, target, reduction=self.reduction)\n"
     ]
    },
    {
     "name": "stdout",
     "output_type": "stream",
     "text": [
      "Episode: 323, total_reward:55.0\n",
      "Episode: 324, total_reward:87.0\n",
      "Episode: 325, total_reward:50.0\n",
      "Episode: 326, total_reward:65.0\n"
     ]
    },
    {
     "name": "stderr",
     "output_type": "stream",
     "text": [
      "/home/user/anaconda3/lib/python3.8/site-packages/torch/nn/modules/loss.py:520: UserWarning: Using a target size (torch.Size([171])) that is different to the input size (torch.Size([171, 1])). This will likely lead to incorrect results due to broadcasting. Please ensure they have the same size.\n",
      "  return F.mse_loss(input, target, reduction=self.reduction)\n",
      "/home/user/anaconda3/lib/python3.8/site-packages/torch/nn/modules/loss.py:520: UserWarning: Using a target size (torch.Size([88])) that is different to the input size (torch.Size([88, 1])). This will likely lead to incorrect results due to broadcasting. Please ensure they have the same size.\n",
      "  return F.mse_loss(input, target, reduction=self.reduction)\n"
     ]
    },
    {
     "name": "stdout",
     "output_type": "stream",
     "text": [
      "Episode: 327, total_reward:171.0\n",
      "Episode: 328, total_reward:88.0\n",
      "Episode: 329, total_reward:54.0\n",
      "Episode: 330, total_reward:58.0\n",
      "Episode: 331, total_reward:39.0\n",
      "Episode: 332, total_reward:59.0\n",
      "Episode: 333, total_reward:61.0\n",
      "Episode: 334, total_reward:115.0\n",
      "Episode: 335, total_reward:31.0\n",
      "Episode: 336, total_reward:84.0\n"
     ]
    },
    {
     "name": "stderr",
     "output_type": "stream",
     "text": [
      "/home/user/anaconda3/lib/python3.8/site-packages/torch/nn/modules/loss.py:520: UserWarning: Using a target size (torch.Size([115])) that is different to the input size (torch.Size([115, 1])). This will likely lead to incorrect results due to broadcasting. Please ensure they have the same size.\n",
      "  return F.mse_loss(input, target, reduction=self.reduction)\n",
      "/home/user/anaconda3/lib/python3.8/site-packages/torch/nn/modules/loss.py:520: UserWarning: Using a target size (torch.Size([96])) that is different to the input size (torch.Size([96, 1])). This will likely lead to incorrect results due to broadcasting. Please ensure they have the same size.\n",
      "  return F.mse_loss(input, target, reduction=self.reduction)\n"
     ]
    },
    {
     "name": "stdout",
     "output_type": "stream",
     "text": [
      "Episode: 337, total_reward:96.0\n",
      "Episode: 338, total_reward:33.0\n",
      "Episode: 339, total_reward:92.0\n"
     ]
    },
    {
     "name": "stderr",
     "output_type": "stream",
     "text": [
      "/home/user/anaconda3/lib/python3.8/site-packages/torch/nn/modules/loss.py:520: UserWarning: Using a target size (torch.Size([92])) that is different to the input size (torch.Size([92, 1])). This will likely lead to incorrect results due to broadcasting. Please ensure they have the same size.\n",
      "  return F.mse_loss(input, target, reduction=self.reduction)\n",
      "/home/user/anaconda3/lib/python3.8/site-packages/torch/nn/modules/loss.py:520: UserWarning: Using a target size (torch.Size([195])) that is different to the input size (torch.Size([195, 1])). This will likely lead to incorrect results due to broadcasting. Please ensure they have the same size.\n",
      "  return F.mse_loss(input, target, reduction=self.reduction)\n"
     ]
    },
    {
     "name": "stdout",
     "output_type": "stream",
     "text": [
      "Episode: 340, total_reward:195.0\n",
      "Episode: 341, total_reward:70.0\n",
      "Episode: 342, total_reward:37.0\n",
      "Episode: 343, total_reward:11.0\n",
      "Episode: 344, total_reward:63.0\n",
      "Episode: 345, total_reward:63.0\n",
      "Episode: 346, total_reward:13.0\n",
      "Episode: 347, total_reward:122.0\n",
      "Episode: 348, total_reward:91.0\n"
     ]
    },
    {
     "name": "stderr",
     "output_type": "stream",
     "text": [
      "/home/user/anaconda3/lib/python3.8/site-packages/torch/nn/modules/loss.py:520: UserWarning: Using a target size (torch.Size([122])) that is different to the input size (torch.Size([122, 1])). This will likely lead to incorrect results due to broadcasting. Please ensure they have the same size.\n",
      "  return F.mse_loss(input, target, reduction=self.reduction)\n",
      "/home/user/anaconda3/lib/python3.8/site-packages/torch/nn/modules/loss.py:520: UserWarning: Using a target size (torch.Size([91])) that is different to the input size (torch.Size([91, 1])). This will likely lead to incorrect results due to broadcasting. Please ensure they have the same size.\n",
      "  return F.mse_loss(input, target, reduction=self.reduction)\n",
      "/home/user/anaconda3/lib/python3.8/site-packages/torch/nn/modules/loss.py:520: UserWarning: Using a target size (torch.Size([85])) that is different to the input size (torch.Size([85, 1])). This will likely lead to incorrect results due to broadcasting. Please ensure they have the same size.\n",
      "  return F.mse_loss(input, target, reduction=self.reduction)\n"
     ]
    },
    {
     "name": "stdout",
     "output_type": "stream",
     "text": [
      "Episode: 349, total_reward:85.0\n",
      "Episode: 350, total_reward:200.0\n"
     ]
    },
    {
     "name": "stderr",
     "output_type": "stream",
     "text": [
      "/home/user/anaconda3/lib/python3.8/site-packages/torch/nn/modules/loss.py:520: UserWarning: Using a target size (torch.Size([200])) that is different to the input size (torch.Size([200, 1])). This will likely lead to incorrect results due to broadcasting. Please ensure they have the same size.\n",
      "  return F.mse_loss(input, target, reduction=self.reduction)\n"
     ]
    },
    {
     "name": "stdout",
     "output_type": "stream",
     "text": [
      "Episode: 351, total_reward:115.0\n",
      "Episode: 352, total_reward:32.0\n",
      "Episode: 353, total_reward:124.0\n",
      "Episode: 354, total_reward:56.0\n"
     ]
    },
    {
     "name": "stderr",
     "output_type": "stream",
     "text": [
      "/home/user/anaconda3/lib/python3.8/site-packages/torch/nn/modules/loss.py:520: UserWarning: Using a target size (torch.Size([124])) that is different to the input size (torch.Size([124, 1])). This will likely lead to incorrect results due to broadcasting. Please ensure they have the same size.\n",
      "  return F.mse_loss(input, target, reduction=self.reduction)\n",
      "/home/user/anaconda3/lib/python3.8/site-packages/torch/nn/modules/loss.py:520: UserWarning: Using a target size (torch.Size([155])) that is different to the input size (torch.Size([155, 1])). This will likely lead to incorrect results due to broadcasting. Please ensure they have the same size.\n",
      "  return F.mse_loss(input, target, reduction=self.reduction)\n",
      "/home/user/anaconda3/lib/python3.8/site-packages/torch/nn/modules/loss.py:520: UserWarning: Using a target size (torch.Size([62])) that is different to the input size (torch.Size([62, 1])). This will likely lead to incorrect results due to broadcasting. Please ensure they have the same size.\n",
      "  return F.mse_loss(input, target, reduction=self.reduction)\n",
      "/home/user/anaconda3/lib/python3.8/site-packages/torch/nn/modules/loss.py:520: UserWarning: Using a target size (torch.Size([78])) that is different to the input size (torch.Size([78, 1])). This will likely lead to incorrect results due to broadcasting. Please ensure they have the same size.\n",
      "  return F.mse_loss(input, target, reduction=self.reduction)\n"
     ]
    },
    {
     "name": "stdout",
     "output_type": "stream",
     "text": [
      "Episode: 355, total_reward:155.0\n",
      "Episode: 356, total_reward:62.0\n",
      "Episode: 357, total_reward:78.0\n"
     ]
    },
    {
     "name": "stderr",
     "output_type": "stream",
     "text": [
      "/home/user/anaconda3/lib/python3.8/site-packages/torch/nn/modules/loss.py:520: UserWarning: Using a target size (torch.Size([165])) that is different to the input size (torch.Size([165, 1])). This will likely lead to incorrect results due to broadcasting. Please ensure they have the same size.\n",
      "  return F.mse_loss(input, target, reduction=self.reduction)\n",
      "/home/user/anaconda3/lib/python3.8/site-packages/torch/nn/modules/loss.py:520: UserWarning: Using a target size (torch.Size([120])) that is different to the input size (torch.Size([120, 1])). This will likely lead to incorrect results due to broadcasting. Please ensure they have the same size.\n",
      "  return F.mse_loss(input, target, reduction=self.reduction)\n",
      "/home/user/anaconda3/lib/python3.8/site-packages/torch/nn/modules/loss.py:520: UserWarning: Using a target size (torch.Size([131])) that is different to the input size (torch.Size([131, 1])). This will likely lead to incorrect results due to broadcasting. Please ensure they have the same size.\n",
      "  return F.mse_loss(input, target, reduction=self.reduction)\n"
     ]
    },
    {
     "name": "stdout",
     "output_type": "stream",
     "text": [
      "Episode: 358, total_reward:165.0\n",
      "Episode: 359, total_reward:38.0\n",
      "Episode: 360, total_reward:120.0\n",
      "Episode: 361, total_reward:131.0\n"
     ]
    },
    {
     "name": "stderr",
     "output_type": "stream",
     "text": [
      "/home/user/anaconda3/lib/python3.8/site-packages/torch/nn/modules/loss.py:520: UserWarning: Using a target size (torch.Size([162])) that is different to the input size (torch.Size([162, 1])). This will likely lead to incorrect results due to broadcasting. Please ensure they have the same size.\n",
      "  return F.mse_loss(input, target, reduction=self.reduction)\n",
      "/home/user/anaconda3/lib/python3.8/site-packages/torch/nn/modules/loss.py:520: UserWarning: Using a target size (torch.Size([125])) that is different to the input size (torch.Size([125, 1])). This will likely lead to incorrect results due to broadcasting. Please ensure they have the same size.\n",
      "  return F.mse_loss(input, target, reduction=self.reduction)\n"
     ]
    },
    {
     "name": "stdout",
     "output_type": "stream",
     "text": [
      "Episode: 362, total_reward:162.0\n",
      "Episode: 363, total_reward:26.0\n",
      "Episode: 364, total_reward:51.0\n",
      "Episode: 365, total_reward:95.0\n",
      "Episode: 366, total_reward:125.0\n",
      "Episode: 367, total_reward:74.0\n"
     ]
    },
    {
     "name": "stderr",
     "output_type": "stream",
     "text": [
      "/home/user/anaconda3/lib/python3.8/site-packages/torch/nn/modules/loss.py:520: UserWarning: Using a target size (torch.Size([172])) that is different to the input size (torch.Size([172, 1])). This will likely lead to incorrect results due to broadcasting. Please ensure they have the same size.\n",
      "  return F.mse_loss(input, target, reduction=self.reduction)\n"
     ]
    },
    {
     "name": "stdout",
     "output_type": "stream",
     "text": [
      "Episode: 368, total_reward:172.0\n",
      "Episode: 369, total_reward:155.0\n",
      "Episode: 370, total_reward:155.0\n",
      "Episode: 371, total_reward:95.0\n",
      "Episode: 372, total_reward:82.0\n"
     ]
    },
    {
     "name": "stderr",
     "output_type": "stream",
     "text": [
      "/home/user/anaconda3/lib/python3.8/site-packages/torch/nn/modules/loss.py:520: UserWarning: Using a target size (torch.Size([160])) that is different to the input size (torch.Size([160, 1])). This will likely lead to incorrect results due to broadcasting. Please ensure they have the same size.\n",
      "  return F.mse_loss(input, target, reduction=self.reduction)\n"
     ]
    },
    {
     "name": "stdout",
     "output_type": "stream",
     "text": [
      "Episode: 373, total_reward:160.0\n",
      "Episode: 374, total_reward:200.0\n",
      "Episode: 375, total_reward:116.0\n"
     ]
    },
    {
     "name": "stderr",
     "output_type": "stream",
     "text": [
      "/home/user/anaconda3/lib/python3.8/site-packages/torch/nn/modules/loss.py:520: UserWarning: Using a target size (torch.Size([116])) that is different to the input size (torch.Size([116, 1])). This will likely lead to incorrect results due to broadcasting. Please ensure they have the same size.\n",
      "  return F.mse_loss(input, target, reduction=self.reduction)\n"
     ]
    },
    {
     "name": "stdout",
     "output_type": "stream",
     "text": [
      "Episode: 376, total_reward:62.0\n",
      "Episode: 377, total_reward:82.0\n",
      "Episode: 378, total_reward:71.0\n",
      "Episode: 379, total_reward:29.0\n",
      "Episode: 380, total_reward:125.0\n",
      "Episode: 381, total_reward:119.0\n",
      "Episode: 382, total_reward:73.0\n"
     ]
    },
    {
     "name": "stderr",
     "output_type": "stream",
     "text": [
      "/home/user/anaconda3/lib/python3.8/site-packages/torch/nn/modules/loss.py:520: UserWarning: Using a target size (torch.Size([119])) that is different to the input size (torch.Size([119, 1])). This will likely lead to incorrect results due to broadcasting. Please ensure they have the same size.\n",
      "  return F.mse_loss(input, target, reduction=self.reduction)\n",
      "/home/user/anaconda3/lib/python3.8/site-packages/torch/nn/modules/loss.py:520: UserWarning: Using a target size (torch.Size([73])) that is different to the input size (torch.Size([73, 1])). This will likely lead to incorrect results due to broadcasting. Please ensure they have the same size.\n",
      "  return F.mse_loss(input, target, reduction=self.reduction)\n",
      "/home/user/anaconda3/lib/python3.8/site-packages/torch/nn/modules/loss.py:520: UserWarning: Using a target size (torch.Size([169])) that is different to the input size (torch.Size([169, 1])). This will likely lead to incorrect results due to broadcasting. Please ensure they have the same size.\n",
      "  return F.mse_loss(input, target, reduction=self.reduction)\n"
     ]
    },
    {
     "name": "stdout",
     "output_type": "stream",
     "text": [
      "Episode: 383, total_reward:169.0\n",
      "Episode: 384, total_reward:190.0\n"
     ]
    },
    {
     "name": "stderr",
     "output_type": "stream",
     "text": [
      "/home/user/anaconda3/lib/python3.8/site-packages/torch/nn/modules/loss.py:520: UserWarning: Using a target size (torch.Size([190])) that is different to the input size (torch.Size([190, 1])). This will likely lead to incorrect results due to broadcasting. Please ensure they have the same size.\n",
      "  return F.mse_loss(input, target, reduction=self.reduction)\n"
     ]
    },
    {
     "name": "stdout",
     "output_type": "stream",
     "text": [
      "Episode: 385, total_reward:200.0\n",
      "Episode: 386, total_reward:65.0\n",
      "Episode: 387, total_reward:99.0\n",
      "Episode: 388, total_reward:82.0\n"
     ]
    },
    {
     "name": "stderr",
     "output_type": "stream",
     "text": [
      "/home/user/anaconda3/lib/python3.8/site-packages/torch/nn/modules/loss.py:520: UserWarning: Using a target size (torch.Size([99])) that is different to the input size (torch.Size([99, 1])). This will likely lead to incorrect results due to broadcasting. Please ensure they have the same size.\n",
      "  return F.mse_loss(input, target, reduction=self.reduction)\n"
     ]
    },
    {
     "name": "stdout",
     "output_type": "stream",
     "text": [
      "Episode: 389, total_reward:200.0\n",
      "Episode: 390, total_reward:172.0\n",
      "Episode: 391, total_reward:121.0\n"
     ]
    },
    {
     "name": "stderr",
     "output_type": "stream",
     "text": [
      "/home/user/anaconda3/lib/python3.8/site-packages/torch/nn/modules/loss.py:520: UserWarning: Using a target size (torch.Size([121])) that is different to the input size (torch.Size([121, 1])). This will likely lead to incorrect results due to broadcasting. Please ensure they have the same size.\n",
      "  return F.mse_loss(input, target, reduction=self.reduction)\n",
      "/home/user/anaconda3/lib/python3.8/site-packages/torch/nn/modules/loss.py:520: UserWarning: Using a target size (torch.Size([101])) that is different to the input size (torch.Size([101, 1])). This will likely lead to incorrect results due to broadcasting. Please ensure they have the same size.\n",
      "  return F.mse_loss(input, target, reduction=self.reduction)\n"
     ]
    },
    {
     "name": "stdout",
     "output_type": "stream",
     "text": [
      "Episode: 392, total_reward:101.0\n",
      "Episode: 393, total_reward:16.0\n",
      "Episode: 394, total_reward:32.0\n",
      "Episode: 395, total_reward:113.0\n"
     ]
    },
    {
     "name": "stderr",
     "output_type": "stream",
     "text": [
      "/home/user/anaconda3/lib/python3.8/site-packages/torch/nn/modules/loss.py:520: UserWarning: Using a target size (torch.Size([113])) that is different to the input size (torch.Size([113, 1])). This will likely lead to incorrect results due to broadcasting. Please ensure they have the same size.\n",
      "  return F.mse_loss(input, target, reduction=self.reduction)\n"
     ]
    },
    {
     "name": "stdout",
     "output_type": "stream",
     "text": [
      "Episode: 396, total_reward:73.0\n",
      "Episode: 397, total_reward:154.0\n"
     ]
    },
    {
     "name": "stderr",
     "output_type": "stream",
     "text": [
      "/home/user/anaconda3/lib/python3.8/site-packages/torch/nn/modules/loss.py:520: UserWarning: Using a target size (torch.Size([154])) that is different to the input size (torch.Size([154, 1])). This will likely lead to incorrect results due to broadcasting. Please ensure they have the same size.\n",
      "  return F.mse_loss(input, target, reduction=self.reduction)\n",
      "/home/user/anaconda3/lib/python3.8/site-packages/torch/nn/modules/loss.py:520: UserWarning: Using a target size (torch.Size([137])) that is different to the input size (torch.Size([137, 1])). This will likely lead to incorrect results due to broadcasting. Please ensure they have the same size.\n",
      "  return F.mse_loss(input, target, reduction=self.reduction)\n",
      "/home/user/anaconda3/lib/python3.8/site-packages/torch/nn/modules/loss.py:520: UserWarning: Using a target size (torch.Size([181])) that is different to the input size (torch.Size([181, 1])). This will likely lead to incorrect results due to broadcasting. Please ensure they have the same size.\n",
      "  return F.mse_loss(input, target, reduction=self.reduction)\n"
     ]
    },
    {
     "name": "stdout",
     "output_type": "stream",
     "text": [
      "Episode: 398, total_reward:137.0\n",
      "Episode: 399, total_reward:24.0\n",
      "Episode: 400, total_reward:181.0\n"
     ]
    },
    {
     "name": "stderr",
     "output_type": "stream",
     "text": [
      "/home/user/anaconda3/lib/python3.8/site-packages/torch/nn/modules/loss.py:520: UserWarning: Using a target size (torch.Size([134])) that is different to the input size (torch.Size([134, 1])). This will likely lead to incorrect results due to broadcasting. Please ensure they have the same size.\n",
      "  return F.mse_loss(input, target, reduction=self.reduction)\n"
     ]
    },
    {
     "name": "stdout",
     "output_type": "stream",
     "text": [
      "Episode: 401, total_reward:134.0\n",
      "Episode: 402, total_reward:71.0\n",
      "Episode: 403, total_reward:200.0\n",
      "Episode: 404, total_reward:107.0\n",
      "Episode: 405, total_reward:166.0\n",
      "Episode: 406, total_reward:192.0\n"
     ]
    },
    {
     "name": "stderr",
     "output_type": "stream",
     "text": [
      "/home/user/anaconda3/lib/python3.8/site-packages/torch/nn/modules/loss.py:520: UserWarning: Using a target size (torch.Size([107])) that is different to the input size (torch.Size([107, 1])). This will likely lead to incorrect results due to broadcasting. Please ensure they have the same size.\n",
      "  return F.mse_loss(input, target, reduction=self.reduction)\n",
      "/home/user/anaconda3/lib/python3.8/site-packages/torch/nn/modules/loss.py:520: UserWarning: Using a target size (torch.Size([166])) that is different to the input size (torch.Size([166, 1])). This will likely lead to incorrect results due to broadcasting. Please ensure they have the same size.\n",
      "  return F.mse_loss(input, target, reduction=self.reduction)\n",
      "/home/user/anaconda3/lib/python3.8/site-packages/torch/nn/modules/loss.py:520: UserWarning: Using a target size (torch.Size([192])) that is different to the input size (torch.Size([192, 1])). This will likely lead to incorrect results due to broadcasting. Please ensure they have the same size.\n",
      "  return F.mse_loss(input, target, reduction=self.reduction)\n"
     ]
    },
    {
     "name": "stdout",
     "output_type": "stream",
     "text": [
      "Episode: 407, total_reward:200.0\n",
      "Episode: 408, total_reward:177.0\n"
     ]
    },
    {
     "name": "stderr",
     "output_type": "stream",
     "text": [
      "/home/user/anaconda3/lib/python3.8/site-packages/torch/nn/modules/loss.py:520: UserWarning: Using a target size (torch.Size([177])) that is different to the input size (torch.Size([177, 1])). This will likely lead to incorrect results due to broadcasting. Please ensure they have the same size.\n",
      "  return F.mse_loss(input, target, reduction=self.reduction)\n"
     ]
    },
    {
     "name": "stdout",
     "output_type": "stream",
     "text": [
      "Episode: 409, total_reward:200.0\n"
     ]
    },
    {
     "name": "stderr",
     "output_type": "stream",
     "text": [
      "/home/user/anaconda3/lib/python3.8/site-packages/torch/nn/modules/loss.py:520: UserWarning: Using a target size (torch.Size([146])) that is different to the input size (torch.Size([146, 1])). This will likely lead to incorrect results due to broadcasting. Please ensure they have the same size.\n",
      "  return F.mse_loss(input, target, reduction=self.reduction)\n"
     ]
    },
    {
     "name": "stdout",
     "output_type": "stream",
     "text": [
      "Episode: 410, total_reward:146.0\n",
      "Episode: 411, total_reward:200.0\n",
      "Episode: 412, total_reward:200.0\n",
      "Episode: 413, total_reward:200.0\n",
      "Episode: 414, total_reward:200.0\n",
      "Episode: 415, total_reward:200.0\n",
      "Episode: 416, total_reward:146.0\n",
      "Episode: 417, total_reward:119.0\n",
      "Episode: 418, total_reward:132.0\n"
     ]
    },
    {
     "name": "stderr",
     "output_type": "stream",
     "text": [
      "/home/user/anaconda3/lib/python3.8/site-packages/torch/nn/modules/loss.py:520: UserWarning: Using a target size (torch.Size([132])) that is different to the input size (torch.Size([132, 1])). This will likely lead to incorrect results due to broadcasting. Please ensure they have the same size.\n",
      "  return F.mse_loss(input, target, reduction=self.reduction)\n",
      "/home/user/anaconda3/lib/python3.8/site-packages/torch/nn/modules/loss.py:520: UserWarning: Using a target size (torch.Size([173])) that is different to the input size (torch.Size([173, 1])). This will likely lead to incorrect results due to broadcasting. Please ensure they have the same size.\n",
      "  return F.mse_loss(input, target, reduction=self.reduction)\n"
     ]
    },
    {
     "name": "stdout",
     "output_type": "stream",
     "text": [
      "Episode: 419, total_reward:173.0\n",
      "Episode: 420, total_reward:200.0\n",
      "Episode: 421, total_reward:178.0\n"
     ]
    },
    {
     "name": "stderr",
     "output_type": "stream",
     "text": [
      "/home/user/anaconda3/lib/python3.8/site-packages/torch/nn/modules/loss.py:520: UserWarning: Using a target size (torch.Size([178])) that is different to the input size (torch.Size([178, 1])). This will likely lead to incorrect results due to broadcasting. Please ensure they have the same size.\n",
      "  return F.mse_loss(input, target, reduction=self.reduction)\n"
     ]
    },
    {
     "name": "stdout",
     "output_type": "stream",
     "text": [
      "Episode: 422, total_reward:200.0\n",
      "Episode: 423, total_reward:120.0\n"
     ]
    },
    {
     "name": "stderr",
     "output_type": "stream",
     "text": [
      "/home/user/anaconda3/lib/python3.8/site-packages/torch/nn/modules/loss.py:520: UserWarning: Using a target size (torch.Size([127])) that is different to the input size (torch.Size([127, 1])). This will likely lead to incorrect results due to broadcasting. Please ensure they have the same size.\n",
      "  return F.mse_loss(input, target, reduction=self.reduction)\n"
     ]
    },
    {
     "name": "stdout",
     "output_type": "stream",
     "text": [
      "Episode: 424, total_reward:127.0\n",
      "Episode: 425, total_reward:79.0\n",
      "Episode: 426, total_reward:200.0\n",
      "Episode: 427, total_reward:110.0\n",
      "Episode: 428, total_reward:200.0\n",
      "Episode: 429, total_reward:143.0\n"
     ]
    },
    {
     "name": "stderr",
     "output_type": "stream",
     "text": [
      "/home/user/anaconda3/lib/python3.8/site-packages/torch/nn/modules/loss.py:520: UserWarning: Using a target size (torch.Size([143])) that is different to the input size (torch.Size([143, 1])). This will likely lead to incorrect results due to broadcasting. Please ensure they have the same size.\n",
      "  return F.mse_loss(input, target, reduction=self.reduction)\n"
     ]
    },
    {
     "name": "stdout",
     "output_type": "stream",
     "text": [
      "Episode: 430, total_reward:200.0\n",
      "Episode: 431, total_reward:158.0\n"
     ]
    },
    {
     "name": "stderr",
     "output_type": "stream",
     "text": [
      "/home/user/anaconda3/lib/python3.8/site-packages/torch/nn/modules/loss.py:520: UserWarning: Using a target size (torch.Size([158])) that is different to the input size (torch.Size([158, 1])). This will likely lead to incorrect results due to broadcasting. Please ensure they have the same size.\n",
      "  return F.mse_loss(input, target, reduction=self.reduction)\n"
     ]
    },
    {
     "name": "stdout",
     "output_type": "stream",
     "text": [
      "Episode: 432, total_reward:200.0\n",
      "Episode: 433, total_reward:200.0\n",
      "Episode: 434, total_reward:197.0\n",
      "Episode: 435, total_reward:128.0\n"
     ]
    },
    {
     "name": "stderr",
     "output_type": "stream",
     "text": [
      "/home/user/anaconda3/lib/python3.8/site-packages/torch/nn/modules/loss.py:520: UserWarning: Using a target size (torch.Size([197])) that is different to the input size (torch.Size([197, 1])). This will likely lead to incorrect results due to broadcasting. Please ensure they have the same size.\n",
      "  return F.mse_loss(input, target, reduction=self.reduction)\n",
      "/home/user/anaconda3/lib/python3.8/site-packages/torch/nn/modules/loss.py:520: UserWarning: Using a target size (torch.Size([128])) that is different to the input size (torch.Size([128, 1])). This will likely lead to incorrect results due to broadcasting. Please ensure they have the same size.\n",
      "  return F.mse_loss(input, target, reduction=self.reduction)\n"
     ]
    },
    {
     "name": "stdout",
     "output_type": "stream",
     "text": [
      "Episode: 436, total_reward:172.0\n",
      "Episode: 437, total_reward:144.0\n",
      "Episode: 438, total_reward:186.0\n"
     ]
    },
    {
     "name": "stderr",
     "output_type": "stream",
     "text": [
      "/home/user/anaconda3/lib/python3.8/site-packages/torch/nn/modules/loss.py:520: UserWarning: Using a target size (torch.Size([144])) that is different to the input size (torch.Size([144, 1])). This will likely lead to incorrect results due to broadcasting. Please ensure they have the same size.\n",
      "  return F.mse_loss(input, target, reduction=self.reduction)\n",
      "/home/user/anaconda3/lib/python3.8/site-packages/torch/nn/modules/loss.py:520: UserWarning: Using a target size (torch.Size([186])) that is different to the input size (torch.Size([186, 1])). This will likely lead to incorrect results due to broadcasting. Please ensure they have the same size.\n",
      "  return F.mse_loss(input, target, reduction=self.reduction)\n",
      "/home/user/anaconda3/lib/python3.8/site-packages/torch/nn/modules/loss.py:520: UserWarning: Using a target size (torch.Size([142])) that is different to the input size (torch.Size([142, 1])). This will likely lead to incorrect results due to broadcasting. Please ensure they have the same size.\n",
      "  return F.mse_loss(input, target, reduction=self.reduction)\n"
     ]
    },
    {
     "name": "stdout",
     "output_type": "stream",
     "text": [
      "Episode: 439, total_reward:142.0\n",
      "Episode: 440, total_reward:200.0\n",
      "Episode: 441, total_reward:200.0\n",
      "Episode: 442, total_reward:200.0\n",
      "Episode: 443, total_reward:200.0\n",
      "Episode: 444, total_reward:200.0\n",
      "Episode: 445, total_reward:200.0\n",
      "Episode: 446, total_reward:200.0\n",
      "Episode: 447, total_reward:150.0\n"
     ]
    },
    {
     "name": "stderr",
     "output_type": "stream",
     "text": [
      "/home/user/anaconda3/lib/python3.8/site-packages/torch/nn/modules/loss.py:520: UserWarning: Using a target size (torch.Size([161])) that is different to the input size (torch.Size([161, 1])). This will likely lead to incorrect results due to broadcasting. Please ensure they have the same size.\n",
      "  return F.mse_loss(input, target, reduction=self.reduction)\n"
     ]
    },
    {
     "name": "stdout",
     "output_type": "stream",
     "text": [
      "Episode: 448, total_reward:161.0\n",
      "Episode: 449, total_reward:96.0\n",
      "Episode: 450, total_reward:200.0\n",
      "Episode: 451, total_reward:200.0\n",
      "Episode: 452, total_reward:85.0\n",
      "Episode: 453, total_reward:200.0\n"
     ]
    },
    {
     "name": "stderr",
     "output_type": "stream",
     "text": [
      "/home/user/anaconda3/lib/python3.8/site-packages/torch/nn/modules/loss.py:520: UserWarning: Using a target size (torch.Size([188])) that is different to the input size (torch.Size([188, 1])). This will likely lead to incorrect results due to broadcasting. Please ensure they have the same size.\n",
      "  return F.mse_loss(input, target, reduction=self.reduction)\n"
     ]
    },
    {
     "name": "stdout",
     "output_type": "stream",
     "text": [
      "Episode: 454, total_reward:188.0\n",
      "Episode: 455, total_reward:200.0\n",
      "Episode: 456, total_reward:200.0\n",
      "Episode: 457, total_reward:200.0\n",
      "Episode: 458, total_reward:200.0\n",
      "Episode: 459, total_reward:53.0\n",
      "Episode: 460, total_reward:200.0\n",
      "Episode: 461, total_reward:200.0\n",
      "Episode: 462, total_reward:200.0\n",
      "Episode: 463, total_reward:200.0\n",
      "Episode: 464, total_reward:84.0\n",
      "Episode: 465, total_reward:152.0\n"
     ]
    },
    {
     "name": "stderr",
     "output_type": "stream",
     "text": [
      "/home/user/anaconda3/lib/python3.8/site-packages/torch/nn/modules/loss.py:520: UserWarning: Using a target size (torch.Size([152])) that is different to the input size (torch.Size([152, 1])). This will likely lead to incorrect results due to broadcasting. Please ensure they have the same size.\n",
      "  return F.mse_loss(input, target, reduction=self.reduction)\n"
     ]
    },
    {
     "name": "stdout",
     "output_type": "stream",
     "text": [
      "Episode: 466, total_reward:200.0\n",
      "Episode: 467, total_reward:200.0\n"
     ]
    },
    {
     "name": "stderr",
     "output_type": "stream",
     "text": [
      "/home/user/anaconda3/lib/python3.8/site-packages/torch/nn/modules/loss.py:520: UserWarning: Using a target size (torch.Size([179])) that is different to the input size (torch.Size([179, 1])). This will likely lead to incorrect results due to broadcasting. Please ensure they have the same size.\n",
      "  return F.mse_loss(input, target, reduction=self.reduction)\n"
     ]
    },
    {
     "name": "stdout",
     "output_type": "stream",
     "text": [
      "Episode: 468, total_reward:179.0\n",
      "Episode: 469, total_reward:200.0\n",
      "Episode: 470, total_reward:200.0\n",
      "Episode: 471, total_reward:132.0\n",
      "Episode: 472, total_reward:200.0\n",
      "Episode: 473, total_reward:200.0\n",
      "Episode: 474, total_reward:200.0\n",
      "Episode: 475, total_reward:200.0\n",
      "Episode: 476, total_reward:200.0\n",
      "Episode: 477, total_reward:81.0\n",
      "Episode: 478, total_reward:200.0\n",
      "Episode: 479, total_reward:200.0\n",
      "Episode: 480, total_reward:200.0\n",
      "Episode: 481, total_reward:200.0\n",
      "Episode: 482, total_reward:200.0\n",
      "Episode: 483, total_reward:200.0\n",
      "Episode: 484, total_reward:200.0\n",
      "Episode: 485, total_reward:200.0\n",
      "Episode: 486, total_reward:200.0\n",
      "Episode: 487, total_reward:200.0\n",
      "Episode: 488, total_reward:116.0\n",
      "Episode: 489, total_reward:200.0\n",
      "Episode: 490, total_reward:135.0\n",
      "Episode: 491, total_reward:200.0\n"
     ]
    },
    {
     "name": "stderr",
     "output_type": "stream",
     "text": [
      "/home/user/anaconda3/lib/python3.8/site-packages/torch/nn/modules/loss.py:520: UserWarning: Using a target size (torch.Size([135])) that is different to the input size (torch.Size([135, 1])). This will likely lead to incorrect results due to broadcasting. Please ensure they have the same size.\n",
      "  return F.mse_loss(input, target, reduction=self.reduction)\n"
     ]
    },
    {
     "name": "stdout",
     "output_type": "stream",
     "text": [
      "Episode: 492, total_reward:200.0\n",
      "Episode: 493, total_reward:200.0\n",
      "Episode: 494, total_reward:200.0\n",
      "Episode: 495, total_reward:105.0\n"
     ]
    },
    {
     "name": "stderr",
     "output_type": "stream",
     "text": [
      "/home/user/anaconda3/lib/python3.8/site-packages/torch/nn/modules/loss.py:520: UserWarning: Using a target size (torch.Size([105])) that is different to the input size (torch.Size([105, 1])). This will likely lead to incorrect results due to broadcasting. Please ensure they have the same size.\n",
      "  return F.mse_loss(input, target, reduction=self.reduction)\n"
     ]
    },
    {
     "name": "stdout",
     "output_type": "stream",
     "text": [
      "Episode: 496, total_reward:200.0\n",
      "Episode: 497, total_reward:200.0\n",
      "Episode: 498, total_reward:200.0\n",
      "Episode: 499, total_reward:200.0\n",
      "Episode: 500, total_reward:200.0\n",
      "Episode: 501, total_reward:200.0\n",
      "Episode: 502, total_reward:200.0\n",
      "Episode: 503, total_reward:200.0\n",
      "Episode: 504, total_reward:200.0\n",
      "Episode: 505, total_reward:200.0\n",
      "Episode: 506, total_reward:200.0\n",
      "Episode: 507, total_reward:200.0\n",
      "Episode: 508, total_reward:200.0\n",
      "Episode: 509, total_reward:200.0\n",
      "Episode: 510, total_reward:200.0\n",
      "Episode: 511, total_reward:200.0\n",
      "Episode: 512, total_reward:200.0\n",
      "Episode: 513, total_reward:189.0\n"
     ]
    },
    {
     "name": "stderr",
     "output_type": "stream",
     "text": [
      "/home/user/anaconda3/lib/python3.8/site-packages/torch/nn/modules/loss.py:520: UserWarning: Using a target size (torch.Size([189])) that is different to the input size (torch.Size([189, 1])). This will likely lead to incorrect results due to broadcasting. Please ensure they have the same size.\n",
      "  return F.mse_loss(input, target, reduction=self.reduction)\n",
      "/home/user/anaconda3/lib/python3.8/site-packages/torch/nn/modules/loss.py:520: UserWarning: Using a target size (torch.Size([182])) that is different to the input size (torch.Size([182, 1])). This will likely lead to incorrect results due to broadcasting. Please ensure they have the same size.\n",
      "  return F.mse_loss(input, target, reduction=self.reduction)\n"
     ]
    },
    {
     "name": "stdout",
     "output_type": "stream",
     "text": [
      "Episode: 514, total_reward:182.0\n",
      "Episode: 515, total_reward:200.0\n",
      "Episode: 516, total_reward:200.0\n",
      "Episode: 517, total_reward:176.0\n",
      "Episode: 518, total_reward:200.0\n"
     ]
    },
    {
     "name": "stderr",
     "output_type": "stream",
     "text": [
      "/home/user/anaconda3/lib/python3.8/site-packages/torch/nn/modules/loss.py:520: UserWarning: Using a target size (torch.Size([176])) that is different to the input size (torch.Size([176, 1])). This will likely lead to incorrect results due to broadcasting. Please ensure they have the same size.\n",
      "  return F.mse_loss(input, target, reduction=self.reduction)\n"
     ]
    },
    {
     "name": "stdout",
     "output_type": "stream",
     "text": [
      "Episode: 519, total_reward:200.0\n",
      "Episode: 520, total_reward:200.0\n",
      "Episode: 521, total_reward:200.0\n",
      "Episode: 522, total_reward:200.0\n",
      "Episode: 523, total_reward:200.0\n",
      "Episode: 524, total_reward:200.0\n",
      "Episode: 525, total_reward:200.0\n",
      "Episode: 526, total_reward:200.0\n",
      "Episode: 527, total_reward:200.0\n",
      "Episode: 528, total_reward:200.0\n",
      "Episode: 529, total_reward:200.0\n",
      "Episode: 530, total_reward:200.0\n",
      "Episode: 531, total_reward:200.0\n",
      "Episode: 532, total_reward:200.0\n",
      "Episode: 533, total_reward:200.0\n",
      "Episode: 534, total_reward:80.0\n"
     ]
    },
    {
     "name": "stderr",
     "output_type": "stream",
     "text": [
      "/home/user/anaconda3/lib/python3.8/site-packages/torch/nn/modules/loss.py:520: UserWarning: Using a target size (torch.Size([80])) that is different to the input size (torch.Size([80, 1])). This will likely lead to incorrect results due to broadcasting. Please ensure they have the same size.\n",
      "  return F.mse_loss(input, target, reduction=self.reduction)\n"
     ]
    },
    {
     "name": "stdout",
     "output_type": "stream",
     "text": [
      "Episode: 535, total_reward:200.0\n",
      "Episode: 536, total_reward:80.0\n",
      "Episode: 537, total_reward:200.0\n",
      "Episode: 538, total_reward:200.0\n",
      "Episode: 539, total_reward:200.0\n"
     ]
    },
    {
     "name": "stderr",
     "output_type": "stream",
     "text": [
      "/home/user/anaconda3/lib/python3.8/site-packages/torch/nn/modules/loss.py:520: UserWarning: Using a target size (torch.Size([174])) that is different to the input size (torch.Size([174, 1])). This will likely lead to incorrect results due to broadcasting. Please ensure they have the same size.\n",
      "  return F.mse_loss(input, target, reduction=self.reduction)\n"
     ]
    },
    {
     "name": "stdout",
     "output_type": "stream",
     "text": [
      "Episode: 540, total_reward:174.0\n",
      "Episode: 541, total_reward:200.0\n",
      "Episode: 542, total_reward:136.0\n",
      "Episode: 543, total_reward:200.0\n",
      "Episode: 544, total_reward:200.0\n",
      "Episode: 545, total_reward:200.0\n",
      "Episode: 546, total_reward:200.0\n",
      "Episode: 547, total_reward:200.0\n",
      "Episode: 548, total_reward:200.0\n",
      "Episode: 549, total_reward:200.0\n",
      "Episode: 550, total_reward:200.0\n",
      "Episode: 551, total_reward:200.0\n",
      "Episode: 552, total_reward:200.0\n",
      "Episode: 553, total_reward:200.0\n",
      "Episode: 554, total_reward:162.0\n",
      "Episode: 555, total_reward:200.0\n",
      "Episode: 556, total_reward:200.0\n",
      "Episode: 557, total_reward:200.0\n",
      "Episode: 558, total_reward:200.0\n",
      "Episode: 559, total_reward:200.0\n",
      "Episode: 560, total_reward:200.0\n",
      "Episode: 561, total_reward:124.0\n",
      "Episode: 562, total_reward:200.0\n",
      "Episode: 563, total_reward:200.0\n",
      "Episode: 564, total_reward:92.0\n",
      "Episode: 565, total_reward:128.0\n",
      "Episode: 566, total_reward:200.0\n",
      "Episode: 567, total_reward:200.0\n",
      "Episode: 568, total_reward:200.0\n",
      "Episode: 569, total_reward:200.0\n",
      "Episode: 570, total_reward:200.0\n",
      "Episode: 571, total_reward:200.0\n",
      "Episode: 572, total_reward:200.0\n",
      "Episode: 573, total_reward:200.0\n",
      "Episode: 574, total_reward:200.0\n",
      "Episode: 575, total_reward:200.0\n",
      "Episode: 576, total_reward:200.0\n",
      "Episode: 577, total_reward:200.0\n",
      "Episode: 578, total_reward:200.0\n",
      "Episode: 579, total_reward:200.0\n",
      "Episode: 580, total_reward:200.0\n",
      "Episode: 581, total_reward:200.0\n",
      "Episode: 582, total_reward:200.0\n",
      "Episode: 583, total_reward:132.0\n",
      "Episode: 584, total_reward:200.0\n",
      "Episode: 585, total_reward:200.0\n",
      "Episode: 586, total_reward:200.0\n",
      "Episode: 587, total_reward:200.0\n",
      "Episode: 588, total_reward:200.0\n",
      "Episode: 589, total_reward:200.0\n",
      "Episode: 590, total_reward:200.0\n",
      "Episode: 591, total_reward:156.0\n",
      "Episode: 592, total_reward:170.0\n"
     ]
    },
    {
     "name": "stderr",
     "output_type": "stream",
     "text": [
      "/home/user/anaconda3/lib/python3.8/site-packages/torch/nn/modules/loss.py:520: UserWarning: Using a target size (torch.Size([156])) that is different to the input size (torch.Size([156, 1])). This will likely lead to incorrect results due to broadcasting. Please ensure they have the same size.\n",
      "  return F.mse_loss(input, target, reduction=self.reduction)\n",
      "/home/user/anaconda3/lib/python3.8/site-packages/torch/nn/modules/loss.py:520: UserWarning: Using a target size (torch.Size([170])) that is different to the input size (torch.Size([170, 1])). This will likely lead to incorrect results due to broadcasting. Please ensure they have the same size.\n",
      "  return F.mse_loss(input, target, reduction=self.reduction)\n"
     ]
    },
    {
     "name": "stdout",
     "output_type": "stream",
     "text": [
      "Episode: 593, total_reward:200.0\n",
      "Episode: 594, total_reward:200.0\n",
      "Episode: 595, total_reward:200.0\n",
      "Episode: 596, total_reward:200.0\n",
      "Episode: 597, total_reward:161.0\n",
      "Episode: 598, total_reward:157.0\n",
      "Episode: 599, total_reward:200.0\n"
     ]
    },
    {
     "name": "stderr",
     "output_type": "stream",
     "text": [
      "/home/user/anaconda3/lib/python3.8/site-packages/torch/nn/modules/loss.py:520: UserWarning: Using a target size (torch.Size([157])) that is different to the input size (torch.Size([157, 1])). This will likely lead to incorrect results due to broadcasting. Please ensure they have the same size.\n",
      "  return F.mse_loss(input, target, reduction=self.reduction)\n"
     ]
    },
    {
     "name": "stdout",
     "output_type": "stream",
     "text": [
      "Episode: 600, total_reward:200.0\n",
      "Episode: 601, total_reward:187.0\n"
     ]
    },
    {
     "name": "stderr",
     "output_type": "stream",
     "text": [
      "/home/user/anaconda3/lib/python3.8/site-packages/torch/nn/modules/loss.py:520: UserWarning: Using a target size (torch.Size([187])) that is different to the input size (torch.Size([187, 1])). This will likely lead to incorrect results due to broadcasting. Please ensure they have the same size.\n",
      "  return F.mse_loss(input, target, reduction=self.reduction)\n"
     ]
    },
    {
     "name": "stdout",
     "output_type": "stream",
     "text": [
      "Episode: 602, total_reward:200.0\n",
      "Episode: 603, total_reward:198.0\n"
     ]
    },
    {
     "name": "stderr",
     "output_type": "stream",
     "text": [
      "/home/user/anaconda3/lib/python3.8/site-packages/torch/nn/modules/loss.py:520: UserWarning: Using a target size (torch.Size([198])) that is different to the input size (torch.Size([198, 1])). This will likely lead to incorrect results due to broadcasting. Please ensure they have the same size.\n",
      "  return F.mse_loss(input, target, reduction=self.reduction)\n"
     ]
    },
    {
     "name": "stdout",
     "output_type": "stream",
     "text": [
      "Episode: 604, total_reward:200.0\n",
      "Episode: 605, total_reward:200.0\n",
      "Episode: 606, total_reward:190.0\n",
      "Episode: 607, total_reward:161.0\n"
     ]
    },
    {
     "name": "stderr",
     "output_type": "stream",
     "text": [
      "/home/user/anaconda3/lib/python3.8/site-packages/torch/nn/modules/loss.py:520: UserWarning: Using a target size (torch.Size([199])) that is different to the input size (torch.Size([199, 1])). This will likely lead to incorrect results due to broadcasting. Please ensure they have the same size.\n",
      "  return F.mse_loss(input, target, reduction=self.reduction)\n"
     ]
    },
    {
     "name": "stdout",
     "output_type": "stream",
     "text": [
      "Episode: 608, total_reward:199.0\n",
      "Episode: 609, total_reward:200.0\n",
      "Episode: 610, total_reward:200.0\n",
      "Episode: 611, total_reward:200.0\n",
      "Episode: 612, total_reward:200.0\n",
      "Episode: 613, total_reward:200.0\n",
      "Episode: 614, total_reward:114.0\n"
     ]
    },
    {
     "name": "stderr",
     "output_type": "stream",
     "text": [
      "/home/user/anaconda3/lib/python3.8/site-packages/torch/nn/modules/loss.py:520: UserWarning: Using a target size (torch.Size([114])) that is different to the input size (torch.Size([114, 1])). This will likely lead to incorrect results due to broadcasting. Please ensure they have the same size.\n",
      "  return F.mse_loss(input, target, reduction=self.reduction)\n"
     ]
    },
    {
     "name": "stdout",
     "output_type": "stream",
     "text": [
      "Episode: 615, total_reward:200.0\n",
      "Episode: 616, total_reward:161.0\n",
      "Episode: 617, total_reward:199.0\n",
      "Episode: 618, total_reward:200.0\n",
      "Episode: 619, total_reward:200.0\n",
      "Episode: 620, total_reward:200.0\n",
      "Episode: 621, total_reward:172.0\n",
      "Episode: 622, total_reward:200.0\n"
     ]
    },
    {
     "name": "stderr",
     "output_type": "stream",
     "text": [
      "/home/user/anaconda3/lib/python3.8/site-packages/torch/nn/modules/loss.py:520: UserWarning: Using a target size (torch.Size([103])) that is different to the input size (torch.Size([103, 1])). This will likely lead to incorrect results due to broadcasting. Please ensure they have the same size.\n",
      "  return F.mse_loss(input, target, reduction=self.reduction)\n"
     ]
    },
    {
     "name": "stdout",
     "output_type": "stream",
     "text": [
      "Episode: 623, total_reward:103.0\n",
      "Episode: 624, total_reward:200.0\n",
      "Episode: 625, total_reward:200.0\n",
      "Episode: 626, total_reward:186.0\n",
      "Episode: 627, total_reward:200.0\n",
      "Episode: 628, total_reward:200.0\n",
      "Episode: 629, total_reward:125.0\n",
      "Episode: 630, total_reward:200.0\n",
      "Episode: 631, total_reward:200.0\n",
      "Episode: 632, total_reward:136.0\n",
      "Episode: 633, total_reward:200.0\n",
      "Episode: 634, total_reward:200.0\n",
      "Episode: 635, total_reward:200.0\n",
      "Episode: 636, total_reward:122.0\n"
     ]
    },
    {
     "name": "stderr",
     "output_type": "stream",
     "text": [
      "/home/user/anaconda3/lib/python3.8/site-packages/torch/nn/modules/loss.py:520: UserWarning: Using a target size (torch.Size([183])) that is different to the input size (torch.Size([183, 1])). This will likely lead to incorrect results due to broadcasting. Please ensure they have the same size.\n",
      "  return F.mse_loss(input, target, reduction=self.reduction)\n"
     ]
    },
    {
     "name": "stdout",
     "output_type": "stream",
     "text": [
      "Episode: 637, total_reward:183.0\n",
      "Episode: 638, total_reward:200.0\n",
      "Episode: 639, total_reward:200.0\n",
      "Episode: 640, total_reward:166.0\n",
      "Episode: 641, total_reward:200.0\n",
      "Episode: 642, total_reward:200.0\n",
      "Episode: 643, total_reward:200.0\n",
      "Episode: 644, total_reward:200.0\n",
      "Episode: 645, total_reward:160.0\n",
      "Episode: 646, total_reward:200.0\n",
      "Episode: 647, total_reward:200.0\n",
      "Episode: 648, total_reward:200.0\n",
      "Episode: 649, total_reward:200.0\n",
      "Episode: 650, total_reward:200.0\n",
      "Episode: 651, total_reward:200.0\n",
      "Episode: 652, total_reward:200.0\n",
      "Episode: 653, total_reward:200.0\n",
      "Episode: 654, total_reward:200.0\n",
      "Episode: 655, total_reward:179.0\n",
      "Episode: 656, total_reward:148.0\n"
     ]
    },
    {
     "name": "stderr",
     "output_type": "stream",
     "text": [
      "/home/user/anaconda3/lib/python3.8/site-packages/torch/nn/modules/loss.py:520: UserWarning: Using a target size (torch.Size([148])) that is different to the input size (torch.Size([148, 1])). This will likely lead to incorrect results due to broadcasting. Please ensure they have the same size.\n",
      "  return F.mse_loss(input, target, reduction=self.reduction)\n"
     ]
    },
    {
     "name": "stdout",
     "output_type": "stream",
     "text": [
      "Episode: 657, total_reward:200.0\n",
      "Episode: 658, total_reward:200.0\n"
     ]
    },
    {
     "name": "stderr",
     "output_type": "stream",
     "text": [
      "/home/user/anaconda3/lib/python3.8/site-packages/torch/nn/modules/loss.py:520: UserWarning: Using a target size (torch.Size([129])) that is different to the input size (torch.Size([129, 1])). This will likely lead to incorrect results due to broadcasting. Please ensure they have the same size.\n",
      "  return F.mse_loss(input, target, reduction=self.reduction)\n"
     ]
    },
    {
     "name": "stdout",
     "output_type": "stream",
     "text": [
      "Episode: 659, total_reward:129.0\n",
      "Episode: 660, total_reward:200.0\n",
      "Episode: 661, total_reward:200.0\n",
      "Episode: 662, total_reward:200.0\n",
      "Episode: 663, total_reward:200.0\n",
      "Episode: 664, total_reward:200.0\n",
      "Episode: 665, total_reward:200.0\n",
      "Episode: 666, total_reward:200.0\n",
      "Episode: 667, total_reward:200.0\n",
      "Episode: 668, total_reward:200.0\n",
      "Episode: 669, total_reward:200.0\n",
      "Episode: 670, total_reward:200.0\n",
      "Episode: 671, total_reward:200.0\n",
      "Episode: 672, total_reward:200.0\n",
      "Episode: 673, total_reward:200.0\n",
      "Episode: 674, total_reward:200.0\n",
      "Episode: 675, total_reward:200.0\n",
      "Episode: 676, total_reward:200.0\n",
      "Episode: 677, total_reward:200.0\n",
      "Episode: 678, total_reward:118.0\n"
     ]
    },
    {
     "name": "stderr",
     "output_type": "stream",
     "text": [
      "/home/user/anaconda3/lib/python3.8/site-packages/torch/nn/modules/loss.py:520: UserWarning: Using a target size (torch.Size([118])) that is different to the input size (torch.Size([118, 1])). This will likely lead to incorrect results due to broadcasting. Please ensure they have the same size.\n",
      "  return F.mse_loss(input, target, reduction=self.reduction)\n"
     ]
    },
    {
     "name": "stdout",
     "output_type": "stream",
     "text": [
      "Episode: 679, total_reward:200.0\n",
      "Episode: 680, total_reward:200.0\n",
      "Episode: 681, total_reward:200.0\n",
      "Episode: 682, total_reward:200.0\n",
      "Episode: 683, total_reward:200.0\n",
      "Episode: 684, total_reward:200.0\n",
      "Episode: 685, total_reward:200.0\n",
      "Episode: 686, total_reward:200.0\n",
      "Episode: 687, total_reward:170.0\n",
      "Episode: 688, total_reward:200.0\n",
      "Episode: 689, total_reward:200.0\n",
      "Episode: 690, total_reward:143.0\n",
      "Episode: 691, total_reward:200.0\n",
      "Episode: 692, total_reward:200.0\n",
      "Episode: 693, total_reward:200.0\n",
      "Episode: 694, total_reward:160.0\n",
      "Episode: 695, total_reward:200.0\n",
      "Episode: 696, total_reward:200.0\n",
      "Episode: 697, total_reward:200.0\n",
      "Episode: 698, total_reward:200.0\n",
      "Episode: 699, total_reward:200.0\n",
      "Episode: 700, total_reward:200.0\n",
      "Episode: 701, total_reward:200.0\n",
      "Episode: 702, total_reward:200.0\n",
      "Episode: 703, total_reward:200.0\n",
      "Episode: 704, total_reward:200.0\n",
      "Episode: 705, total_reward:121.0\n",
      "Episode: 706, total_reward:200.0\n",
      "Episode: 707, total_reward:200.0\n",
      "Episode: 708, total_reward:200.0\n",
      "Episode: 709, total_reward:110.0\n",
      "Episode: 710, total_reward:200.0\n",
      "Episode: 711, total_reward:192.0\n",
      "Episode: 712, total_reward:200.0\n",
      "Episode: 713, total_reward:200.0\n",
      "Episode: 714, total_reward:200.0\n",
      "Episode: 715, total_reward:200.0\n",
      "Episode: 716, total_reward:200.0\n",
      "Episode: 717, total_reward:200.0\n",
      "Episode: 718, total_reward:200.0\n",
      "Episode: 719, total_reward:200.0\n",
      "Episode: 720, total_reward:200.0\n",
      "Episode: 721, total_reward:200.0\n",
      "Episode: 722, total_reward:200.0\n",
      "Episode: 723, total_reward:200.0\n",
      "Episode: 724, total_reward:144.0\n",
      "Episode: 725, total_reward:200.0\n",
      "Episode: 726, total_reward:200.0\n",
      "Episode: 727, total_reward:200.0\n",
      "Episode: 728, total_reward:200.0\n",
      "Episode: 729, total_reward:200.0\n",
      "Episode: 730, total_reward:200.0\n",
      "Episode: 731, total_reward:95.0\n",
      "Episode: 732, total_reward:200.0\n",
      "Episode: 733, total_reward:200.0\n",
      "Episode: 734, total_reward:200.0\n",
      "Episode: 735, total_reward:200.0\n",
      "Episode: 736, total_reward:200.0\n",
      "Episode: 737, total_reward:200.0\n",
      "Episode: 738, total_reward:200.0\n",
      "Episode: 739, total_reward:200.0\n",
      "Episode: 740, total_reward:200.0\n",
      "Episode: 741, total_reward:200.0\n",
      "Episode: 742, total_reward:200.0\n",
      "Episode: 743, total_reward:200.0\n",
      "Episode: 744, total_reward:200.0\n",
      "Episode: 745, total_reward:191.0\n"
     ]
    },
    {
     "name": "stderr",
     "output_type": "stream",
     "text": [
      "/home/user/anaconda3/lib/python3.8/site-packages/torch/nn/modules/loss.py:520: UserWarning: Using a target size (torch.Size([191])) that is different to the input size (torch.Size([191, 1])). This will likely lead to incorrect results due to broadcasting. Please ensure they have the same size.\n",
      "  return F.mse_loss(input, target, reduction=self.reduction)\n",
      "/home/user/anaconda3/lib/python3.8/site-packages/torch/nn/modules/loss.py:520: UserWarning: Using a target size (torch.Size([185])) that is different to the input size (torch.Size([185, 1])). This will likely lead to incorrect results due to broadcasting. Please ensure they have the same size.\n",
      "  return F.mse_loss(input, target, reduction=self.reduction)\n"
     ]
    },
    {
     "name": "stdout",
     "output_type": "stream",
     "text": [
      "Episode: 746, total_reward:200.0\n",
      "Episode: 747, total_reward:185.0\n",
      "Episode: 748, total_reward:200.0\n",
      "Episode: 749, total_reward:200.0\n",
      "Episode: 750, total_reward:200.0\n",
      "Episode: 751, total_reward:200.0\n",
      "Episode: 752, total_reward:200.0\n",
      "Episode: 753, total_reward:200.0\n",
      "Episode: 754, total_reward:200.0\n",
      "Episode: 755, total_reward:200.0\n",
      "Episode: 756, total_reward:200.0\n",
      "Episode: 757, total_reward:200.0\n",
      "Episode: 758, total_reward:200.0\n",
      "Episode: 759, total_reward:110.0\n",
      "Episode: 760, total_reward:200.0\n",
      "Episode: 761, total_reward:200.0\n",
      "Episode: 762, total_reward:200.0\n",
      "Episode: 763, total_reward:200.0\n",
      "Episode: 764, total_reward:200.0\n",
      "Episode: 765, total_reward:200.0\n",
      "Episode: 766, total_reward:163.0\n"
     ]
    },
    {
     "name": "stderr",
     "output_type": "stream",
     "text": [
      "/home/user/anaconda3/lib/python3.8/site-packages/torch/nn/modules/loss.py:520: UserWarning: Using a target size (torch.Size([163])) that is different to the input size (torch.Size([163, 1])). This will likely lead to incorrect results due to broadcasting. Please ensure they have the same size.\n",
      "  return F.mse_loss(input, target, reduction=self.reduction)\n"
     ]
    },
    {
     "name": "stdout",
     "output_type": "stream",
     "text": [
      "Episode: 767, total_reward:200.0\n",
      "Episode: 768, total_reward:200.0\n",
      "Episode: 769, total_reward:200.0\n",
      "Episode: 770, total_reward:200.0\n",
      "Episode: 771, total_reward:200.0\n",
      "Episode: 772, total_reward:200.0\n",
      "Episode: 773, total_reward:200.0\n",
      "Episode: 774, total_reward:200.0\n",
      "Episode: 775, total_reward:200.0\n",
      "Episode: 776, total_reward:200.0\n",
      "Episode: 777, total_reward:200.0\n",
      "Episode: 778, total_reward:169.0\n",
      "Episode: 779, total_reward:200.0\n",
      "Episode: 780, total_reward:200.0\n",
      "Episode: 781, total_reward:200.0\n",
      "Episode: 782, total_reward:200.0\n",
      "Episode: 783, total_reward:200.0\n",
      "Episode: 784, total_reward:200.0\n",
      "Episode: 785, total_reward:200.0\n",
      "Episode: 786, total_reward:200.0\n",
      "Episode: 787, total_reward:200.0\n",
      "Episode: 788, total_reward:200.0\n",
      "Episode: 789, total_reward:200.0\n",
      "Episode: 790, total_reward:200.0\n",
      "Episode: 791, total_reward:200.0\n",
      "Episode: 792, total_reward:200.0\n",
      "Episode: 793, total_reward:200.0\n",
      "Episode: 794, total_reward:200.0\n",
      "Episode: 795, total_reward:200.0\n",
      "Episode: 796, total_reward:200.0\n",
      "Episode: 797, total_reward:200.0\n",
      "Episode: 798, total_reward:200.0\n",
      "Episode: 799, total_reward:200.0\n",
      "Episode: 800, total_reward:200.0\n",
      "Episode: 801, total_reward:200.0\n",
      "Episode: 802, total_reward:200.0\n",
      "Episode: 803, total_reward:200.0\n",
      "Episode: 804, total_reward:200.0\n",
      "Episode: 805, total_reward:200.0\n",
      "Episode: 806, total_reward:200.0\n",
      "Episode: 807, total_reward:200.0\n",
      "Episode: 808, total_reward:200.0\n",
      "Episode: 809, total_reward:200.0\n",
      "Episode: 810, total_reward:200.0\n",
      "Episode: 811, total_reward:200.0\n",
      "Episode: 812, total_reward:200.0\n",
      "Episode: 813, total_reward:200.0\n",
      "Episode: 814, total_reward:200.0\n",
      "Episode: 815, total_reward:200.0\n",
      "Episode: 816, total_reward:200.0\n",
      "Episode: 817, total_reward:200.0\n",
      "Episode: 818, total_reward:200.0\n",
      "Episode: 819, total_reward:200.0\n",
      "Episode: 820, total_reward:200.0\n",
      "Episode: 821, total_reward:200.0\n",
      "Episode: 822, total_reward:200.0\n",
      "Episode: 823, total_reward:200.0\n",
      "Episode: 824, total_reward:200.0\n",
      "Episode: 825, total_reward:200.0\n",
      "Episode: 826, total_reward:200.0\n",
      "Episode: 827, total_reward:200.0\n",
      "Episode: 828, total_reward:200.0\n",
      "Episode: 829, total_reward:200.0\n",
      "Episode: 830, total_reward:200.0\n",
      "Episode: 831, total_reward:200.0\n",
      "Episode: 832, total_reward:200.0\n",
      "Episode: 833, total_reward:200.0\n",
      "Episode: 834, total_reward:200.0\n",
      "Episode: 835, total_reward:200.0\n",
      "Episode: 836, total_reward:200.0\n",
      "Episode: 837, total_reward:200.0\n",
      "Episode: 838, total_reward:200.0\n",
      "Episode: 839, total_reward:200.0\n",
      "Episode: 840, total_reward:200.0\n",
      "Episode: 841, total_reward:200.0\n",
      "Episode: 842, total_reward:200.0\n",
      "Episode: 843, total_reward:139.0\n"
     ]
    },
    {
     "name": "stderr",
     "output_type": "stream",
     "text": [
      "/home/user/anaconda3/lib/python3.8/site-packages/torch/nn/modules/loss.py:520: UserWarning: Using a target size (torch.Size([139])) that is different to the input size (torch.Size([139, 1])). This will likely lead to incorrect results due to broadcasting. Please ensure they have the same size.\n",
      "  return F.mse_loss(input, target, reduction=self.reduction)\n"
     ]
    },
    {
     "name": "stdout",
     "output_type": "stream",
     "text": [
      "Episode: 844, total_reward:200.0\n",
      "Episode: 845, total_reward:200.0\n",
      "Episode: 846, total_reward:85.0\n",
      "Episode: 847, total_reward:200.0\n",
      "Episode: 848, total_reward:200.0\n",
      "Episode: 849, total_reward:200.0\n",
      "Episode: 850, total_reward:190.0\n",
      "Episode: 851, total_reward:200.0\n",
      "Episode: 852, total_reward:200.0\n",
      "Episode: 853, total_reward:200.0\n",
      "Episode: 854, total_reward:200.0\n",
      "Episode: 855, total_reward:200.0\n",
      "Episode: 856, total_reward:200.0\n",
      "Episode: 857, total_reward:200.0\n",
      "Episode: 858, total_reward:200.0\n",
      "Episode: 859, total_reward:200.0\n",
      "Episode: 860, total_reward:200.0\n",
      "Episode: 861, total_reward:200.0\n",
      "Episode: 862, total_reward:200.0\n",
      "Episode: 863, total_reward:200.0\n",
      "Episode: 864, total_reward:200.0\n",
      "Episode: 865, total_reward:200.0\n",
      "Episode: 866, total_reward:200.0\n",
      "Episode: 867, total_reward:200.0\n",
      "Episode: 868, total_reward:200.0\n",
      "Episode: 869, total_reward:200.0\n",
      "Episode: 870, total_reward:200.0\n",
      "Episode: 871, total_reward:200.0\n",
      "Episode: 872, total_reward:200.0\n",
      "Episode: 873, total_reward:200.0\n",
      "Episode: 874, total_reward:200.0\n",
      "Episode: 875, total_reward:200.0\n",
      "Episode: 876, total_reward:200.0\n",
      "Episode: 877, total_reward:200.0\n",
      "Episode: 878, total_reward:200.0\n",
      "Episode: 879, total_reward:200.0\n",
      "Episode: 880, total_reward:200.0\n",
      "Episode: 881, total_reward:200.0\n",
      "Episode: 882, total_reward:200.0\n",
      "Episode: 883, total_reward:200.0\n",
      "Episode: 884, total_reward:200.0\n",
      "Episode: 885, total_reward:200.0\n",
      "Episode: 886, total_reward:200.0\n",
      "Episode: 887, total_reward:200.0\n",
      "Episode: 888, total_reward:200.0\n",
      "Episode: 889, total_reward:200.0\n",
      "Episode: 890, total_reward:200.0\n",
      "Episode: 891, total_reward:200.0\n",
      "Episode: 892, total_reward:200.0\n",
      "Episode: 893, total_reward:200.0\n",
      "Episode: 894, total_reward:200.0\n",
      "Episode: 895, total_reward:200.0\n",
      "Episode: 896, total_reward:200.0\n",
      "Episode: 897, total_reward:200.0\n",
      "Episode: 898, total_reward:200.0\n",
      "Episode: 899, total_reward:200.0\n",
      "Episode: 900, total_reward:200.0\n",
      "Episode: 901, total_reward:200.0\n",
      "Episode: 902, total_reward:200.0\n",
      "Episode: 903, total_reward:200.0\n",
      "Episode: 904, total_reward:200.0\n",
      "Episode: 905, total_reward:200.0\n",
      "Episode: 906, total_reward:200.0\n",
      "Episode: 907, total_reward:200.0\n",
      "Episode: 908, total_reward:200.0\n",
      "Episode: 909, total_reward:200.0\n",
      "Episode: 910, total_reward:200.0\n",
      "Episode: 911, total_reward:200.0\n",
      "Episode: 912, total_reward:200.0\n",
      "Episode: 913, total_reward:200.0\n",
      "Episode: 914, total_reward:200.0\n",
      "Episode: 915, total_reward:200.0\n",
      "Episode: 916, total_reward:200.0\n",
      "Episode: 917, total_reward:200.0\n",
      "Episode: 918, total_reward:200.0\n",
      "Episode: 919, total_reward:200.0\n",
      "Episode: 920, total_reward:200.0\n",
      "Episode: 921, total_reward:200.0\n",
      "Episode: 922, total_reward:181.0\n",
      "Episode: 923, total_reward:200.0\n",
      "Episode: 924, total_reward:200.0\n",
      "Episode: 925, total_reward:200.0\n",
      "Episode: 926, total_reward:200.0\n",
      "Episode: 927, total_reward:200.0\n",
      "Episode: 928, total_reward:200.0\n",
      "Episode: 929, total_reward:200.0\n",
      "Episode: 930, total_reward:200.0\n",
      "Episode: 931, total_reward:200.0\n",
      "Episode: 932, total_reward:200.0\n",
      "Episode: 933, total_reward:200.0\n",
      "Episode: 934, total_reward:200.0\n",
      "Episode: 935, total_reward:200.0\n",
      "Episode: 936, total_reward:200.0\n",
      "Episode: 937, total_reward:200.0\n",
      "Episode: 938, total_reward:200.0\n",
      "Episode: 939, total_reward:200.0\n",
      "Episode: 940, total_reward:200.0\n",
      "Episode: 941, total_reward:200.0\n",
      "Episode: 942, total_reward:200.0\n",
      "Episode: 943, total_reward:200.0\n",
      "Episode: 944, total_reward:200.0\n",
      "Episode: 945, total_reward:200.0\n",
      "Episode: 946, total_reward:200.0\n",
      "Episode: 947, total_reward:200.0\n",
      "Episode: 948, total_reward:200.0\n",
      "Episode: 949, total_reward:200.0\n",
      "Episode: 950, total_reward:200.0\n",
      "Episode: 951, total_reward:200.0\n",
      "Episode: 952, total_reward:200.0\n",
      "Episode: 953, total_reward:200.0\n",
      "Episode: 954, total_reward:200.0\n",
      "Episode: 955, total_reward:200.0\n",
      "Episode: 956, total_reward:200.0\n",
      "Episode: 957, total_reward:200.0\n",
      "Episode: 958, total_reward:128.0\n",
      "Episode: 959, total_reward:200.0\n",
      "Episode: 960, total_reward:200.0\n",
      "Episode: 961, total_reward:200.0\n",
      "Episode: 962, total_reward:200.0\n",
      "Episode: 963, total_reward:200.0\n",
      "Episode: 964, total_reward:200.0\n",
      "Episode: 965, total_reward:200.0\n",
      "Episode: 966, total_reward:200.0\n",
      "Episode: 967, total_reward:200.0\n",
      "Episode: 968, total_reward:200.0\n",
      "Episode: 969, total_reward:200.0\n",
      "Episode: 970, total_reward:200.0\n",
      "Episode: 971, total_reward:200.0\n",
      "Episode: 972, total_reward:200.0\n",
      "Episode: 973, total_reward:200.0\n",
      "Episode: 974, total_reward:200.0\n",
      "Episode: 975, total_reward:200.0\n",
      "Episode: 976, total_reward:200.0\n",
      "Episode: 977, total_reward:200.0\n",
      "Episode: 978, total_reward:200.0\n",
      "Episode: 979, total_reward:200.0\n",
      "Episode: 980, total_reward:200.0\n",
      "Episode: 981, total_reward:200.0\n",
      "Episode: 982, total_reward:200.0\n",
      "Episode: 983, total_reward:200.0\n",
      "Episode: 984, total_reward:197.0\n",
      "Episode: 985, total_reward:200.0\n",
      "Episode: 986, total_reward:200.0\n",
      "Episode: 987, total_reward:200.0\n",
      "Episode: 988, total_reward:200.0\n",
      "Episode: 989, total_reward:200.0\n",
      "Episode: 990, total_reward:200.0\n",
      "Episode: 991, total_reward:200.0\n",
      "Episode: 992, total_reward:200.0\n",
      "Episode: 993, total_reward:200.0\n"
     ]
    },
    {
     "name": "stderr",
     "output_type": "stream",
     "text": [
      "/home/user/anaconda3/lib/python3.8/site-packages/torch/nn/modules/loss.py:520: UserWarning: Using a target size (torch.Size([151])) that is different to the input size (torch.Size([151, 1])). This will likely lead to incorrect results due to broadcasting. Please ensure they have the same size.\n",
      "  return F.mse_loss(input, target, reduction=self.reduction)\n"
     ]
    },
    {
     "name": "stdout",
     "output_type": "stream",
     "text": [
      "Episode: 994, total_reward:151.0\n",
      "Episode: 995, total_reward:160.0\n",
      "Episode: 996, total_reward:200.0\n",
      "Episode: 997, total_reward:200.0\n",
      "Episode: 998, total_reward:200.0\n",
      "Episode: 999, total_reward:200.0\n",
      "Episode: 1000, total_reward:200.0\n",
      "Episode: 1001, total_reward:200.0\n",
      "Episode: 1002, total_reward:200.0\n",
      "Episode: 1003, total_reward:200.0\n",
      "Episode: 1004, total_reward:200.0\n",
      "Episode: 1005, total_reward:200.0\n",
      "Episode: 1006, total_reward:200.0\n",
      "Episode: 1007, total_reward:200.0\n",
      "Episode: 1008, total_reward:200.0\n",
      "Episode: 1009, total_reward:200.0\n",
      "Episode: 1010, total_reward:200.0\n",
      "Episode: 1011, total_reward:200.0\n",
      "Episode: 1012, total_reward:200.0\n",
      "Episode: 1013, total_reward:200.0\n",
      "Episode: 1014, total_reward:200.0\n",
      "Episode: 1015, total_reward:200.0\n",
      "Episode: 1016, total_reward:200.0\n",
      "Episode: 1017, total_reward:200.0\n",
      "Episode: 1018, total_reward:200.0\n",
      "Episode: 1019, total_reward:200.0\n",
      "Episode: 1020, total_reward:200.0\n",
      "Episode: 1021, total_reward:200.0\n",
      "Episode: 1022, total_reward:200.0\n",
      "Episode: 1023, total_reward:200.0\n",
      "Episode: 1024, total_reward:200.0\n",
      "Episode: 1025, total_reward:200.0\n",
      "Episode: 1026, total_reward:200.0\n",
      "Episode: 1027, total_reward:200.0\n",
      "Episode: 1028, total_reward:200.0\n",
      "Episode: 1029, total_reward:200.0\n",
      "Episode: 1030, total_reward:200.0\n",
      "Episode: 1031, total_reward:200.0\n",
      "Episode: 1032, total_reward:162.0\n",
      "Episode: 1033, total_reward:200.0\n",
      "Episode: 1034, total_reward:200.0\n",
      "Episode: 1035, total_reward:200.0\n",
      "Episode: 1036, total_reward:200.0\n",
      "Episode: 1037, total_reward:200.0\n",
      "Episode: 1038, total_reward:200.0\n",
      "Episode: 1039, total_reward:200.0\n",
      "Episode: 1040, total_reward:200.0\n",
      "Episode: 1041, total_reward:200.0\n",
      "Episode: 1042, total_reward:200.0\n",
      "Episode: 1043, total_reward:200.0\n",
      "Episode: 1044, total_reward:200.0\n",
      "Episode: 1045, total_reward:200.0\n",
      "Episode: 1046, total_reward:200.0\n",
      "Episode: 1047, total_reward:200.0\n",
      "Episode: 1048, total_reward:200.0\n",
      "Episode: 1049, total_reward:200.0\n",
      "Episode: 1050, total_reward:200.0\n",
      "Episode: 1051, total_reward:200.0\n",
      "Episode: 1052, total_reward:200.0\n",
      "Episode: 1053, total_reward:200.0\n",
      "Episode: 1054, total_reward:200.0\n",
      "Episode: 1055, total_reward:200.0\n",
      "Episode: 1056, total_reward:200.0\n",
      "Episode: 1057, total_reward:200.0\n",
      "Episode: 1058, total_reward:200.0\n",
      "Episode: 1059, total_reward:200.0\n",
      "Episode: 1060, total_reward:200.0\n",
      "Episode: 1061, total_reward:129.0\n",
      "Episode: 1062, total_reward:200.0\n",
      "Episode: 1063, total_reward:200.0\n",
      "Episode: 1064, total_reward:200.0\n",
      "Episode: 1065, total_reward:200.0\n",
      "Episode: 1066, total_reward:200.0\n",
      "Episode: 1067, total_reward:156.0\n",
      "Episode: 1068, total_reward:200.0\n",
      "Episode: 1069, total_reward:200.0\n",
      "Episode: 1070, total_reward:200.0\n",
      "Episode: 1071, total_reward:200.0\n",
      "Episode: 1072, total_reward:200.0\n",
      "Episode: 1073, total_reward:200.0\n",
      "Episode: 1074, total_reward:200.0\n",
      "Episode: 1075, total_reward:200.0\n",
      "Episode: 1076, total_reward:200.0\n",
      "Episode: 1077, total_reward:200.0\n",
      "Episode: 1078, total_reward:200.0\n",
      "Episode: 1079, total_reward:182.0\n",
      "Episode: 1080, total_reward:200.0\n",
      "Episode: 1081, total_reward:200.0\n",
      "Episode: 1082, total_reward:200.0\n",
      "Episode: 1083, total_reward:200.0\n",
      "Episode: 1084, total_reward:200.0\n",
      "Episode: 1085, total_reward:200.0\n",
      "Episode: 1086, total_reward:143.0\n",
      "Episode: 1087, total_reward:200.0\n",
      "Episode: 1088, total_reward:200.0\n",
      "Episode: 1089, total_reward:200.0\n",
      "Episode: 1090, total_reward:200.0\n",
      "Episode: 1091, total_reward:200.0\n",
      "Episode: 1092, total_reward:200.0\n",
      "Episode: 1093, total_reward:200.0\n",
      "Episode: 1094, total_reward:200.0\n",
      "Episode: 1095, total_reward:200.0\n",
      "Episode: 1096, total_reward:200.0\n",
      "Episode: 1097, total_reward:200.0\n",
      "Episode: 1098, total_reward:200.0\n",
      "Episode: 1099, total_reward:200.0\n",
      "Episode: 1100, total_reward:200.0\n",
      "Episode: 1101, total_reward:200.0\n",
      "Episode: 1102, total_reward:200.0\n",
      "Episode: 1103, total_reward:200.0\n",
      "Episode: 1104, total_reward:200.0\n",
      "Episode: 1105, total_reward:200.0\n",
      "Episode: 1106, total_reward:200.0\n",
      "Episode: 1107, total_reward:200.0\n",
      "Episode: 1108, total_reward:200.0\n",
      "Episode: 1109, total_reward:200.0\n",
      "Episode: 1110, total_reward:200.0\n",
      "Episode: 1111, total_reward:200.0\n",
      "Episode: 1112, total_reward:200.0\n",
      "Episode: 1113, total_reward:200.0\n",
      "Episode: 1114, total_reward:200.0\n",
      "Episode: 1115, total_reward:200.0\n",
      "Episode: 1116, total_reward:200.0\n",
      "Episode: 1117, total_reward:200.0\n",
      "Episode: 1118, total_reward:200.0\n",
      "Episode: 1119, total_reward:200.0\n",
      "Episode: 1120, total_reward:200.0\n",
      "Episode: 1121, total_reward:200.0\n",
      "Episode: 1122, total_reward:200.0\n",
      "Episode: 1123, total_reward:200.0\n",
      "Episode: 1124, total_reward:200.0\n",
      "Episode: 1125, total_reward:200.0\n",
      "Episode: 1126, total_reward:200.0\n",
      "Episode: 1127, total_reward:200.0\n",
      "Episode: 1128, total_reward:200.0\n",
      "Episode: 1129, total_reward:200.0\n",
      "Episode: 1130, total_reward:200.0\n",
      "Episode: 1131, total_reward:200.0\n",
      "Episode: 1132, total_reward:200.0\n",
      "Episode: 1133, total_reward:200.0\n",
      "Episode: 1134, total_reward:200.0\n",
      "Episode: 1135, total_reward:200.0\n",
      "Episode: 1136, total_reward:200.0\n",
      "Episode: 1137, total_reward:200.0\n",
      "Episode: 1138, total_reward:200.0\n",
      "Episode: 1139, total_reward:200.0\n",
      "Episode: 1140, total_reward:200.0\n",
      "Episode: 1141, total_reward:200.0\n",
      "Episode: 1142, total_reward:200.0\n",
      "Episode: 1143, total_reward:200.0\n",
      "Episode: 1144, total_reward:200.0\n",
      "Episode: 1145, total_reward:200.0\n",
      "Episode: 1146, total_reward:200.0\n",
      "Episode: 1147, total_reward:200.0\n",
      "Episode: 1148, total_reward:200.0\n",
      "Episode: 1149, total_reward:200.0\n",
      "Episode: 1150, total_reward:200.0\n",
      "Episode: 1151, total_reward:200.0\n",
      "Episode: 1152, total_reward:200.0\n",
      "Episode: 1153, total_reward:200.0\n",
      "Episode: 1154, total_reward:200.0\n",
      "Episode: 1155, total_reward:200.0\n",
      "Episode: 1156, total_reward:200.0\n",
      "Episode: 1157, total_reward:200.0\n",
      "Episode: 1158, total_reward:200.0\n",
      "Episode: 1159, total_reward:200.0\n",
      "Episode: 1160, total_reward:200.0\n",
      "Episode: 1161, total_reward:200.0\n",
      "Episode: 1162, total_reward:200.0\n",
      "Episode: 1163, total_reward:200.0\n",
      "Episode: 1164, total_reward:200.0\n",
      "Episode: 1165, total_reward:200.0\n",
      "Episode: 1166, total_reward:200.0\n",
      "Episode: 1167, total_reward:200.0\n",
      "Episode: 1168, total_reward:200.0\n",
      "Episode: 1169, total_reward:200.0\n",
      "Episode: 1170, total_reward:200.0\n",
      "Episode: 1171, total_reward:200.0\n",
      "Episode: 1172, total_reward:200.0\n",
      "Episode: 1173, total_reward:200.0\n",
      "Episode: 1174, total_reward:200.0\n",
      "Episode: 1175, total_reward:200.0\n",
      "Episode: 1176, total_reward:200.0\n",
      "Episode: 1177, total_reward:200.0\n",
      "Episode: 1178, total_reward:200.0\n",
      "Episode: 1179, total_reward:200.0\n",
      "Episode: 1180, total_reward:200.0\n",
      "Episode: 1181, total_reward:200.0\n",
      "Episode: 1182, total_reward:200.0\n",
      "Episode: 1183, total_reward:200.0\n",
      "Episode: 1184, total_reward:200.0\n",
      "Episode: 1185, total_reward:200.0\n",
      "Episode: 1186, total_reward:200.0\n",
      "Episode: 1187, total_reward:200.0\n",
      "Episode: 1188, total_reward:200.0\n",
      "Episode: 1189, total_reward:200.0\n",
      "Episode: 1190, total_reward:200.0\n",
      "Episode: 1191, total_reward:200.0\n",
      "Episode: 1192, total_reward:200.0\n",
      "Episode: 1193, total_reward:200.0\n",
      "Episode: 1194, total_reward:200.0\n",
      "Episode: 1195, total_reward:200.0\n",
      "Episode: 1196, total_reward:200.0\n",
      "Episode: 1197, total_reward:200.0\n",
      "Episode: 1198, total_reward:200.0\n",
      "Episode: 1199, total_reward:200.0\n",
      "Episode: 1200, total_reward:200.0\n",
      "Episode: 1201, total_reward:200.0\n",
      "Episode: 1202, total_reward:200.0\n",
      "Episode: 1203, total_reward:200.0\n",
      "Episode: 1204, total_reward:200.0\n",
      "Episode: 1205, total_reward:200.0\n",
      "Episode: 1206, total_reward:200.0\n",
      "Episode: 1207, total_reward:200.0\n",
      "Episode: 1208, total_reward:200.0\n",
      "Episode: 1209, total_reward:200.0\n",
      "Episode: 1210, total_reward:200.0\n",
      "Episode: 1211, total_reward:200.0\n",
      "Episode: 1212, total_reward:200.0\n",
      "Episode: 1213, total_reward:200.0\n",
      "Episode: 1214, total_reward:200.0\n",
      "Episode: 1215, total_reward:200.0\n",
      "Episode: 1216, total_reward:200.0\n",
      "Episode: 1217, total_reward:200.0\n",
      "Episode: 1218, total_reward:200.0\n",
      "Episode: 1219, total_reward:200.0\n",
      "Episode: 1220, total_reward:200.0\n",
      "Episode: 1221, total_reward:200.0\n",
      "Episode: 1222, total_reward:200.0\n",
      "Episode: 1223, total_reward:200.0\n",
      "Episode: 1224, total_reward:200.0\n",
      "Episode: 1225, total_reward:200.0\n",
      "Episode: 1226, total_reward:200.0\n",
      "Episode: 1227, total_reward:200.0\n",
      "Episode: 1228, total_reward:200.0\n",
      "Episode: 1229, total_reward:200.0\n",
      "Episode: 1230, total_reward:200.0\n",
      "Episode: 1231, total_reward:200.0\n",
      "Episode: 1232, total_reward:200.0\n",
      "Episode: 1233, total_reward:200.0\n",
      "Episode: 1234, total_reward:200.0\n",
      "Episode: 1235, total_reward:200.0\n"
     ]
    },
    {
     "name": "stdout",
     "output_type": "stream",
     "text": [
      "Episode: 1236, total_reward:200.0\n",
      "Episode: 1237, total_reward:200.0\n",
      "Episode: 1238, total_reward:200.0\n",
      "Episode: 1239, total_reward:200.0\n",
      "Episode: 1240, total_reward:200.0\n",
      "Episode: 1241, total_reward:200.0\n",
      "Episode: 1242, total_reward:200.0\n",
      "Episode: 1243, total_reward:200.0\n",
      "Episode: 1244, total_reward:200.0\n",
      "Episode: 1245, total_reward:200.0\n",
      "Episode: 1246, total_reward:200.0\n",
      "Episode: 1247, total_reward:200.0\n",
      "Episode: 1248, total_reward:200.0\n",
      "Episode: 1249, total_reward:200.0\n",
      "Episode: 1250, total_reward:200.0\n",
      "Episode: 1251, total_reward:200.0\n",
      "Episode: 1252, total_reward:200.0\n",
      "Episode: 1253, total_reward:200.0\n",
      "Episode: 1254, total_reward:200.0\n",
      "Episode: 1255, total_reward:200.0\n",
      "Episode: 1256, total_reward:200.0\n",
      "Episode: 1257, total_reward:200.0\n",
      "Episode: 1258, total_reward:200.0\n",
      "Episode: 1259, total_reward:200.0\n",
      "Episode: 1260, total_reward:200.0\n",
      "Episode: 1261, total_reward:200.0\n",
      "Episode: 1262, total_reward:200.0\n",
      "Episode: 1263, total_reward:200.0\n",
      "Episode: 1264, total_reward:107.0\n",
      "Episode: 1265, total_reward:200.0\n",
      "Episode: 1266, total_reward:200.0\n",
      "Episode: 1267, total_reward:200.0\n",
      "Episode: 1268, total_reward:200.0\n",
      "Episode: 1269, total_reward:200.0\n",
      "Episode: 1270, total_reward:200.0\n",
      "Episode: 1271, total_reward:200.0\n",
      "Episode: 1272, total_reward:200.0\n",
      "Episode: 1273, total_reward:200.0\n",
      "Episode: 1274, total_reward:200.0\n",
      "Episode: 1275, total_reward:200.0\n",
      "Episode: 1276, total_reward:200.0\n",
      "Episode: 1277, total_reward:200.0\n",
      "Episode: 1278, total_reward:200.0\n",
      "Episode: 1279, total_reward:200.0\n",
      "Episode: 1280, total_reward:200.0\n",
      "Episode: 1281, total_reward:200.0\n",
      "Episode: 1282, total_reward:200.0\n",
      "Episode: 1283, total_reward:200.0\n",
      "Episode: 1284, total_reward:200.0\n",
      "Episode: 1285, total_reward:200.0\n",
      "Episode: 1286, total_reward:200.0\n",
      "Episode: 1287, total_reward:200.0\n",
      "Episode: 1288, total_reward:200.0\n",
      "Episode: 1289, total_reward:200.0\n",
      "Episode: 1290, total_reward:200.0\n",
      "Episode: 1291, total_reward:200.0\n",
      "Episode: 1292, total_reward:200.0\n",
      "Episode: 1293, total_reward:200.0\n",
      "Episode: 1294, total_reward:200.0\n",
      "Episode: 1295, total_reward:200.0\n",
      "Episode: 1296, total_reward:200.0\n",
      "Episode: 1297, total_reward:200.0\n",
      "Episode: 1298, total_reward:200.0\n",
      "Episode: 1299, total_reward:200.0\n",
      "Episode: 1300, total_reward:200.0\n",
      "Episode: 1301, total_reward:200.0\n",
      "Episode: 1302, total_reward:200.0\n",
      "Episode: 1303, total_reward:200.0\n",
      "Episode: 1304, total_reward:200.0\n",
      "Episode: 1305, total_reward:200.0\n",
      "Episode: 1306, total_reward:200.0\n",
      "Episode: 1307, total_reward:200.0\n",
      "Episode: 1308, total_reward:200.0\n",
      "Episode: 1309, total_reward:200.0\n",
      "Episode: 1310, total_reward:200.0\n",
      "Episode: 1311, total_reward:200.0\n",
      "Episode: 1312, total_reward:200.0\n",
      "Episode: 1313, total_reward:200.0\n",
      "Episode: 1314, total_reward:200.0\n",
      "Episode: 1315, total_reward:200.0\n",
      "Episode: 1316, total_reward:200.0\n",
      "Episode: 1317, total_reward:200.0\n",
      "Episode: 1318, total_reward:200.0\n",
      "Episode: 1319, total_reward:200.0\n"
     ]
    },
    {
     "name": "stderr",
     "output_type": "stream",
     "text": [
      "/home/user/anaconda3/lib/python3.8/site-packages/torch/nn/modules/loss.py:520: UserWarning: Using a target size (torch.Size([164])) that is different to the input size (torch.Size([164, 1])). This will likely lead to incorrect results due to broadcasting. Please ensure they have the same size.\n",
      "  return F.mse_loss(input, target, reduction=self.reduction)\n"
     ]
    },
    {
     "name": "stdout",
     "output_type": "stream",
     "text": [
      "Episode: 1320, total_reward:164.0\n",
      "Episode: 1321, total_reward:200.0\n",
      "Episode: 1322, total_reward:200.0\n",
      "Episode: 1323, total_reward:200.0\n",
      "Episode: 1324, total_reward:200.0\n",
      "Episode: 1325, total_reward:200.0\n",
      "Episode: 1326, total_reward:200.0\n",
      "Episode: 1327, total_reward:200.0\n",
      "Episode: 1328, total_reward:200.0\n",
      "Episode: 1329, total_reward:200.0\n",
      "Episode: 1330, total_reward:200.0\n",
      "Episode: 1331, total_reward:200.0\n",
      "Episode: 1332, total_reward:200.0\n",
      "Episode: 1333, total_reward:200.0\n",
      "Episode: 1334, total_reward:200.0\n",
      "Episode: 1335, total_reward:200.0\n",
      "Episode: 1336, total_reward:200.0\n",
      "Episode: 1337, total_reward:200.0\n",
      "Episode: 1338, total_reward:200.0\n",
      "Episode: 1339, total_reward:200.0\n",
      "Episode: 1340, total_reward:200.0\n",
      "Episode: 1341, total_reward:200.0\n",
      "Episode: 1342, total_reward:200.0\n",
      "Episode: 1343, total_reward:200.0\n",
      "Episode: 1344, total_reward:200.0\n",
      "Episode: 1345, total_reward:200.0\n",
      "Episode: 1346, total_reward:200.0\n",
      "Episode: 1347, total_reward:200.0\n",
      "Episode: 1348, total_reward:200.0\n",
      "Episode: 1349, total_reward:200.0\n",
      "Episode: 1350, total_reward:200.0\n",
      "Episode: 1351, total_reward:200.0\n",
      "Episode: 1352, total_reward:200.0\n",
      "Episode: 1353, total_reward:200.0\n",
      "Episode: 1354, total_reward:200.0\n",
      "Episode: 1355, total_reward:200.0\n",
      "Episode: 1356, total_reward:200.0\n",
      "Episode: 1357, total_reward:200.0\n",
      "Episode: 1358, total_reward:200.0\n",
      "Episode: 1359, total_reward:200.0\n",
      "Episode: 1360, total_reward:200.0\n",
      "Episode: 1361, total_reward:200.0\n",
      "Episode: 1362, total_reward:200.0\n",
      "Episode: 1363, total_reward:200.0\n",
      "Episode: 1364, total_reward:200.0\n",
      "Episode: 1365, total_reward:200.0\n",
      "Episode: 1366, total_reward:200.0\n",
      "Episode: 1367, total_reward:200.0\n",
      "Episode: 1368, total_reward:200.0\n",
      "Episode: 1369, total_reward:200.0\n",
      "Episode: 1370, total_reward:200.0\n",
      "Episode: 1371, total_reward:200.0\n",
      "Episode: 1372, total_reward:200.0\n",
      "Episode: 1373, total_reward:200.0\n",
      "Episode: 1374, total_reward:200.0\n",
      "Episode: 1375, total_reward:200.0\n",
      "Episode: 1376, total_reward:200.0\n",
      "Episode: 1377, total_reward:200.0\n",
      "Episode: 1378, total_reward:200.0\n",
      "Episode: 1379, total_reward:200.0\n",
      "Episode: 1380, total_reward:200.0\n",
      "Episode: 1381, total_reward:200.0\n",
      "Episode: 1382, total_reward:200.0\n",
      "Episode: 1383, total_reward:200.0\n",
      "Episode: 1384, total_reward:200.0\n",
      "Episode: 1385, total_reward:200.0\n",
      "Episode: 1386, total_reward:200.0\n",
      "Episode: 1387, total_reward:200.0\n",
      "Episode: 1388, total_reward:200.0\n",
      "Episode: 1389, total_reward:200.0\n",
      "Episode: 1390, total_reward:200.0\n",
      "Episode: 1391, total_reward:200.0\n",
      "Episode: 1392, total_reward:200.0\n",
      "Episode: 1393, total_reward:200.0\n",
      "Episode: 1394, total_reward:200.0\n",
      "Episode: 1395, total_reward:200.0\n",
      "Episode: 1396, total_reward:200.0\n",
      "Episode: 1397, total_reward:200.0\n",
      "Episode: 1398, total_reward:200.0\n",
      "Episode: 1399, total_reward:200.0\n",
      "Episode: 1400, total_reward:200.0\n",
      "Episode: 1401, total_reward:200.0\n",
      "Episode: 1402, total_reward:200.0\n",
      "Episode: 1403, total_reward:200.0\n",
      "Episode: 1404, total_reward:200.0\n",
      "Episode: 1405, total_reward:200.0\n",
      "Episode: 1406, total_reward:200.0\n",
      "Episode: 1407, total_reward:200.0\n",
      "Episode: 1408, total_reward:200.0\n",
      "Episode: 1409, total_reward:200.0\n",
      "Episode: 1410, total_reward:200.0\n",
      "Episode: 1411, total_reward:200.0\n",
      "Episode: 1412, total_reward:200.0\n",
      "Episode: 1413, total_reward:200.0\n",
      "Episode: 1414, total_reward:200.0\n",
      "Episode: 1415, total_reward:200.0\n",
      "Episode: 1416, total_reward:200.0\n",
      "Episode: 1417, total_reward:200.0\n",
      "Episode: 1418, total_reward:200.0\n",
      "Episode: 1419, total_reward:200.0\n",
      "Episode: 1420, total_reward:200.0\n",
      "Episode: 1421, total_reward:200.0\n",
      "Episode: 1422, total_reward:200.0\n",
      "Episode: 1423, total_reward:200.0\n",
      "Episode: 1424, total_reward:200.0\n",
      "Episode: 1425, total_reward:200.0\n",
      "Episode: 1426, total_reward:200.0\n",
      "Episode: 1427, total_reward:200.0\n",
      "Episode: 1428, total_reward:200.0\n",
      "Episode: 1429, total_reward:200.0\n",
      "Episode: 1430, total_reward:200.0\n",
      "Episode: 1431, total_reward:200.0\n",
      "Episode: 1432, total_reward:200.0\n",
      "Episode: 1433, total_reward:200.0\n",
      "Episode: 1434, total_reward:200.0\n",
      "Episode: 1435, total_reward:200.0\n",
      "Episode: 1436, total_reward:200.0\n",
      "Episode: 1437, total_reward:200.0\n",
      "Episode: 1438, total_reward:200.0\n",
      "Episode: 1439, total_reward:200.0\n",
      "Episode: 1440, total_reward:200.0\n",
      "Episode: 1441, total_reward:200.0\n",
      "Episode: 1442, total_reward:200.0\n",
      "Episode: 1443, total_reward:200.0\n",
      "Episode: 1444, total_reward:200.0\n",
      "Episode: 1445, total_reward:200.0\n",
      "Episode: 1446, total_reward:200.0\n",
      "Episode: 1447, total_reward:200.0\n",
      "Episode: 1448, total_reward:200.0\n",
      "Episode: 1449, total_reward:200.0\n",
      "Episode: 1450, total_reward:200.0\n",
      "Episode: 1451, total_reward:200.0\n",
      "Episode: 1452, total_reward:200.0\n",
      "Episode: 1453, total_reward:200.0\n",
      "Episode: 1454, total_reward:200.0\n",
      "Episode: 1455, total_reward:200.0\n",
      "Episode: 1456, total_reward:194.0\n"
     ]
    },
    {
     "name": "stderr",
     "output_type": "stream",
     "text": [
      "/home/user/anaconda3/lib/python3.8/site-packages/torch/nn/modules/loss.py:520: UserWarning: Using a target size (torch.Size([194])) that is different to the input size (torch.Size([194, 1])). This will likely lead to incorrect results due to broadcasting. Please ensure they have the same size.\n",
      "  return F.mse_loss(input, target, reduction=self.reduction)\n"
     ]
    },
    {
     "name": "stdout",
     "output_type": "stream",
     "text": [
      "Episode: 1457, total_reward:200.0\n",
      "Episode: 1458, total_reward:200.0\n",
      "Episode: 1459, total_reward:200.0\n",
      "Episode: 1460, total_reward:200.0\n",
      "Episode: 1461, total_reward:200.0\n",
      "Episode: 1462, total_reward:200.0\n",
      "Episode: 1463, total_reward:200.0\n",
      "Episode: 1464, total_reward:200.0\n",
      "Episode: 1465, total_reward:200.0\n",
      "Episode: 1466, total_reward:200.0\n",
      "Episode: 1467, total_reward:200.0\n",
      "Episode: 1468, total_reward:200.0\n",
      "Episode: 1469, total_reward:200.0\n",
      "Episode: 1470, total_reward:200.0\n",
      "Episode: 1471, total_reward:193.0\n"
     ]
    },
    {
     "name": "stderr",
     "output_type": "stream",
     "text": [
      "/home/user/anaconda3/lib/python3.8/site-packages/torch/nn/modules/loss.py:520: UserWarning: Using a target size (torch.Size([193])) that is different to the input size (torch.Size([193, 1])). This will likely lead to incorrect results due to broadcasting. Please ensure they have the same size.\n",
      "  return F.mse_loss(input, target, reduction=self.reduction)\n"
     ]
    },
    {
     "name": "stdout",
     "output_type": "stream",
     "text": [
      "Episode: 1472, total_reward:200.0\n",
      "Episode: 1473, total_reward:200.0\n",
      "Episode: 1474, total_reward:200.0\n",
      "Episode: 1475, total_reward:200.0\n",
      "Episode: 1476, total_reward:200.0\n",
      "Episode: 1477, total_reward:200.0\n",
      "Episode: 1478, total_reward:200.0\n",
      "Episode: 1479, total_reward:200.0\n",
      "Episode: 1480, total_reward:200.0\n",
      "Episode: 1481, total_reward:200.0\n",
      "Episode: 1482, total_reward:200.0\n",
      "Episode: 1483, total_reward:200.0\n",
      "Episode: 1484, total_reward:200.0\n",
      "Episode: 1485, total_reward:200.0\n",
      "Episode: 1486, total_reward:200.0\n",
      "Episode: 1487, total_reward:75.0\n",
      "Episode: 1488, total_reward:200.0\n",
      "Episode: 1489, total_reward:200.0\n",
      "Episode: 1490, total_reward:200.0\n",
      "Episode: 1491, total_reward:200.0\n",
      "Episode: 1492, total_reward:200.0\n",
      "Episode: 1493, total_reward:200.0\n",
      "Episode: 1494, total_reward:200.0\n",
      "Episode: 1495, total_reward:200.0\n",
      "Episode: 1496, total_reward:200.0\n",
      "Episode: 1497, total_reward:200.0\n",
      "Episode: 1498, total_reward:200.0\n",
      "Episode: 1499, total_reward:200.0\n",
      "Episode: 1500, total_reward:200.0\n",
      "Episode: 1501, total_reward:200.0\n",
      "Episode: 1502, total_reward:200.0\n",
      "Episode: 1503, total_reward:200.0\n",
      "Episode: 1504, total_reward:200.0\n",
      "Episode: 1505, total_reward:200.0\n",
      "Episode: 1506, total_reward:200.0\n",
      "Episode: 1507, total_reward:200.0\n",
      "Episode: 1508, total_reward:200.0\n",
      "Episode: 1509, total_reward:200.0\n",
      "Episode: 1510, total_reward:200.0\n",
      "Episode: 1511, total_reward:200.0\n",
      "Episode: 1512, total_reward:200.0\n",
      "Episode: 1513, total_reward:200.0\n",
      "Episode: 1514, total_reward:200.0\n",
      "Episode: 1515, total_reward:200.0\n",
      "Episode: 1516, total_reward:200.0\n",
      "Episode: 1517, total_reward:200.0\n",
      "Episode: 1518, total_reward:200.0\n",
      "Episode: 1519, total_reward:200.0\n",
      "Episode: 1520, total_reward:200.0\n",
      "Episode: 1521, total_reward:200.0\n",
      "Episode: 1522, total_reward:200.0\n",
      "Episode: 1523, total_reward:200.0\n",
      "Episode: 1524, total_reward:200.0\n",
      "Episode: 1525, total_reward:200.0\n",
      "Episode: 1526, total_reward:200.0\n",
      "Episode: 1527, total_reward:200.0\n",
      "Episode: 1528, total_reward:200.0\n",
      "Episode: 1529, total_reward:200.0\n",
      "Episode: 1530, total_reward:200.0\n",
      "Episode: 1531, total_reward:200.0\n",
      "Episode: 1532, total_reward:200.0\n",
      "Episode: 1533, total_reward:200.0\n",
      "Episode: 1534, total_reward:200.0\n",
      "Episode: 1535, total_reward:200.0\n",
      "Episode: 1536, total_reward:200.0\n",
      "Episode: 1537, total_reward:200.0\n",
      "Episode: 1538, total_reward:200.0\n",
      "Episode: 1539, total_reward:200.0\n",
      "Episode: 1540, total_reward:200.0\n",
      "Episode: 1541, total_reward:200.0\n",
      "Episode: 1542, total_reward:200.0\n",
      "Episode: 1543, total_reward:200.0\n",
      "Episode: 1544, total_reward:200.0\n",
      "Episode: 1545, total_reward:200.0\n",
      "Episode: 1546, total_reward:200.0\n",
      "Episode: 1547, total_reward:200.0\n",
      "Episode: 1548, total_reward:200.0\n",
      "Episode: 1549, total_reward:200.0\n",
      "Episode: 1550, total_reward:200.0\n",
      "Episode: 1551, total_reward:200.0\n",
      "Episode: 1552, total_reward:200.0\n",
      "Episode: 1553, total_reward:200.0\n",
      "Episode: 1554, total_reward:200.0\n",
      "Episode: 1555, total_reward:200.0\n",
      "Episode: 1556, total_reward:200.0\n",
      "Episode: 1557, total_reward:200.0\n",
      "Episode: 1558, total_reward:200.0\n",
      "Episode: 1559, total_reward:200.0\n",
      "Episode: 1560, total_reward:200.0\n",
      "Episode: 1561, total_reward:200.0\n",
      "Episode: 1562, total_reward:145.0\n",
      "Episode: 1563, total_reward:200.0\n",
      "Episode: 1564, total_reward:163.0\n",
      "Episode: 1565, total_reward:200.0\n",
      "Episode: 1566, total_reward:200.0\n",
      "Episode: 1567, total_reward:200.0\n",
      "Episode: 1568, total_reward:142.0\n",
      "Episode: 1569, total_reward:200.0\n",
      "Episode: 1570, total_reward:200.0\n",
      "Episode: 1571, total_reward:200.0\n",
      "Episode: 1572, total_reward:200.0\n",
      "Episode: 1573, total_reward:200.0\n",
      "Episode: 1574, total_reward:170.0\n",
      "Episode: 1575, total_reward:200.0\n",
      "Episode: 1576, total_reward:200.0\n",
      "Episode: 1577, total_reward:200.0\n",
      "Episode: 1578, total_reward:200.0\n",
      "Episode: 1579, total_reward:200.0\n",
      "Episode: 1580, total_reward:200.0\n",
      "Episode: 1581, total_reward:200.0\n",
      "Episode: 1582, total_reward:200.0\n",
      "Episode: 1583, total_reward:200.0\n",
      "Episode: 1584, total_reward:200.0\n",
      "Episode: 1585, total_reward:200.0\n",
      "Episode: 1586, total_reward:200.0\n",
      "Episode: 1587, total_reward:200.0\n",
      "Episode: 1588, total_reward:200.0\n",
      "Episode: 1589, total_reward:200.0\n",
      "Episode: 1590, total_reward:200.0\n",
      "Episode: 1591, total_reward:200.0\n",
      "Episode: 1592, total_reward:200.0\n",
      "Episode: 1593, total_reward:200.0\n",
      "Episode: 1594, total_reward:200.0\n",
      "Episode: 1595, total_reward:200.0\n",
      "Episode: 1596, total_reward:200.0\n",
      "Episode: 1597, total_reward:200.0\n",
      "Episode: 1598, total_reward:200.0\n",
      "Episode: 1599, total_reward:200.0\n",
      "Episode: 1600, total_reward:179.0\n",
      "Episode: 1601, total_reward:200.0\n",
      "Episode: 1602, total_reward:200.0\n",
      "Episode: 1603, total_reward:200.0\n",
      "Episode: 1604, total_reward:200.0\n",
      "Episode: 1605, total_reward:200.0\n",
      "Episode: 1606, total_reward:200.0\n",
      "Episode: 1607, total_reward:200.0\n",
      "Episode: 1608, total_reward:200.0\n",
      "Episode: 1609, total_reward:200.0\n",
      "Episode: 1610, total_reward:200.0\n",
      "Episode: 1611, total_reward:200.0\n",
      "Episode: 1612, total_reward:200.0\n",
      "Episode: 1613, total_reward:200.0\n",
      "Episode: 1614, total_reward:200.0\n",
      "Episode: 1615, total_reward:200.0\n",
      "Episode: 1616, total_reward:200.0\n",
      "Episode: 1617, total_reward:200.0\n",
      "Episode: 1618, total_reward:200.0\n",
      "Episode: 1619, total_reward:200.0\n",
      "Episode: 1620, total_reward:200.0\n",
      "Episode: 1621, total_reward:200.0\n",
      "Episode: 1622, total_reward:200.0\n",
      "Episode: 1623, total_reward:200.0\n",
      "Episode: 1624, total_reward:200.0\n",
      "Episode: 1625, total_reward:200.0\n",
      "Episode: 1626, total_reward:200.0\n",
      "Episode: 1627, total_reward:200.0\n",
      "Episode: 1628, total_reward:200.0\n",
      "Episode: 1629, total_reward:200.0\n",
      "Episode: 1630, total_reward:200.0\n",
      "Episode: 1631, total_reward:200.0\n",
      "Episode: 1632, total_reward:200.0\n",
      "Episode: 1633, total_reward:200.0\n",
      "Episode: 1634, total_reward:200.0\n",
      "Episode: 1635, total_reward:200.0\n",
      "Episode: 1636, total_reward:200.0\n",
      "Episode: 1637, total_reward:200.0\n",
      "Episode: 1638, total_reward:200.0\n",
      "Episode: 1639, total_reward:200.0\n",
      "Episode: 1640, total_reward:200.0\n",
      "Episode: 1641, total_reward:200.0\n",
      "Episode: 1642, total_reward:200.0\n",
      "Episode: 1643, total_reward:200.0\n",
      "Episode: 1644, total_reward:200.0\n",
      "Episode: 1645, total_reward:200.0\n",
      "Episode: 1646, total_reward:200.0\n",
      "Episode: 1647, total_reward:200.0\n",
      "Episode: 1648, total_reward:200.0\n",
      "Episode: 1649, total_reward:200.0\n",
      "Episode: 1650, total_reward:200.0\n",
      "Episode: 1651, total_reward:200.0\n",
      "Episode: 1652, total_reward:200.0\n",
      "Episode: 1653, total_reward:200.0\n",
      "Episode: 1654, total_reward:200.0\n",
      "Episode: 1655, total_reward:200.0\n",
      "Episode: 1656, total_reward:200.0\n",
      "Episode: 1657, total_reward:200.0\n",
      "Episode: 1658, total_reward:200.0\n",
      "Episode: 1659, total_reward:200.0\n",
      "Episode: 1660, total_reward:200.0\n",
      "Episode: 1661, total_reward:200.0\n",
      "Episode: 1662, total_reward:200.0\n",
      "Episode: 1663, total_reward:200.0\n",
      "Episode: 1664, total_reward:200.0\n",
      "Episode: 1665, total_reward:200.0\n",
      "Episode: 1666, total_reward:200.0\n",
      "Episode: 1667, total_reward:200.0\n",
      "Episode: 1668, total_reward:200.0\n",
      "Episode: 1669, total_reward:200.0\n",
      "Episode: 1670, total_reward:200.0\n",
      "Episode: 1671, total_reward:200.0\n",
      "Episode: 1672, total_reward:200.0\n",
      "Episode: 1673, total_reward:200.0\n",
      "Episode: 1674, total_reward:200.0\n",
      "Episode: 1675, total_reward:200.0\n",
      "Episode: 1676, total_reward:200.0\n",
      "Episode: 1677, total_reward:200.0\n",
      "Episode: 1678, total_reward:200.0\n",
      "Episode: 1679, total_reward:200.0\n",
      "Episode: 1680, total_reward:200.0\n",
      "Episode: 1681, total_reward:200.0\n",
      "Episode: 1682, total_reward:200.0\n",
      "Episode: 1683, total_reward:200.0\n",
      "Episode: 1684, total_reward:200.0\n",
      "Episode: 1685, total_reward:200.0\n",
      "Episode: 1686, total_reward:200.0\n",
      "Episode: 1687, total_reward:200.0\n",
      "Episode: 1688, total_reward:200.0\n",
      "Episode: 1689, total_reward:200.0\n",
      "Episode: 1690, total_reward:200.0\n",
      "Episode: 1691, total_reward:200.0\n",
      "Episode: 1692, total_reward:200.0\n",
      "Episode: 1693, total_reward:200.0\n",
      "Episode: 1694, total_reward:200.0\n",
      "Episode: 1695, total_reward:200.0\n",
      "Episode: 1696, total_reward:200.0\n",
      "Episode: 1697, total_reward:200.0\n",
      "Episode: 1698, total_reward:200.0\n",
      "Episode: 1699, total_reward:200.0\n",
      "Episode: 1700, total_reward:200.0\n",
      "Episode: 1701, total_reward:200.0\n",
      "Episode: 1702, total_reward:200.0\n",
      "Episode: 1703, total_reward:200.0\n",
      "Episode: 1704, total_reward:200.0\n",
      "Episode: 1705, total_reward:200.0\n",
      "Episode: 1706, total_reward:200.0\n",
      "Episode: 1707, total_reward:200.0\n",
      "Episode: 1708, total_reward:200.0\n",
      "Episode: 1709, total_reward:200.0\n",
      "Episode: 1710, total_reward:200.0\n",
      "Episode: 1711, total_reward:200.0\n",
      "Episode: 1712, total_reward:200.0\n",
      "Episode: 1713, total_reward:200.0\n"
     ]
    },
    {
     "name": "stdout",
     "output_type": "stream",
     "text": [
      "Episode: 1714, total_reward:200.0\n",
      "Episode: 1715, total_reward:200.0\n",
      "Episode: 1716, total_reward:200.0\n",
      "Episode: 1717, total_reward:200.0\n",
      "Episode: 1718, total_reward:200.0\n",
      "Episode: 1719, total_reward:200.0\n",
      "Episode: 1720, total_reward:200.0\n",
      "Episode: 1721, total_reward:200.0\n",
      "Episode: 1722, total_reward:200.0\n",
      "Episode: 1723, total_reward:200.0\n",
      "Episode: 1724, total_reward:200.0\n",
      "Episode: 1725, total_reward:165.0\n",
      "Episode: 1726, total_reward:200.0\n",
      "Episode: 1727, total_reward:200.0\n",
      "Episode: 1728, total_reward:200.0\n",
      "Episode: 1729, total_reward:200.0\n",
      "Episode: 1730, total_reward:200.0\n",
      "Episode: 1731, total_reward:200.0\n",
      "Episode: 1732, total_reward:200.0\n",
      "Episode: 1733, total_reward:200.0\n",
      "Episode: 1734, total_reward:200.0\n",
      "Episode: 1735, total_reward:200.0\n",
      "Episode: 1736, total_reward:200.0\n",
      "Episode: 1737, total_reward:200.0\n",
      "Episode: 1738, total_reward:200.0\n",
      "Episode: 1739, total_reward:200.0\n",
      "Episode: 1740, total_reward:200.0\n",
      "Episode: 1741, total_reward:200.0\n",
      "Episode: 1742, total_reward:200.0\n",
      "Episode: 1743, total_reward:200.0\n",
      "Episode: 1744, total_reward:200.0\n",
      "Episode: 1745, total_reward:200.0\n",
      "Episode: 1746, total_reward:200.0\n",
      "Episode: 1747, total_reward:200.0\n",
      "Episode: 1748, total_reward:200.0\n",
      "Episode: 1749, total_reward:200.0\n",
      "Episode: 1750, total_reward:200.0\n",
      "Episode: 1751, total_reward:200.0\n",
      "Episode: 1752, total_reward:200.0\n",
      "Episode: 1753, total_reward:200.0\n",
      "Episode: 1754, total_reward:200.0\n",
      "Episode: 1755, total_reward:200.0\n",
      "Episode: 1756, total_reward:200.0\n",
      "Episode: 1757, total_reward:200.0\n",
      "Episode: 1758, total_reward:200.0\n",
      "Episode: 1759, total_reward:200.0\n",
      "Episode: 1760, total_reward:200.0\n",
      "Episode: 1761, total_reward:200.0\n",
      "Episode: 1762, total_reward:200.0\n",
      "Episode: 1763, total_reward:200.0\n",
      "Episode: 1764, total_reward:200.0\n",
      "Episode: 1765, total_reward:200.0\n",
      "Episode: 1766, total_reward:200.0\n",
      "Episode: 1767, total_reward:200.0\n",
      "Episode: 1768, total_reward:200.0\n",
      "Episode: 1769, total_reward:200.0\n",
      "Episode: 1770, total_reward:200.0\n",
      "Episode: 1771, total_reward:155.0\n",
      "Episode: 1772, total_reward:200.0\n",
      "Episode: 1773, total_reward:200.0\n",
      "Episode: 1774, total_reward:200.0\n",
      "Episode: 1775, total_reward:200.0\n",
      "Episode: 1776, total_reward:200.0\n",
      "Episode: 1777, total_reward:200.0\n",
      "Episode: 1778, total_reward:200.0\n",
      "Episode: 1779, total_reward:200.0\n",
      "Episode: 1780, total_reward:200.0\n",
      "Episode: 1781, total_reward:200.0\n",
      "Episode: 1782, total_reward:200.0\n",
      "Episode: 1783, total_reward:200.0\n",
      "Episode: 1784, total_reward:200.0\n",
      "Episode: 1785, total_reward:200.0\n",
      "Episode: 1786, total_reward:200.0\n",
      "Episode: 1787, total_reward:200.0\n",
      "Episode: 1788, total_reward:200.0\n",
      "Episode: 1789, total_reward:200.0\n",
      "Episode: 1790, total_reward:200.0\n",
      "Episode: 1791, total_reward:200.0\n",
      "Episode: 1792, total_reward:200.0\n",
      "Episode: 1793, total_reward:200.0\n",
      "Episode: 1794, total_reward:200.0\n",
      "Episode: 1795, total_reward:200.0\n",
      "Episode: 1796, total_reward:200.0\n",
      "Episode: 1797, total_reward:200.0\n",
      "Episode: 1798, total_reward:200.0\n",
      "Episode: 1799, total_reward:200.0\n",
      "Episode: 1800, total_reward:200.0\n",
      "Episode: 1801, total_reward:200.0\n",
      "Episode: 1802, total_reward:200.0\n",
      "Episode: 1803, total_reward:200.0\n",
      "Episode: 1804, total_reward:200.0\n",
      "Episode: 1805, total_reward:200.0\n",
      "Episode: 1806, total_reward:200.0\n",
      "Episode: 1807, total_reward:200.0\n",
      "Episode: 1808, total_reward:200.0\n",
      "Episode: 1809, total_reward:200.0\n",
      "Episode: 1810, total_reward:200.0\n",
      "Episode: 1811, total_reward:200.0\n",
      "Episode: 1812, total_reward:200.0\n",
      "Episode: 1813, total_reward:200.0\n",
      "Episode: 1814, total_reward:200.0\n",
      "Episode: 1815, total_reward:200.0\n",
      "Episode: 1816, total_reward:200.0\n",
      "Episode: 1817, total_reward:200.0\n",
      "Episode: 1818, total_reward:200.0\n",
      "Episode: 1819, total_reward:200.0\n",
      "Episode: 1820, total_reward:200.0\n",
      "Episode: 1821, total_reward:200.0\n",
      "Episode: 1822, total_reward:200.0\n",
      "Episode: 1823, total_reward:200.0\n",
      "Episode: 1824, total_reward:200.0\n",
      "Episode: 1825, total_reward:200.0\n",
      "Episode: 1826, total_reward:200.0\n",
      "Episode: 1827, total_reward:200.0\n",
      "Episode: 1828, total_reward:200.0\n",
      "Episode: 1829, total_reward:200.0\n",
      "Episode: 1830, total_reward:200.0\n",
      "Episode: 1831, total_reward:200.0\n",
      "Episode: 1832, total_reward:200.0\n",
      "Episode: 1833, total_reward:200.0\n",
      "Episode: 1834, total_reward:200.0\n",
      "Episode: 1835, total_reward:200.0\n",
      "Episode: 1836, total_reward:200.0\n",
      "Episode: 1837, total_reward:200.0\n",
      "Episode: 1838, total_reward:200.0\n",
      "Episode: 1839, total_reward:200.0\n",
      "Episode: 1840, total_reward:200.0\n",
      "Episode: 1841, total_reward:200.0\n",
      "Episode: 1842, total_reward:200.0\n",
      "Episode: 1843, total_reward:200.0\n",
      "Episode: 1844, total_reward:200.0\n",
      "Episode: 1845, total_reward:200.0\n",
      "Episode: 1846, total_reward:200.0\n",
      "Episode: 1847, total_reward:200.0\n",
      "Episode: 1848, total_reward:200.0\n",
      "Episode: 1849, total_reward:200.0\n",
      "Episode: 1850, total_reward:200.0\n",
      "Episode: 1851, total_reward:200.0\n",
      "Episode: 1852, total_reward:200.0\n",
      "Episode: 1853, total_reward:200.0\n",
      "Episode: 1854, total_reward:200.0\n",
      "Episode: 1855, total_reward:200.0\n",
      "Episode: 1856, total_reward:200.0\n",
      "Episode: 1857, total_reward:200.0\n",
      "Episode: 1858, total_reward:200.0\n",
      "Episode: 1859, total_reward:198.0\n",
      "Episode: 1860, total_reward:200.0\n",
      "Episode: 1861, total_reward:200.0\n",
      "Episode: 1862, total_reward:200.0\n",
      "Episode: 1863, total_reward:200.0\n",
      "Episode: 1864, total_reward:200.0\n",
      "Episode: 1865, total_reward:200.0\n",
      "Episode: 1866, total_reward:200.0\n",
      "Episode: 1867, total_reward:200.0\n",
      "Episode: 1868, total_reward:200.0\n",
      "Episode: 1869, total_reward:200.0\n",
      "Episode: 1870, total_reward:200.0\n",
      "Episode: 1871, total_reward:200.0\n",
      "Episode: 1872, total_reward:200.0\n",
      "Episode: 1873, total_reward:200.0\n",
      "Episode: 1874, total_reward:200.0\n",
      "Episode: 1875, total_reward:200.0\n",
      "Episode: 1876, total_reward:200.0\n",
      "Episode: 1877, total_reward:200.0\n",
      "Episode: 1878, total_reward:200.0\n",
      "Episode: 1879, total_reward:200.0\n",
      "Episode: 1880, total_reward:200.0\n",
      "Episode: 1881, total_reward:200.0\n",
      "Episode: 1882, total_reward:200.0\n",
      "Episode: 1883, total_reward:200.0\n",
      "Episode: 1884, total_reward:200.0\n",
      "Episode: 1885, total_reward:200.0\n",
      "Episode: 1886, total_reward:200.0\n",
      "Episode: 1887, total_reward:200.0\n",
      "Episode: 1888, total_reward:200.0\n",
      "Episode: 1889, total_reward:200.0\n",
      "Episode: 1890, total_reward:200.0\n",
      "Episode: 1891, total_reward:200.0\n",
      "Episode: 1892, total_reward:200.0\n",
      "Episode: 1893, total_reward:200.0\n",
      "Episode: 1894, total_reward:200.0\n",
      "Episode: 1895, total_reward:200.0\n",
      "Episode: 1896, total_reward:200.0\n",
      "Episode: 1897, total_reward:200.0\n",
      "Episode: 1898, total_reward:200.0\n",
      "Episode: 1899, total_reward:200.0\n",
      "Episode: 1900, total_reward:200.0\n",
      "Episode: 1901, total_reward:200.0\n",
      "Episode: 1902, total_reward:200.0\n",
      "Episode: 1903, total_reward:200.0\n",
      "Episode: 1904, total_reward:200.0\n",
      "Episode: 1905, total_reward:200.0\n",
      "Episode: 1906, total_reward:200.0\n",
      "Episode: 1907, total_reward:200.0\n",
      "Episode: 1908, total_reward:200.0\n",
      "Episode: 1909, total_reward:200.0\n",
      "Episode: 1910, total_reward:200.0\n",
      "Episode: 1911, total_reward:200.0\n",
      "Episode: 1912, total_reward:200.0\n",
      "Episode: 1913, total_reward:200.0\n",
      "Episode: 1914, total_reward:200.0\n",
      "Episode: 1915, total_reward:200.0\n",
      "Episode: 1916, total_reward:200.0\n",
      "Episode: 1917, total_reward:200.0\n",
      "Episode: 1918, total_reward:200.0\n",
      "Episode: 1919, total_reward:200.0\n",
      "Episode: 1920, total_reward:200.0\n",
      "Episode: 1921, total_reward:200.0\n",
      "Episode: 1922, total_reward:200.0\n",
      "Episode: 1923, total_reward:200.0\n",
      "Episode: 1924, total_reward:200.0\n",
      "Episode: 1925, total_reward:200.0\n",
      "Episode: 1926, total_reward:200.0\n",
      "Episode: 1927, total_reward:200.0\n",
      "Episode: 1928, total_reward:200.0\n",
      "Episode: 1929, total_reward:200.0\n",
      "Episode: 1930, total_reward:200.0\n",
      "Episode: 1931, total_reward:200.0\n",
      "Episode: 1932, total_reward:200.0\n",
      "Episode: 1933, total_reward:200.0\n",
      "Episode: 1934, total_reward:200.0\n",
      "Episode: 1935, total_reward:200.0\n",
      "Episode: 1936, total_reward:200.0\n",
      "Episode: 1937, total_reward:200.0\n",
      "Episode: 1938, total_reward:200.0\n",
      "Episode: 1939, total_reward:200.0\n",
      "Episode: 1940, total_reward:200.0\n",
      "Episode: 1941, total_reward:200.0\n",
      "Episode: 1942, total_reward:200.0\n",
      "Episode: 1943, total_reward:200.0\n",
      "Episode: 1944, total_reward:200.0\n",
      "Episode: 1945, total_reward:200.0\n",
      "Episode: 1946, total_reward:200.0\n",
      "Episode: 1947, total_reward:200.0\n",
      "Episode: 1948, total_reward:200.0\n",
      "Episode: 1949, total_reward:200.0\n",
      "Episode: 1950, total_reward:200.0\n",
      "Episode: 1951, total_reward:200.0\n",
      "Episode: 1952, total_reward:200.0\n",
      "Episode: 1953, total_reward:200.0\n",
      "Episode: 1954, total_reward:200.0\n"
     ]
    },
    {
     "name": "stdout",
     "output_type": "stream",
     "text": [
      "Episode: 1955, total_reward:200.0\n",
      "Episode: 1956, total_reward:200.0\n",
      "Episode: 1957, total_reward:200.0\n",
      "Episode: 1958, total_reward:200.0\n",
      "Episode: 1959, total_reward:200.0\n",
      "Episode: 1960, total_reward:200.0\n",
      "Episode: 1961, total_reward:200.0\n",
      "Episode: 1962, total_reward:200.0\n",
      "Episode: 1963, total_reward:200.0\n",
      "Episode: 1964, total_reward:200.0\n",
      "Episode: 1965, total_reward:200.0\n",
      "Episode: 1966, total_reward:200.0\n",
      "Episode: 1967, total_reward:200.0\n",
      "Episode: 1968, total_reward:200.0\n",
      "Episode: 1969, total_reward:200.0\n",
      "Episode: 1970, total_reward:200.0\n",
      "Episode: 1971, total_reward:200.0\n",
      "Episode: 1972, total_reward:200.0\n",
      "Episode: 1973, total_reward:200.0\n",
      "Episode: 1974, total_reward:200.0\n",
      "Episode: 1975, total_reward:200.0\n",
      "Episode: 1976, total_reward:200.0\n",
      "Episode: 1977, total_reward:200.0\n",
      "Episode: 1978, total_reward:200.0\n",
      "Episode: 1979, total_reward:200.0\n",
      "Episode: 1980, total_reward:200.0\n",
      "Episode: 1981, total_reward:200.0\n",
      "Episode: 1982, total_reward:200.0\n",
      "Episode: 1983, total_reward:200.0\n",
      "Episode: 1984, total_reward:200.0\n",
      "Episode: 1985, total_reward:200.0\n",
      "Episode: 1986, total_reward:200.0\n",
      "Episode: 1987, total_reward:200.0\n",
      "Episode: 1988, total_reward:200.0\n",
      "Episode: 1989, total_reward:200.0\n",
      "Episode: 1990, total_reward:200.0\n",
      "Episode: 1991, total_reward:200.0\n",
      "Episode: 1992, total_reward:200.0\n",
      "Episode: 1993, total_reward:200.0\n",
      "Episode: 1994, total_reward:200.0\n",
      "Episode: 1995, total_reward:200.0\n",
      "Episode: 1996, total_reward:200.0\n",
      "Episode: 1997, total_reward:200.0\n",
      "Episode: 1998, total_reward:200.0\n",
      "Episode: 1999, total_reward:200.0\n"
     ]
    }
   ],
   "source": [
    "num_state = env.observation_space.shape[0]\n",
    "num_action = env.action_space.n\n",
    "num_hidden_p = 64\n",
    "lr_p = 0.003\n",
    "policy_net = PolicyNet(num_state, num_action, num_hidden_p, lr_p)\n",
    "\n",
    "num_hidden_v = 64\n",
    "lr_v = 0.003\n",
    "value_net = ValueNet(num_state, num_hidden_v, lr_v)\n",
    "\n",
    "num_episode = 2000\n",
    "gamma = 0.9\n",
    "total_reward_episode = [0] * num_episode\n",
    "\n",
    "Reinforce_with_baseline(env, policy_net, value_net, num_episode, gamma)\n"
   ]
  },
  {
   "cell_type": "code",
   "execution_count": null,
   "metadata": {},
   "outputs": [],
   "source": []
  }
 ],
 "metadata": {
  "kernelspec": {
   "display_name": "Python 3",
   "language": "python",
   "name": "python3"
  },
  "language_info": {
   "codemirror_mode": {
    "name": "ipython",
    "version": 3
   },
   "file_extension": ".py",
   "mimetype": "text/x-python",
   "name": "python",
   "nbconvert_exporter": "python",
   "pygments_lexer": "ipython3",
   "version": "3.8.5"
  }
 },
 "nbformat": 4,
 "nbformat_minor": 4
}
