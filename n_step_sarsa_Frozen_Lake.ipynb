{
 "cells": [
  {
   "cell_type": "code",
   "execution_count": 1,
   "metadata": {},
   "outputs": [],
   "source": [
    "%matplotlib notebook\n",
    "import numpy as np\n",
    "import matplotlib.pyplot as plt \n",
    "import time\n",
    "import gym\n",
    "from IPython.display import clear_output\n",
    "from tqdm import tqdm\n",
    "from utils import test_agent"
   ]
  },
  {
   "cell_type": "code",
   "execution_count": 2,
   "metadata": {},
   "outputs": [],
   "source": [
    "from gym.envs.registration import register\n",
    "\n",
    "try:\n",
    "\n",
    "    register(\n",
    "        id='FrozenLakeNotSlippery-v0', \n",
    "        entry_point='gym.envs.toy_text:FrozenLakeEnv',\n",
    "        kwargs={'map_name' : '4x4', 'is_slippery': False},\n",
    "        max_episode_steps=100,\n",
    "        reward_threshold=.8196, \n",
    "    )\n",
    "except:\n",
    "    print('Already registered')"
   ]
  },
  {
   "cell_type": "code",
   "execution_count": 3,
   "metadata": {},
   "outputs": [
    {
     "name": "stdout",
     "output_type": "stream",
     "text": [
      "\n",
      "\u001b[41mS\u001b[0mFFF\n",
      "FHFH\n",
      "FFFH\n",
      "HFFG\n"
     ]
    }
   ],
   "source": [
    "\"\"\"Random Agent->Visualizing the virtual environment\"\"\"\n",
    "env = gym.make('FrozenLakeNotSlippery-v0')\n",
    "env.reset()\n",
    "for step in range(10):\n",
    "    env.render()\n",
    "    action=env.action_space.sample()\n",
    "    obs,reward,done,info = env.step(action)\n",
    "    time.sleep(0.5)\n",
    "    clear_output(wait = True)\n",
    "    if done:\n",
    "        env.reset()\n",
    "env.close()\n"
   ]
  },
  {
   "cell_type": "code",
   "execution_count": 4,
   "metadata": {},
   "outputs": [],
   "source": [
    "num_states = env.observation_space.n\n",
    "num_actions = env.action_space.n"
   ]
  },
  {
   "cell_type": "code",
   "execution_count": 5,
   "metadata": {},
   "outputs": [
    {
     "name": "stdout",
     "output_type": "stream",
     "text": [
      "Number of states: 16 Number of actions: 4\n"
     ]
    }
   ],
   "source": [
    "print(f\"Number of states: {num_states} Number of actions: {num_actions}\")"
   ]
  },
  {
   "cell_type": "code",
   "execution_count": 6,
   "metadata": {},
   "outputs": [],
   "source": [
    "Q_table = np.zeros(shape=(num_states,num_actions))"
   ]
  },
  {
   "cell_type": "code",
   "execution_count": 7,
   "metadata": {},
   "outputs": [
    {
     "data": {
      "text/plain": [
       "array([[0., 0., 0., 0.],\n",
       "       [0., 0., 0., 0.],\n",
       "       [0., 0., 0., 0.],\n",
       "       [0., 0., 0., 0.],\n",
       "       [0., 0., 0., 0.],\n",
       "       [0., 0., 0., 0.],\n",
       "       [0., 0., 0., 0.],\n",
       "       [0., 0., 0., 0.],\n",
       "       [0., 0., 0., 0.],\n",
       "       [0., 0., 0., 0.],\n",
       "       [0., 0., 0., 0.],\n",
       "       [0., 0., 0., 0.],\n",
       "       [0., 0., 0., 0.],\n",
       "       [0., 0., 0., 0.],\n",
       "       [0., 0., 0., 0.],\n",
       "       [0., 0., 0., 0.]])"
      ]
     },
     "execution_count": 7,
     "metadata": {},
     "output_type": "execute_result"
    }
   ],
   "source": [
    "Q_table"
   ]
  },
  {
   "cell_type": "code",
   "execution_count": 8,
   "metadata": {},
   "outputs": [],
   "source": [
    "def policy(state,epsilon):\n",
    "    if np.random.random() < epsilon:\n",
    "        action = np.random.randint(num_actions)\n",
    "    else:\n",
    "        av = Q_table[state]\n",
    "        action = np.random.choice(np.flatnonzero(av == av.max()))\n",
    "    return action"
   ]
  },
  {
   "cell_type": "code",
   "execution_count": 15,
   "metadata": {},
   "outputs": [],
   "source": [
    "def reduce_epsilon(epsilon,epoch,min_epsilon,max_epsilon,decay_rate):\n",
    "    return min_epsilon + (max_epsilon-min_epsilon)*np.exp(-decay_rate*epoch)"
   ]
  },
  {
   "cell_type": "code",
   "execution_count": 21,
   "metadata": {},
   "outputs": [],
   "source": [
    "def n_step_sarsa(Q_table,policy,epochs,alpha=0.2,gamma=0.99,epsilon=1.0,max_epsilon=1.0,\n",
    "                 min_epsilon=0.01,decay_rate=0.001,n=8):\n",
    "    for epoch in tqdm(range(1,epochs+1)):\n",
    "        state = env.reset()\n",
    "        action = policy(state,epsilon)\n",
    "        transitions = []\n",
    "        done = False\n",
    "        t = 0\n",
    "        while t-n < len(transitions):\n",
    "            if not done:\n",
    "                next_state,reward,done,_ = env.step(action)\n",
    "                next_action = policy(next_state,epsilon)\n",
    "                transitions.append([state,action,reward])\n",
    "            if t >= n:\n",
    "                G = (1-done)*Q_table[next_state,next_action]\n",
    "                for state_t,action_t,reward_t in reversed(transitions[t-n:]):\n",
    "                    G = reward_t + gamma*G\n",
    "                Q_table[state_t,action_t] += alpha*(G-Q_table[state_t,action_t])\n",
    "                \n",
    "            t += 1\n",
    "            state = next_state\n",
    "            action = next_action\n",
    "            epsilon = reduce_epsilon(epsilon,epoch,min_epsilon,max_epsilon,decay_rate)\n",
    "            "
   ]
  },
  {
   "cell_type": "code",
   "execution_count": 22,
   "metadata": {},
   "outputs": [
    {
     "name": "stderr",
     "output_type": "stream",
     "text": [
      "100%|██████████| 10000/10000 [00:04<00:00, 2369.90it/s]\n"
     ]
    }
   ],
   "source": [
    "n_step_sarsa(Q_table,policy,10000)"
   ]
  },
  {
   "cell_type": "code",
   "execution_count": 23,
   "metadata": {},
   "outputs": [
    {
     "data": {
      "text/plain": [
       "array([[0.91190806, 0.9509899 , 0.78835377, 0.7126138 ],\n",
       "       [0.53431323, 0.        , 0.96056188, 0.31532597],\n",
       "       [0.42227349, 0.97026453, 0.27197896, 0.64866345],\n",
       "       [0.33746401, 0.        , 0.18682901, 0.10161457],\n",
       "       [0.27787443, 0.96059594, 0.        , 0.71490053],\n",
       "       [0.        , 0.        , 0.        , 0.        ],\n",
       "       [0.        , 0.98006518, 0.        , 0.74868721],\n",
       "       [0.        , 0.        , 0.        , 0.        ],\n",
       "       [0.42237953, 0.        , 0.97029892, 0.91271457],\n",
       "       [0.93001137, 0.98009996, 0.8546472 , 0.        ],\n",
       "       [0.96990849, 0.98996605, 0.        , 0.94968827],\n",
       "       [0.        , 0.        , 0.        , 0.        ],\n",
       "       [0.        , 0.        , 0.        , 0.        ],\n",
       "       [0.        , 0.77775466, 0.98999996, 0.74763974],\n",
       "       [0.97940327, 0.98999753, 1.        , 0.97226195],\n",
       "       [0.        , 0.        , 0.        , 0.        ]])"
      ]
     },
     "execution_count": 23,
     "metadata": {},
     "output_type": "execute_result"
    }
   ],
   "source": [
    "Q_table"
   ]
  },
  {
   "cell_type": "code",
   "execution_count": 27,
   "metadata": {},
   "outputs": [
    {
     "name": "stdout",
     "output_type": "stream",
     "text": [
      "  (Right)\n",
      "SFFF\n",
      "FHFH\n",
      "FFFH\n",
      "HF\u001b[41mF\u001b[0mG\n"
     ]
    }
   ],
   "source": [
    "\"\"\"Playing the Game After Training\"\"\"\n",
    "state = env.reset()\n",
    "for steps in range(100):\n",
    "    env.render()\n",
    "    #action = np.argmax(Q_table[state,:])\n",
    "    action = policy(state,epsilon=0.01)\n",
    "    state,reward,done,info = env.step(action)\n",
    "    time.sleep(0.75)\n",
    "    clear_output(wait=True)\n",
    "    if done:\n",
    "        break\n",
    "env.close()"
   ]
  },
  {
   "cell_type": "code",
   "execution_count": null,
   "metadata": {},
   "outputs": [],
   "source": []
  }
 ],
 "metadata": {
  "kernelspec": {
   "display_name": "Python 3",
   "language": "python",
   "name": "python3"
  },
  "language_info": {
   "codemirror_mode": {
    "name": "ipython",
    "version": 3
   },
   "file_extension": ".py",
   "mimetype": "text/x-python",
   "name": "python",
   "nbconvert_exporter": "python",
   "pygments_lexer": "ipython3",
   "version": "3.8.5"
  }
 },
 "nbformat": 4,
 "nbformat_minor": 4
}
