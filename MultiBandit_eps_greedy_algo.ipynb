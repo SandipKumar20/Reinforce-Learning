{
 "cells": [
  {
   "cell_type": "code",
   "execution_count": 4,
   "id": "17d66206",
   "metadata": {},
   "outputs": [],
   "source": [
    "import numpy as np"
   ]
  },
  {
   "cell_type": "code",
   "execution_count": 5,
   "id": "c79a310f",
   "metadata": {},
   "outputs": [],
   "source": [
    "\"\"\"Python class which implements the epsilon greedy algorithm on the multi armed bandit problem\"\"\"\n",
    "class epsilon_greedy:\n",
    "    # Initialization method\n",
    "    def __init__(self,n_arm,reward_fn,eps=0.1):\n",
    "        # Number of arms in the multi armed bandit problem, initializing\n",
    "        self.n_arm = n_arm\n",
    "        # The mean reward of the distinct arms, initializing\n",
    "        self.arm_avg = np.zeros(n_arm)\n",
    "        # The number of times the various arms are chosen, initializing\n",
    "        self.num_arm = np.zeros(n_arm)\n",
    "        # The value which controls explore exploitation logic,initializing\n",
    "        self.eps = eps\n",
    "        # The distribution of the arms, initializing\n",
    "        self.reward_fn = reward_fn\n",
    "        # Total number of iterations, initializing\n",
    "        self.its = 0\n",
    "        \n",
    "    # The function which approximates the reward distribution \n",
    "    def update(self,its):\n",
    "        self.its += its\n",
    "        for i in range(its):\n",
    "            # Implementing the epsilon greedy logic\n",
    "            rand_eps = np.random.uniform(0,1,1)[0]\n",
    "            \n",
    "            if rand_eps < self.eps:\n",
    "                # Exploration\n",
    "                arm = np.random.choice(self.n_arm,1)[0]\n",
    "            else:\n",
    "                # Exploitation\n",
    "                arm = self.best_arm()\n",
    "            # Pulling the lever and getting the reward from the reward distribution   \n",
    "            reward = self.reward_fn[arm]()\n",
    "            # Computing the total reward of the given arm\n",
    "            num = (self.arm_avg[arm] * self.num_arm[arm] + reward)\n",
    "            # The total number of times the given arm was selected\n",
    "            denom = (self.num_arm[arm] + 1.0)\n",
    "            # Computing the mean reward of the given arm\n",
    "            self.arm_avg[arm] = num/denom\n",
    "            # Increment the number of times the arm was chosen\n",
    "            self.num_arm[arm] += 1\n",
    "            \n",
    "        # The function which implements exploitation\n",
    "    def best_arm(self):\n",
    "        return np.argmax(self.arm_avg)\n",
    "        \n",
    "    def get_arm_avg(self):\n",
    "        return self.arm_avg\n",
    "        "
   ]
  },
  {
   "cell_type": "code",
   "execution_count": 6,
   "id": "bd305265",
   "metadata": {},
   "outputs": [],
   "source": [
    "fns = [\n",
    "    lambda: np.random.randn(),\n",
    "    lambda: np.random.randn()+2,\n",
    "    lambda: np.random.randn()+3,\n",
    "    lambda: np.random.randn()+4,\n",
    "    lambda: np.random.randn()+5\n",
    "]"
   ]
  },
  {
   "cell_type": "code",
   "execution_count": 7,
   "id": "0f74c835",
   "metadata": {},
   "outputs": [],
   "source": [
    "eps_grd = epsilon_greedy(5,fns,0.1)"
   ]
  },
  {
   "cell_type": "code",
   "execution_count": 8,
   "id": "87ef4128",
   "metadata": {},
   "outputs": [],
   "source": [
    "eps_grd.update(10000)"
   ]
  },
  {
   "cell_type": "code",
   "execution_count": 9,
   "id": "2efc500f",
   "metadata": {},
   "outputs": [
    {
     "data": {
      "text/plain": [
       "4"
      ]
     },
     "execution_count": 9,
     "metadata": {},
     "output_type": "execute_result"
    }
   ],
   "source": [
    "eps_grd.best_arm()"
   ]
  },
  {
   "cell_type": "code",
   "execution_count": 10,
   "id": "7dc7c7f4",
   "metadata": {},
   "outputs": [
    {
     "data": {
      "text/plain": [
       "array([0.0871986 , 1.88698143, 2.92570556, 4.05134568, 5.00976063])"
      ]
     },
     "execution_count": 10,
     "metadata": {},
     "output_type": "execute_result"
    }
   ],
   "source": [
    "eps_grd.get_arm_avg()"
   ]
  },
  {
   "cell_type": "code",
   "execution_count": null,
   "id": "811761ad",
   "metadata": {},
   "outputs": [],
   "source": []
  }
 ],
 "metadata": {
  "kernelspec": {
   "display_name": "Python 3 (ipykernel)",
   "language": "python",
   "name": "python3"
  },
  "language_info": {
   "codemirror_mode": {
    "name": "ipython",
    "version": 3
   },
   "file_extension": ".py",
   "mimetype": "text/x-python",
   "name": "python",
   "nbconvert_exporter": "python",
   "pygments_lexer": "ipython3",
   "version": "3.8.5"
  }
 },
 "nbformat": 4,
 "nbformat_minor": 5
}
