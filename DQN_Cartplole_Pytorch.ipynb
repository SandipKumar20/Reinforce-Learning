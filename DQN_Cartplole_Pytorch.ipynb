{
 "cells": [
  {
   "cell_type": "code",
   "execution_count": 1,
   "metadata": {},
   "outputs": [],
   "source": [
    "import gym\n",
    "import random\n",
    "import copy\n",
    "import torch\n",
    "import torch.nn.functional as F\n",
    "from torch import nn as nn\n",
    "from torch.optim import AdamW\n",
    "from tqdm import tqdm\n",
    "import matplotlib.pyplot as plt\n",
    "from utils import test_agent,plot_stats"
   ]
  },
  {
   "cell_type": "code",
   "execution_count": 2,
   "metadata": {},
   "outputs": [],
   "source": [
    "env = gym.make('CartPole-v0')"
   ]
  },
  {
   "cell_type": "code",
   "execution_count": 3,
   "metadata": {},
   "outputs": [
    {
     "data": {
      "text/plain": [
       "<matplotlib.image.AxesImage at 0x7f8d6d3a19a0>"
      ]
     },
     "execution_count": 3,
     "metadata": {},
     "output_type": "execute_result"
    },
    {
     "data": {
      "image/png": "[encoded data removed]",
      "text/plain": [
       "<Figure size 432x288 with 1 Axes>"
      ]
     },
     "metadata": {
      "needs_background": "light"
     },
     "output_type": "display_data"
    }
   ],
   "source": [
    "env.reset()\n",
    "frame = env.render(mode='rgb_array')\n",
    "plt.imshow(frame)"
   ]
  },
  {
   "cell_type": "code",
   "execution_count": 4,
   "metadata": {},
   "outputs": [
    {
     "name": "stdout",
     "output_type": "stream",
     "text": [
      "CartPole env -- State dimensions: 4, Number of actions: 2\n"
     ]
    }
   ],
   "source": [
    "num_states = env.observation_space.shape[0]\n",
    "num_actions = env.action_space.n\n",
    "print(\"CartPole env -- State dimensions: {}, Number of actions: {}\".format(num_states,num_actions))"
   ]
  },
  {
   "cell_type": "code",
   "execution_count": 5,
   "metadata": {},
   "outputs": [],
   "source": [
    "class PreprocessEnv(gym.Wrapper):\n",
    "    def __init__(self,env):\n",
    "        gym.Wrapper.__init__(self,env)\n",
    "    def reset(self):\n",
    "        obs = self.env.reset()\n",
    "        return torch.from_numpy(obs).unsqueeze(dim=0).float()\n",
    "    def step(self,action):\n",
    "        action = action.item()\n",
    "        next_state,reward,done,info = self.env.step(action)\n",
    "        next_state = torch.from_numpy(next_state).unsqueeze(dim=0).float()\n",
    "        reward = torch.tensor(reward).view(1,-1).float()\n",
    "        done = torch.tensor(done).view(1,-1)\n",
    "        return next_state,reward,done,info"
   ]
  },
  {
   "cell_type": "code",
   "execution_count": 6,
   "metadata": {},
   "outputs": [],
   "source": [
    "env = PreprocessEnv(env)"
   ]
  },
  {
   "cell_type": "code",
   "execution_count": 7,
   "metadata": {},
   "outputs": [
    {
     "name": "stdout",
     "output_type": "stream",
     "text": [
      "Sample state:tensor([[0.0405, 0.0152, 0.0061, 0.0437]])\n",
      "Next state: tensor([[ 0.0408, -0.1800,  0.0070,  0.3383]]), Reward: tensor([[1.]]), Done: tensor([[False]])\n"
     ]
    }
   ],
   "source": [
    "state = env.reset()\n",
    "action = torch.tensor(0)\n",
    "next_state,reward,done,info = env.step(action)\n",
    "print(f\"Sample state:{state}\")\n",
    "print(\"Next state: {}, Reward: {}, Done: {}\".format(next_state,reward,done))"
   ]
  },
  {
   "cell_type": "code",
   "execution_count": 8,
   "metadata": {},
   "outputs": [],
   "source": [
    "Q_Net = nn.Sequential(\n",
    "    nn.Linear(num_states,128),\n",
    "    nn.ReLU(),\n",
    "    nn.Linear(128,64),\n",
    "    nn.ReLU(),\n",
    "    nn.Linear(64,32),\n",
    "    nn.ReLU(),\n",
    "    nn.Linear(32,16),\n",
    "    nn.ReLU(),\n",
    "    nn.Linear(16,num_actions)\n",
    ")"
   ]
  },
  {
   "cell_type": "code",
   "execution_count": 9,
   "metadata": {},
   "outputs": [],
   "source": [
    "target_Q_Net = copy.deepcopy(Q_Net).eval()"
   ]
  },
  {
   "cell_type": "code",
   "execution_count": 10,
   "metadata": {},
   "outputs": [],
   "source": [
    "def policy(state,epsilon=0.):\n",
    "    if torch.rand(1) < epsilon:\n",
    "        action = torch.randint(num_actions,(1,1))\n",
    "    else:\n",
    "        av = Q_Net(state).detach()\n",
    "        action = torch.argmax(av,dim=-1,keepdim=True)\n",
    "    return action"
   ]
  },
  {
   "cell_type": "code",
   "execution_count": 11,
   "metadata": {},
   "outputs": [],
   "source": [
    "class ReplayMemory:\n",
    "    def __init__(self,capacity=100000):\n",
    "        self.capacity = capacity\n",
    "        self.memory = []\n",
    "        self.position = 0\n",
    "    def insert(self,transition):\n",
    "        if len(self.memory)< self.capacity:\n",
    "            self.memory.append(None)\n",
    "        self.memory[self.position]= transition\n",
    "        self.position = (self.position + 1)%self.capacity\n",
    "    def sample(self,batch_size):\n",
    "        assert self.can_sample(batch_size)\n",
    "        batch = random.sample(self.memory,batch_size)\n",
    "        batch = zip(*batch)\n",
    "        return [torch.cat(items) for items in batch]\n",
    "    def can_sample(self,batch_size):\n",
    "        return len(self.memory)>= batch_size*10\n",
    "    def __len__(self):\n",
    "        return len(self.memory)"
   ]
  },
  {
   "cell_type": "code",
   "execution_count": 12,
   "metadata": {},
   "outputs": [],
   "source": [
    "def Deep_Q_Net(Q_Net,policy,epochs,alpha=0.0001,batch_size=32,gamma=0.99,epsilon = 0.2):\n",
    "    optim = AdamW(Q_Net.parameters(),lr=alpha)\n",
    "    memory = ReplayMemory()\n",
    "    stats = {'MSE Loss': [], 'Returns': []}\n",
    "    for epoch in tqdm(range(epochs)):\n",
    "        state = env.reset()\n",
    "        done = False\n",
    "        ep_return = 0\n",
    "        \n",
    "        while not done:\n",
    "            action = policy(state,epsilon)\n",
    "            next_state,reward,done,_ = env.step(action)\n",
    "            memory.insert([state,action,reward,done,next_state])\n",
    "            if memory.can_sample(batch_size):\n",
    "                state_b,action_b,reward_b,done_b,next_state_b = memory.sample(batch_size)\n",
    "                qsa_b = Q_Net(state_b).gather(1,action_b)\n",
    "                next_qsa_b = target_Q_Net(next_state_b)\n",
    "                next_qsa_b = torch.max(next_qsa_b,dim=-1,keepdim=True)[0]\n",
    "                target_b = reward_b + ~done_b*gamma*next_qsa_b\n",
    "                loss = F.mse_loss(qsa_b,target_b)\n",
    "                \n",
    "                Q_Net.zero_grad()\n",
    "                loss.backward()\n",
    "                optim.step()\n",
    "                \n",
    "                stats['MSE Loss'].append(loss)\n",
    "            state = next_state\n",
    "            ep_return += reward.item()\n",
    "        stats['Returns'].append(ep_return)\n",
    "        \n",
    "        if epoch % 10 == 0:\n",
    "            target_Q_Net.load_state_dict(Q_Net.state_dict())\n",
    "    return stats"
   ]
  },
  {
   "cell_type": "code",
   "execution_count": 13,
   "metadata": {},
   "outputs": [
    {
     "name": "stderr",
     "output_type": "stream",
     "text": [
      "100%|██████████| 500/500 [01:42<00:00,  4.87it/s]\n"
     ]
    }
   ],
   "source": [
    "stats = Deep_Q_Net(Q_Net,policy,500)"
   ]
  },
  {
   "cell_type": "code",
   "execution_count": 14,
   "metadata": {},
   "outputs": [
    {
     "data": {
      "image/png": "[encoded data removed]",
      "text/plain": [
       "<Figure size 576x576 with 1 Axes>"
      ]
     },
     "metadata": {
      "needs_background": "light"
     },
     "output_type": "display_data"
    }
   ],
   "source": [
    "test_agent(env,policy,episodes = 2)"
   ]
  },
  {
   "cell_type": "code",
   "execution_count": 15,
   "metadata": {},
   "outputs": [
    {
     "data": {
      "image/png": "[encoded data removed]",
      "text/plain": [
       "<Figure size 432x288 with 1 Axes>"
      ]
     },
     "metadata": {
      "needs_background": "light"
     },
     "output_type": "display_data"
    }
   ],
   "source": [
    "plt.plot(stats['MSE Loss'])\n",
    "plt.show()"
   ]
  },
  {
   "cell_type": "code",
   "execution_count": 16,
   "metadata": {},
   "outputs": [
    {
     "data": {
      "text/plain": [
       "[<matplotlib.lines.Line2D at 0x7f8d4357bdf0>]"
      ]
     },
     "execution_count": 16,
     "metadata": {},
     "output_type": "execute_result"
    },
    {
     "data": {
      "image/png": "[encoded data removed]",
      "text/plain": [
       "<Figure size 432x288 with 1 Axes>"
      ]
     },
     "metadata": {
      "needs_background": "light"
     },
     "output_type": "display_data"
    }
   ],
   "source": [
    "plt.plot(stats['Returns'])"
   ]
  },
  {
   "cell_type": "code",
   "execution_count": null,
   "metadata": {},
   "outputs": [],
   "source": []
  }
 ],
 "metadata": {
  "kernelspec": {
   "display_name": "Python 3",
   "language": "python",
   "name": "python3"
  },
  "language_info": {
   "codemirror_mode": {
    "name": "ipython",
    "version": 3
   },
   "file_extension": ".py",
   "mimetype": "text/x-python",
   "name": "python",
   "nbconvert_exporter": "python",
   "pygments_lexer": "ipython3",
   "version": "3.8.5"
  }
 },
 "nbformat": 4,
 "nbformat_minor": 4
}
