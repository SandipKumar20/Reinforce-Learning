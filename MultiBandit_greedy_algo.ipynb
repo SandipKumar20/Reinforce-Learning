{
 "cells": [
  {
   "cell_type": "code",
   "execution_count": 4,
   "id": "a97b8fae",
   "metadata": {},
   "outputs": [],
   "source": [
    "import matplotlib.pyplot as plt\n",
    "import numpy as np"
   ]
  },
  {
   "cell_type": "code",
   "execution_count": 6,
   "id": "1311caa4",
   "metadata": {},
   "outputs": [],
   "source": [
    "\"\"\"A Python class which implements the greedy algorithm on the multi armed bandit problem.\"\"\"\n",
    "\n",
    "class greedy:\n",
    "    # initialization method or constructor\n",
    "    def __init__(self,n_arm,reward_fn):\n",
    "        # Number of arms in the multi arm bandit problem initialization\n",
    "        self.n_arm = n_arm\n",
    "        # The mean reward of arms, initializing\n",
    "        self.arm_avg = np.zeros(n_arm)\n",
    "        # The number of times an arm is chosen, initialization\n",
    "        self.num_arm = np.ones(n_arm)\n",
    "        # The probability distribution of the arms, initializing\n",
    "        self.reward_fn = reward_fn\n",
    "        # Total number of iterations, initializing\n",
    "        self.its = 0\n",
    "        \n",
    "    # At first choose all the arms once\n",
    "    def initialize(self):\n",
    "        self.arm_avg = np.array([reward() for reward in self.reward_fn])\n",
    "     # The function which approximates the reward probability distribution   \n",
    "    def update(self,its):\n",
    "        self.its += its\n",
    "        for i in range(its):\n",
    "            # Selecting the arm which has the best arm_avg\n",
    "            greedy_arm = self.best_arm()\n",
    "            # Pulling the lever and getting the reward from the reward distribution\n",
    "            reward = self.reward_fn[greedy_arm]() \n",
    "            # Computing the total reward of the greedy arm\n",
    "            num = (self.arm_avg[greedy_arm] * self.num_arm[greedy_arm] + reward)\n",
    "            # The total number of times greedy arm was selected\n",
    "            denom = (self.num_arm[greedy_arm] + 1.0)\n",
    "            # Computing the average reward of the greedy arm\n",
    "            self.arm_avg[greedy_arm] = num / denom\n",
    "            # Increment the number of times the arm was chosen\n",
    "            self.num_arm[greedy_arm] += 1\n",
    "            \n",
    "    # The function which selects the best arm(greedy arm)\n",
    "    def best_arm(self):\n",
    "        return np.argmax(self.arm_avg)\n",
    "        \n",
    "        "
   ]
  },
  {
   "cell_type": "code",
   "execution_count": 7,
   "id": "2aab05bf",
   "metadata": {},
   "outputs": [],
   "source": [
    "fns = [\n",
    "    lambda: np.random.randn(),\n",
    "    lambda: np.random.randn()+2,\n",
    "    lambda: np.random.randn()+3,\n",
    "    lambda: np.random.randn()+4,\n",
    "    lambda: np.random.randn()+5\n",
    "]"
   ]
  },
  {
   "cell_type": "code",
   "execution_count": 13,
   "id": "1076d966",
   "metadata": {},
   "outputs": [],
   "source": [
    "grd = greedy(5,fns)"
   ]
  },
  {
   "cell_type": "code",
   "execution_count": 14,
   "id": "4b994a41",
   "metadata": {},
   "outputs": [
    {
     "name": "stdout",
     "output_type": "stream",
     "text": [
      "4\n"
     ]
    }
   ],
   "source": [
    "grd.initialize()\n",
    "grd.update(200)\n",
    "print(grd.best_arm())"
   ]
  },
  {
   "cell_type": "code",
   "execution_count": 15,
   "id": "cd45185d",
   "metadata": {},
   "outputs": [
    {
     "data": {
      "text/plain": [
       "' The arm with mean = 5 and std 1(the fifth arm) is the best arm'"
      ]
     },
     "execution_count": 15,
     "metadata": {},
     "output_type": "execute_result"
    }
   ],
   "source": [
    "\"\"\" The arm with mean = 5 and std 1(the fifth arm) is the best arm\"\"\""
   ]
  },
  {
   "cell_type": "code",
   "execution_count": null,
   "id": "619b6d42",
   "metadata": {},
   "outputs": [],
   "source": []
  }
 ],
 "metadata": {
  "kernelspec": {
   "display_name": "Python 3 (ipykernel)",
   "language": "python",
   "name": "python3"
  },
  "language_info": {
   "codemirror_mode": {
    "name": "ipython",
    "version": 3
   },
   "file_extension": ".py",
   "mimetype": "text/x-python",
   "name": "python",
   "nbconvert_exporter": "python",
   "pygments_lexer": "ipython3",
   "version": "3.8.5"
  }
 },
 "nbformat": 4,
 "nbformat_minor": 5
}
