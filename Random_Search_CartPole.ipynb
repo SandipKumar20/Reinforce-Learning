{
 "cells": [
  {
   "cell_type": "code",
   "execution_count": 1,
   "id": "0067fed6",
   "metadata": {},
   "outputs": [],
   "source": [
    "import gym"
   ]
  },
  {
   "cell_type": "code",
   "execution_count": 2,
   "id": "27128340",
   "metadata": {},
   "outputs": [],
   "source": [
    "env = gym.make('CartPole-v0')"
   ]
  },
  {
   "cell_type": "code",
   "execution_count": 3,
   "id": "a0ee2df5",
   "metadata": {},
   "outputs": [
    {
     "data": {
      "text/plain": [
       "array([-0.01757603,  0.00081057,  0.00912749,  0.04537839])"
      ]
     },
     "execution_count": 3,
     "metadata": {},
     "output_type": "execute_result"
    }
   ],
   "source": [
    "env.reset()"
   ]
  },
  {
   "cell_type": "code",
   "execution_count": 4,
   "id": "2c6c2176",
   "metadata": {},
   "outputs": [],
   "source": [
    "box = env.observation_space"
   ]
  },
  {
   "cell_type": "code",
   "execution_count": 6,
   "id": "a909e23c",
   "metadata": {},
   "outputs": [
    {
     "data": {
      "text/plain": [
       "Box(-3.4028234663852886e+38, 3.4028234663852886e+38, (4,), float32)"
      ]
     },
     "execution_count": 6,
     "metadata": {},
     "output_type": "execute_result"
    }
   ],
   "source": [
    "box"
   ]
  },
  {
   "cell_type": "code",
   "execution_count": 5,
   "id": "79ef8f5b",
   "metadata": {},
   "outputs": [
    {
     "data": {
      "text/plain": [
       "Discrete(2)"
      ]
     },
     "execution_count": 5,
     "metadata": {},
     "output_type": "execute_result"
    }
   ],
   "source": [
    "env.action_space"
   ]
  },
  {
   "cell_type": "code",
   "execution_count": 21,
   "id": "b3fbb194",
   "metadata": {},
   "outputs": [],
   "source": [
    "from __future__ import print_function, division\n",
    "from builtins import range"
   ]
  },
  {
   "cell_type": "code",
   "execution_count": 1,
   "id": "befd773f",
   "metadata": {},
   "outputs": [],
   "source": [
    "import gym\n",
    "import numpy as np\n",
    "import matplotlib.pyplot as plt"
   ]
  },
  {
   "cell_type": "code",
   "execution_count": 2,
   "id": "bf6d1d10",
   "metadata": {},
   "outputs": [],
   "source": [
    "# The following function predicts the action using the following logic.\n",
    "# If state.dot(weights) > 0 -> do action 1, If state.dot(weights) < 0 -> do action 0\n",
    "def get_action(s,w):\n",
    "    return 1 if s.dot(w) > 0 else 0"
   ]
  },
  {
   "cell_type": "code",
   "execution_count": 6,
   "id": "0635205a",
   "metadata": {},
   "outputs": [],
   "source": [
    "# The following function implements an episode and the function returns the episode length.\n",
    "def play_one_episode(env, weights):\n",
    "    obs = env.reset()\n",
    "    done = False\n",
    "    t = 0\n",
    "    \n",
    "    while not done and t < 10000:\n",
    "        t += 1\n",
    "        action = get_action(obs, weights)\n",
    "        obs, reward, done, info = env.step(action)\n",
    "        if done:\n",
    "            break\n",
    "    return t"
   ]
  },
  {
   "cell_type": "code",
   "execution_count": 3,
   "id": "5d7b0f0b",
   "metadata": {},
   "outputs": [],
   "source": [
    "# The following function implements multiple episodes using a given weight parameter and it\n",
    "# returns the average length of episodes which was generated using the same weights.\n",
    "def play_multiple_episodes(env,T,weights):\n",
    "    episode_lengths = np.empty(T)\n",
    "    \n",
    "    for k in range(T):\n",
    "        episode_lengths[k] = play_one_episode(env,weights)\n",
    "    avg_length = episode_lengths.mean()\n",
    "    print(\"Best Average length:\", avg_length)\n",
    "    return avg_length\n",
    "    \n",
    "    "
   ]
  },
  {
   "cell_type": "code",
   "execution_count": 4,
   "id": "ce165842",
   "metadata": {},
   "outputs": [],
   "source": [
    "# The following function implements the random search on the CartPole environment.\n",
    "# The function takes in a virtual environment and returns episode lengths corresponding to\n",
    "# the random weights,best mean length(episodes) and the best weights.\n",
    "def random_search(env):\n",
    "    episode_lengths = []\n",
    "    best = 0\n",
    "    weights = None\n",
    "    \n",
    "    for k in range(100):\n",
    "        new_weights = np.random.random(4) * 2 -1\n",
    "        avg_length = play_multiple_episodes(env, 100, new_weights)\n",
    "        episode_lengths.append(avg_length)\n",
    "        \n",
    "        if avg_length > best:\n",
    "            weights = new_weights\n",
    "            best = avg_length\n",
    "    return episode_lengths, best, weights"
   ]
  },
  {
   "cell_type": "code",
   "execution_count": 9,
   "id": "c70bc35a",
   "metadata": {},
   "outputs": [
    {
     "name": "stdout",
     "output_type": "stream",
     "text": [
      "Best Average length: 50.51\n",
      "Best Average length: 23.97\n",
      "Best Average length: 9.62\n",
      "Best Average length: 100.06\n",
      "Best Average length: 60.77\n",
      "Best Average length: 9.72\n",
      "Best Average length: 9.12\n",
      "Best Average length: 9.23\n",
      "Best Average length: 8.88\n",
      "Best Average length: 49.81\n",
      "Best Average length: 9.1\n",
      "Best Average length: 9.23\n",
      "Best Average length: 46.11\n",
      "Best Average length: 78.39\n",
      "Best Average length: 9.04\n",
      "Best Average length: 62.88\n",
      "Best Average length: 9.61\n",
      "Best Average length: 48.54\n",
      "Best Average length: 26.68\n",
      "Best Average length: 9.5\n",
      "Best Average length: 18.16\n",
      "Best Average length: 9.33\n",
      "Best Average length: 224.35\n",
      "Best Average length: 127.04\n",
      "Best Average length: 9.65\n",
      "Best Average length: 11.25\n",
      "Best Average length: 9.72\n",
      "Best Average length: 9.08\n",
      "Best Average length: 81.18\n",
      "Best Average length: 26.16\n",
      "Best Average length: 390.9\n",
      "Best Average length: 9.59\n",
      "Best Average length: 9.67\n",
      "Best Average length: 37.29\n",
      "Best Average length: 9.49\n",
      "Best Average length: 29.44\n",
      "Best Average length: 9.83\n",
      "Best Average length: 158.85\n",
      "Best Average length: 9.38\n",
      "Best Average length: 9.37\n",
      "Best Average length: 9.22\n",
      "Best Average length: 9.07\n",
      "Best Average length: 126.0\n",
      "Best Average length: 9.72\n",
      "Best Average length: 9.06\n",
      "Best Average length: 89.96\n",
      "Best Average length: 9.6\n",
      "Best Average length: 9.24\n",
      "Best Average length: 9.33\n",
      "Best Average length: 408.16\n",
      "Best Average length: 9.52\n",
      "Best Average length: 9.7\n",
      "Best Average length: 9.51\n",
      "Best Average length: 62.32\n",
      "Best Average length: 9.37\n",
      "Best Average length: 298.09\n",
      "Best Average length: 9.12\n",
      "Best Average length: 12.15\n",
      "Best Average length: 9.56\n",
      "Best Average length: 9.32\n",
      "Best Average length: 63.79\n",
      "Best Average length: 367.0\n",
      "Best Average length: 74.61\n",
      "Best Average length: 9.62\n",
      "Best Average length: 9.39\n",
      "Best Average length: 9.67\n",
      "Best Average length: 9.87\n",
      "Best Average length: 181.72\n",
      "Best Average length: 95.28\n",
      "Best Average length: 47.04\n",
      "Best Average length: 260.6\n",
      "Best Average length: 8.98\n",
      "Best Average length: 79.28\n",
      "Best Average length: 9.44\n",
      "Best Average length: 187.7\n",
      "Best Average length: 36.41\n",
      "Best Average length: 27.81\n",
      "Best Average length: 9.05\n",
      "Best Average length: 9.38\n",
      "Best Average length: 9.18\n",
      "Best Average length: 9.43\n",
      "Best Average length: 45.27\n",
      "Best Average length: 8.89\n",
      "Best Average length: 59.17\n",
      "Best Average length: 157.85\n",
      "Best Average length: 8.86\n",
      "Best Average length: 43.05\n",
      "Best Average length: 100.15\n",
      "Best Average length: 74.94\n",
      "Best Average length: 476.53\n",
      "Best Average length: 9.49\n",
      "Best Average length: 8.99\n",
      "Best Average length: 106.18\n",
      "Best Average length: 9.5\n",
      "Best Average length: 24.69\n",
      "Best Average length: 9.6\n",
      "Best Average length: 31.8\n",
      "Best Average length: 40.25\n",
      "Best Average length: 126.08\n",
      "Best Average length: 9.14\n",
      "476.53\n",
      "[0.68337174 0.36061309 0.89238954 0.27994403]\n"
     ]
    },
    {
     "data": {
      "image/png": "[encoded data removed]",
      "text/plain": [
       "<Figure size 432x288 with 1 Axes>"
      ]
     },
     "metadata": {
      "needs_background": "light"
     },
     "output_type": "display_data"
    },
    {
     "name": "stdout",
     "output_type": "stream",
     "text": [
      "###Running Random Search###\n",
      "Best Average length: 477.22\n"
     ]
    }
   ],
   "source": [
    "if __name__ == '__main__':\n",
    "    env = gym.make('CartPole-v1')\n",
    "    episode_lengths,best_avg_length, weights = random_search(env)\n",
    "    print(best_avg_length)\n",
    "    print(weights)\n",
    "    plt.plot(episode_lengths)\n",
    "    plt.show()\n",
    "    print(\"###Running Random Search###\")\n",
    "    play_multiple_episodes(env,100,weights)\n",
    "        "
   ]
  },
  {
   "cell_type": "code",
   "execution_count": 34,
   "id": "3b79997c",
   "metadata": {},
   "outputs": [
    {
     "data": {
      "text/plain": [
       "200"
      ]
     },
     "execution_count": 34,
     "metadata": {},
     "output_type": "execute_result"
    }
   ],
   "source": [
    "play_one_episode(env, weights)"
   ]
  },
  {
   "cell_type": "code",
   "execution_count": null,
   "id": "435d661b",
   "metadata": {},
   "outputs": [],
   "source": []
  }
 ],
 "metadata": {
  "kernelspec": {
   "display_name": "Python 3 (ipykernel)",
   "language": "python",
   "name": "python3"
  },
  "language_info": {
   "codemirror_mode": {
    "name": "ipython",
    "version": 3
   },
   "file_extension": ".py",
   "mimetype": "text/x-python",
   "name": "python",
   "nbconvert_exporter": "python",
   "pygments_lexer": "ipython3",
   "version": "3.8.5"
  }
 },
 "nbformat": 4,
 "nbformat_minor": 5
}
