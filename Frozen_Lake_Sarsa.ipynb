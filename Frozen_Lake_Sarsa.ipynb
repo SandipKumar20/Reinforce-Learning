{
 "cells": [
  {
   "cell_type": "code",
   "execution_count": 28,
   "metadata": {},
   "outputs": [],
   "source": [
    "import numpy as np\n",
    "import matplotlib.pyplot as plt\n",
    "import gym\n",
    "import time\n",
    "from IPython.display import clear_output"
   ]
  },
  {
   "cell_type": "code",
   "execution_count": 4,
   "metadata": {},
   "outputs": [],
   "source": [
    "\"\"\"Setting is_slippery = False\"\"\"\n",
    "from gym.envs.registration import register\n",
    "try:\n",
    "    register(\n",
    "    id='FrozenLakeNotSlippery-v0',\n",
    "    entry_point='gym.envs.toy_text:FrozenLakeEnv',\n",
    "    kwargs={'map_name' : '4x4', 'is_slippery': False},\n",
    "    max_episode_steps=100,\n",
    "    reward_threshold=0.78, # optimum = .8196\n",
    ")\n",
    "except:\n",
    "    print(\"Already Registered\")"
   ]
  },
  {
   "cell_type": "code",
   "execution_count": 5,
   "metadata": {},
   "outputs": [],
   "source": [
    "env = gym.make('FrozenLakeNotSlippery-v0')"
   ]
  },
  {
   "cell_type": "code",
   "execution_count": 7,
   "metadata": {},
   "outputs": [
    {
     "data": {
      "text/plain": [
       "(16, 4)"
      ]
     },
     "execution_count": 7,
     "metadata": {},
     "output_type": "execute_result"
    }
   ],
   "source": [
    "env.observation_space.n,env.action_space.n"
   ]
  },
  {
   "cell_type": "code",
   "execution_count": 12,
   "metadata": {},
   "outputs": [],
   "source": [
    "Q_table = np.zeros((env.observation_space.n,env.action_space.n))"
   ]
  },
  {
   "cell_type": "code",
   "execution_count": 13,
   "metadata": {},
   "outputs": [
    {
     "data": {
      "text/plain": [
       "array([[0., 0., 0., 0.],\n",
       "       [0., 0., 0., 0.],\n",
       "       [0., 0., 0., 0.],\n",
       "       [0., 0., 0., 0.],\n",
       "       [0., 0., 0., 0.],\n",
       "       [0., 0., 0., 0.],\n",
       "       [0., 0., 0., 0.],\n",
       "       [0., 0., 0., 0.],\n",
       "       [0., 0., 0., 0.],\n",
       "       [0., 0., 0., 0.],\n",
       "       [0., 0., 0., 0.],\n",
       "       [0., 0., 0., 0.],\n",
       "       [0., 0., 0., 0.],\n",
       "       [0., 0., 0., 0.],\n",
       "       [0., 0., 0., 0.],\n",
       "       [0., 0., 0., 0.]])"
      ]
     },
     "execution_count": 13,
     "metadata": {},
     "output_type": "execute_result"
    }
   ],
   "source": [
    "Q_table"
   ]
  },
  {
   "cell_type": "code",
   "execution_count": 16,
   "metadata": {},
   "outputs": [],
   "source": [
    "def policy(state,epsilon=0.2):\n",
    "    if np.random.random()<epsilon:\n",
    "        action = np.random.randint(env.action_space.n)\n",
    "    else:\n",
    "        av = Q_table[state]\n",
    "        action = np.random.choice(np.flatnonzero(av == av.max()))\n",
    "    return action"
   ]
  },
  {
   "cell_type": "code",
   "execution_count": 21,
   "metadata": {},
   "outputs": [],
   "source": [
    "def sarsa(Q_table,policy,epochs,alpha=0.1,gamma=0.99,epsilon=0.2):\n",
    "    for epoch in range(epochs):\n",
    "        state = env.reset()\n",
    "        action = policy(state,epsilon)\n",
    "        done =False\n",
    "        \n",
    "        while not done:\n",
    "            next_state,reward,done,_ = env.step(action)\n",
    "            next_action = policy(next_state,epsilon)\n",
    "            qsa = Q_table[state,action]\n",
    "            next_qsa = Q_table[next_state,next_action]\n",
    "            Q_table[state,action] = qsa + alpha *(reward + gamma *next_qsa - qsa)\n",
    "            state = next_state\n",
    "            action = next_action"
   ]
  },
  {
   "cell_type": "code",
   "execution_count": 22,
   "metadata": {},
   "outputs": [],
   "source": [
    "sarsa(Q_table,policy,10000)"
   ]
  },
  {
   "cell_type": "code",
   "execution_count": 23,
   "metadata": {},
   "outputs": [
    {
     "data": {
      "text/plain": [
       "array([[0.65936643, 0.75593393, 0.55735137, 0.65541865],\n",
       "       [0.6517528 , 0.        , 0.50538146, 0.57402497],\n",
       "       [0.56224314, 0.36977132, 0.03132374, 0.11756628],\n",
       "       [0.20295307, 0.        , 0.        , 0.        ],\n",
       "       [0.6960299 , 0.80959808, 0.        , 0.66970049],\n",
       "       [0.        , 0.        , 0.        , 0.        ],\n",
       "       [0.        , 0.93996767, 0.        , 0.26510294],\n",
       "       [0.        , 0.        , 0.        , 0.        ],\n",
       "       [0.69430539, 0.        , 0.85764958, 0.66885071],\n",
       "       [0.8009572 , 0.80586129, 0.91361086, 0.        ],\n",
       "       [0.83056768, 0.96769257, 0.        , 0.86521862],\n",
       "       [0.        , 0.        , 0.        , 0.        ],\n",
       "       [0.        , 0.        , 0.        , 0.        ],\n",
       "       [0.        , 0.91549921, 0.96466697, 0.89652374],\n",
       "       [0.92939635, 0.98422772, 1.        , 0.74657103],\n",
       "       [0.        , 0.        , 0.        , 0.        ]])"
      ]
     },
     "execution_count": 23,
     "metadata": {},
     "output_type": "execute_result"
    }
   ],
   "source": [
    "Q_table"
   ]
  },
  {
   "cell_type": "code",
   "execution_count": 30,
   "metadata": {},
   "outputs": [
    {
     "name": "stdout",
     "output_type": "stream",
     "text": [
      "  (Down)\n",
      "SFFF\n",
      "FHFH\n",
      "FFFH\n",
      "HF\u001b[41mF\u001b[0mG\n"
     ]
    }
   ],
   "source": [
    "\"\"\"Playing the Game After Training. The agent succeeds all thee time after training\"\"\"\n",
    "state = env.reset()\n",
    "for step in range(20):\n",
    "    env.render()\n",
    "    action = np.argmax(Q_table[state,:])\n",
    "    next_state,rew,done,info = env.step(action)\n",
    "    time.sleep(0.5)\n",
    "    clear_output(wait=True)\n",
    "    if done:\n",
    "        env.reset()\n",
    "    state=next_state\n",
    "env.close()"
   ]
  },
  {
   "cell_type": "code",
   "execution_count": null,
   "metadata": {},
   "outputs": [],
   "source": []
  }
 ],
 "metadata": {
  "kernelspec": {
   "display_name": "Python 3",
   "language": "python",
   "name": "python3"
  },
  "language_info": {
   "codemirror_mode": {
    "name": "ipython",
    "version": 3
   },
   "file_extension": ".py",
   "mimetype": "text/x-python",
   "name": "python",
   "nbconvert_exporter": "python",
   "pygments_lexer": "ipython3",
   "version": "3.8.5"
  }
 },
 "nbformat": 4,
 "nbformat_minor": 4
}
