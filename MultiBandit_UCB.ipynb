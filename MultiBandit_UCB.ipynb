{
 "cells": [
  {
   "cell_type": "code",
   "execution_count": 1,
   "id": "cf97ac45",
   "metadata": {},
   "outputs": [],
   "source": [
    "import numpy as np"
   ]
  },
  {
   "cell_type": "code",
   "execution_count": 19,
   "id": "5ea0d69a",
   "metadata": {},
   "outputs": [],
   "source": [
    "\"\"\"Python class which implements UCB algorithm on multi armed bandit problem.\"\"\"\n",
    "class UCB:\n",
    "    def __init__(self, n_arm, reward_fn,c):\n",
    "        # The number of arms in the multi armed bandit problem, initializing\n",
    "        self.n_arm = n_arm\n",
    "        # The mean reward of the distinct arms, initializing\n",
    "        self.arm_avg = np.zeros(n_arm)\n",
    "        # The number of times the various arms are chosen, initializing\n",
    "        self.num_arm = np.ones(n_arm)\n",
    "        # The number which controls the degree of exploration\n",
    "        self.c = c\n",
    "        # The distribution of the arms, initializing\n",
    "        self.reward_fn = reward_fn\n",
    "         # Total number of iterations, initializing\n",
    "        self.its = 0\n",
    "    \n",
    "    # Assigning values to arm_avg    \n",
    "    def initialize(self):\n",
    "        self.arm_avg = np.array([i() for i in self.reward_fn])\n",
    "    \n",
    "    \n",
    "    # Choosing the best arm based on the ucb logic\n",
    "    def best_arm(self):\n",
    "        return np.argmax(self.arm_avg + self.c \\\n",
    "                         *(np.array([np.log(self.its)])/self.num_arm)**0.5)\n",
    "    \n",
    "    # Method which implements the UCB algorithm\n",
    "    def update(self,its):\n",
    "        self.its += its\n",
    "        for i in range(its):\n",
    "            arm = self.best_arm()\n",
    "            # Pulling the lever and getting the reward from the reward distribution   \n",
    "            reward = self.reward_fn[arm]()\n",
    "            # Computing the total reward of the given arm\n",
    "            num = (self.arm_avg[arm] * self.num_arm[arm] + reward)\n",
    "            # The total number of times the given arm was selected\n",
    "            denom = (self.num_arm[arm] + 1.0)\n",
    "            # Computing the mean reward of the given arm\n",
    "            self.arm_avg[arm] = num/denom\n",
    "            # Increment the number of times the arm was chosen\n",
    "            self.num_arm[arm] += 1\n",
    "    \n",
    "    # Method which returns the one d array of mean reward of the arms        \n",
    "    def get_arm_avg(self):\n",
    "        return self.arm_avg\n",
    "                                                 \n",
    "        "
   ]
  },
  {
   "cell_type": "code",
   "execution_count": 20,
   "id": "7408a58a",
   "metadata": {},
   "outputs": [],
   "source": [
    "fns = [\n",
    "    lambda: np.random.randn(),\n",
    "    lambda: np.random.randn()+2,\n",
    "    lambda: np.random.randn()+3,\n",
    "    lambda: np.random.randn()+4,\n",
    "    lambda: np.random.randn()+5\n",
    "]"
   ]
  },
  {
   "cell_type": "code",
   "execution_count": 31,
   "id": "a9ef0269",
   "metadata": {},
   "outputs": [],
   "source": [
    "ucb_mab = UCB(5,fns,2)"
   ]
  },
  {
   "cell_type": "code",
   "execution_count": 32,
   "id": "a06c7f2a",
   "metadata": {},
   "outputs": [],
   "source": [
    "ucb_mab.initialize()\n",
    "ucb_mab.update(1000)"
   ]
  },
  {
   "cell_type": "code",
   "execution_count": 33,
   "id": "dcd53d06",
   "metadata": {},
   "outputs": [
    {
     "data": {
      "text/plain": [
       "4"
      ]
     },
     "execution_count": 33,
     "metadata": {},
     "output_type": "execute_result"
    }
   ],
   "source": [
    "ucb_mab.best_arm()"
   ]
  },
  {
   "cell_type": "code",
   "execution_count": 34,
   "id": "bfedd3f2",
   "metadata": {},
   "outputs": [
    {
     "data": {
      "text/plain": [
       "array([0.39739061, 1.70003513, 2.64822582, 3.48043376, 4.9784943 ])"
      ]
     },
     "execution_count": 34,
     "metadata": {},
     "output_type": "execute_result"
    }
   ],
   "source": [
    "ucb_mab.get_arm_avg()"
   ]
  },
  {
   "cell_type": "code",
   "execution_count": null,
   "id": "a372cdeb",
   "metadata": {},
   "outputs": [],
   "source": []
  }
 ],
 "metadata": {
  "kernelspec": {
   "display_name": "Python 3 (ipykernel)",
   "language": "python",
   "name": "python3"
  },
  "language_info": {
   "codemirror_mode": {
    "name": "ipython",
    "version": 3
   },
   "file_extension": ".py",
   "mimetype": "text/x-python",
   "name": "python",
   "nbconvert_exporter": "python",
   "pygments_lexer": "ipython3",
   "version": "3.8.5"
  }
 },
 "nbformat": 4,
 "nbformat_minor": 5
}
