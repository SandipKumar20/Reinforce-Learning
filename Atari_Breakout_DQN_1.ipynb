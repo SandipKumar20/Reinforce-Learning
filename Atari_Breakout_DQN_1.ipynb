{
 "cells": [
  {
   "cell_type": "code",
   "execution_count": 1,
   "metadata": {},
   "outputs": [],
   "source": [
    "from PIL import Image\n",
    "import numpy as np\n",
    "import matplotlib.pyplot as plt\n",
    "import gym\n",
    "from tensorflow.keras.layers import Dense,Activation,Flatten,Conv2D,Permute\n",
    "from tensorflow.keras.models import Sequential\n",
    "from tensorflow.keras.optimizers import Adam\n",
    "from rl.agents.dqn import DQNAgent\n",
    "from rl.policy import LinearAnnealedPolicy,EpsGreedyQPolicy\n",
    "from rl.memory import SequentialMemory\n",
    "from rl.core import Processor\n",
    "from rl.callbacks import FileLogger,ModelIntervalCheckpoint"
   ]
  },
  {
   "cell_type": "code",
   "execution_count": 2,
   "metadata": {},
   "outputs": [],
   "source": [
    "env = gym.make(\"BreakoutDeterministic-v4\")\n",
    "num_actions = env.action_space.n"
   ]
  },
  {
   "cell_type": "code",
   "execution_count": 3,
   "metadata": {},
   "outputs": [
    {
     "data": {
      "text/plain": [
       "4"
      ]
     },
     "execution_count": 3,
     "metadata": {},
     "output_type": "execute_result"
    }
   ],
   "source": [
    "num_actions"
   ]
  },
  {
   "cell_type": "code",
   "execution_count": 4,
   "metadata": {},
   "outputs": [],
   "source": [
    "IMG_SHAPE = (84,84)\n",
    "WINDOW_LENGTH = 4"
   ]
  },
  {
   "cell_type": "code",
   "execution_count": 5,
   "metadata": {},
   "outputs": [],
   "source": [
    "class ImageProcessor(Processor):\n",
    "    def process_observation(self,obs):\n",
    "        img = Image.fromarray(obs)\n",
    "        img = img.resize(IMG_SHAPE)\n",
    "        img = img.convert('L')\n",
    "        img = np.array(img)\n",
    "        return img.astype('uint8')\n",
    "    def process_state_batch(self,batch):\n",
    "        processed_batch = batch.astype('float32')/255\n",
    "        return processed_batch\n",
    "    def process_reward(self,reward):\n",
    "        return np.clip(reward,-1.0,1.0)"
   ]
  },
  {
   "cell_type": "code",
   "execution_count": 6,
   "metadata": {},
   "outputs": [],
   "source": [
    "input_shape = (WINDOW_LENGTH,IMG_SHAPE[0],IMG_SHAPE[1])"
   ]
  },
  {
   "cell_type": "code",
   "execution_count": 7,
   "metadata": {},
   "outputs": [
    {
     "name": "stdout",
     "output_type": "stream",
     "text": [
      "(4, 84, 84)\n"
     ]
    }
   ],
   "source": [
    "print(input_shape)"
   ]
  },
  {
   "cell_type": "code",
   "execution_count": 8,
   "metadata": {},
   "outputs": [],
   "source": [
    "S_Net = Sequential()\n",
    "S_Net.add(Permute((2,3,1),input_shape = input_shape))\n",
    "S_Net.add(Conv2D(32,(8,8),strides=(4,4),kernel_initializer ='he_normal'))\n",
    "S_Net.add(Activation('relu'))\n",
    "S_Net.add(Conv2D(64,(4,4),strides=(2,2),kernel_initializer ='he_normal'))\n",
    "S_Net.add(Activation('relu'))\n",
    "S_Net.add(Conv2D(64,(3,3),strides=(1,1),kernel_initializer ='he_normal'))\n",
    "S_Net.add(Activation('relu'))\n",
    "S_Net.add(Flatten())\n",
    "S_Net.add(Dense(512))\n",
    "S_Net.add(Activation('relu'))\n",
    "S_Net.add(Dense(num_actions))\n",
    "S_Net.add(Activation('linear'))\n"
   ]
  },
  {
   "cell_type": "code",
   "execution_count": 9,
   "metadata": {},
   "outputs": [],
   "source": [
    "memory = SequentialMemory(limit=1000000,window_length = WINDOW_LENGTH)"
   ]
  },
  {
   "cell_type": "code",
   "execution_count": 10,
   "metadata": {},
   "outputs": [],
   "source": [
    "processor = ImageProcessor()"
   ]
  },
  {
   "cell_type": "code",
   "execution_count": 11,
   "metadata": {},
   "outputs": [],
   "source": [
    "\"\"\"Linear Annealing Policy computes a current threshold value and\n",
    "    transfers it to an inner policy which chooses the action. The threshold\n",
    "    value is following a linear function decreasing over time.\"\"\"\n",
    "policy = LinearAnnealedPolicy(EpsGreedyQPolicy(),\n",
    "                             attr='eps',\n",
    "                             value_max = 1.0,\n",
    "                             value_min=0.1,\n",
    "                             value_test = 0.05,\n",
    "                             nb_steps = 1000000)"
   ]
  },
  {
   "cell_type": "code",
   "execution_count": 12,
   "metadata": {},
   "outputs": [],
   "source": [
    "dqn = DQNAgent(model = S_Net,nb_actions = num_actions,policy =policy,\n",
    "              memory = memory,processor=processor,nb_steps_warmup=50000,\n",
    "              gamma=0.99,target_model_update = 10000,train_interval = 4,\n",
    "              delta_clip=1)"
   ]
  },
  {
   "cell_type": "code",
   "execution_count": 13,
   "metadata": {},
   "outputs": [],
   "source": [
    "dqn.compile(Adam(learning_rate=0.00025),metrics=['mae'])"
   ]
  },
  {
   "cell_type": "code",
   "execution_count": 14,
   "metadata": {},
   "outputs": [],
   "source": [
    "weights_filename = \"DQN_BreakOut.h5f\"\n",
    "checkpoint_filename = 'DQN_Checkpoint.h5f'\n",
    "checkpoint_callback = ModelIntervalCheckpoint(checkpoint_filename,interval=100000 )"
   ]
  },
  {
   "cell_type": "code",
   "execution_count": 15,
   "metadata": {},
   "outputs": [],
   "source": [
    "#dqn.fit(env,nb_steps=1200000,visualize=True,verbose=1)"
   ]
  },
  {
   "cell_type": "code",
   "execution_count": 16,
   "metadata": {},
   "outputs": [],
   "source": [
    "#dqn.test(env,nb_episodes = 10,visualize = True)"
   ]
  },
  {
   "cell_type": "code",
   "execution_count": 18,
   "metadata": {},
   "outputs": [
    {
     "data": {
      "text/plain": [
       "<tensorflow.python.training.tracking.util.CheckpointLoadStatus at 0x7f726c659c10>"
      ]
     },
     "execution_count": 18,
     "metadata": {},
     "output_type": "execute_result"
    }
   ],
   "source": [
    "\"\"\"Loading the pretrained weights\"\"\"\n",
    "S_Net.load_weights(\"weights.h5f\")"
   ]
  },
  {
   "cell_type": "code",
   "execution_count": 19,
   "metadata": {},
   "outputs": [],
   "source": [
    "policy = EpsGreedyQPolicy(0.1)"
   ]
  },
  {
   "cell_type": "code",
   "execution_count": 20,
   "metadata": {},
   "outputs": [],
   "source": [
    "dqn = DQNAgent(model=S_Net,nb_actions = num_actions,policy = policy,\n",
    "              memory = memory,processor=processor)"
   ]
  },
  {
   "cell_type": "code",
   "execution_count": 21,
   "metadata": {},
   "outputs": [],
   "source": [
    "dqn.compile(Adam(learning_rate=0.00025),metrics=['mae'])"
   ]
  },
  {
   "cell_type": "code",
   "execution_count": 22,
   "metadata": {},
   "outputs": [
    {
     "name": "stdout",
     "output_type": "stream",
     "text": [
      "Testing for 2 episodes ...\n"
     ]
    },
    {
     "name": "stderr",
     "output_type": "stream",
     "text": [
      "/home/user/anaconda3/lib/python3.8/site-packages/tensorflow/python/keras/engine/training.py:2426: UserWarning: `Model.state_updates` will be removed in a future version. This property should not be used in TensorFlow 2.0, as `updates` are applied automatically.\n",
      "  warnings.warn('`Model.state_updates` will be removed in a future version. '\n"
     ]
    },
    {
     "name": "stdout",
     "output_type": "stream",
     "text": [
      "Episode 1: reward: 40.000, steps: 1513\n",
      "Episode 2: reward: 40.000, steps: 1513\n"
     ]
    },
    {
     "data": {
      "text/plain": [
       "<tensorflow.python.keras.callbacks.History at 0x7f726c663f70>"
      ]
     },
     "execution_count": 22,
     "metadata": {},
     "output_type": "execute_result"
    }
   ],
   "source": [
    "dqn.test(env,nb_episodes=2,visualize=True)"
   ]
  },
  {
   "cell_type": "code",
   "execution_count": null,
   "metadata": {},
   "outputs": [],
   "source": []
  }
 ],
 "metadata": {
  "kernelspec": {
   "display_name": "Python 3",
   "language": "python",
   "name": "python3"
  },
  "language_info": {
   "codemirror_mode": {
    "name": "ipython",
    "version": 3
   },
   "file_extension": ".py",
   "mimetype": "text/x-python",
   "name": "python",
   "nbconvert_exporter": "python",
   "pygments_lexer": "ipython3",
   "version": "3.8.5"
  }
 },
 "nbformat": 4,
 "nbformat_minor": 4
}
