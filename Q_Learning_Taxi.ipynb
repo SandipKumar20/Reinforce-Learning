{
 "cells": [
  {
   "cell_type": "code",
   "execution_count": 1,
   "metadata": {},
   "outputs": [],
   "source": [
    "import gym\n",
    "import numpy as np\n",
    "import matplotlib.pyplot as plt\n",
    "from IPython.display import clear_output\n",
    "import time"
   ]
  },
  {
   "cell_type": "code",
   "execution_count": 2,
   "metadata": {},
   "outputs": [],
   "source": [
    "env = gym.make('Taxi-v3')"
   ]
  },
  {
   "cell_type": "code",
   "execution_count": 3,
   "metadata": {},
   "outputs": [
    {
     "name": "stdout",
     "output_type": "stream",
     "text": [
      "Episode: 10 \n",
      "Score: -767\n"
     ]
    }
   ],
   "source": [
    "episodes = 10\n",
    "\n",
    "for episode in range(episodes):\n",
    "    state = env.reset()\n",
    "    done = False\n",
    "    score = 0\n",
    "    while not done:\n",
    "        env.render()\n",
    "        state,reward,done,info = env.step(env.action_space.sample())\n",
    "        score += reward\n",
    "        clear_output(wait = True)\n",
    "    print('Episode: {} \\nScore: {}'.format(episode+1,score))\n",
    "env.close()"
   ]
  },
  {
   "cell_type": "code",
   "execution_count": 4,
   "metadata": {},
   "outputs": [],
   "source": [
    "num_actions = env.action_space.n\n",
    "num_states = env.observation_space.n"
   ]
  },
  {
   "cell_type": "code",
   "execution_count": 5,
   "metadata": {},
   "outputs": [],
   "source": [
    "q_table = np.zeros((num_states,num_actions))"
   ]
  },
  {
   "cell_type": "code",
   "execution_count": 6,
   "metadata": {},
   "outputs": [
    {
     "data": {
      "text/plain": [
       "(500, 6)"
      ]
     },
     "execution_count": 6,
     "metadata": {},
     "output_type": "execute_result"
    }
   ],
   "source": [
    "q_table.shape"
   ]
  },
  {
   "cell_type": "code",
   "execution_count": 7,
   "metadata": {},
   "outputs": [],
   "source": [
    "\"\"\"Hyperparameters\"\"\"\n",
    "num_episodes = 20000\n",
    "max_steps_per_episode = 200\n",
    "alpha = 0.5\n",
    "gamma = 0.999\n",
    "epsilon = 1\n",
    "max_eps =1\n",
    "min_eps = 0.01\n",
    "eps_decay_rate = 0.001\n",
    "rewards_all_episodes = []"
   ]
  },
  {
   "cell_type": "code",
   "execution_count": 8,
   "metadata": {},
   "outputs": [],
   "source": [
    "\"\"\"Epsilon Greedy Action Selection\"\"\"\n",
    "def policy(state,q_table,epsilon):\n",
    "    if np.random.random()< epsilon:\n",
    "        action = np.random.randint(num_actions)\n",
    "    else:\n",
    "        av = q_table[state,:]\n",
    "        action = np.argmax(av)\n",
    "    return action"
   ]
  },
  {
   "cell_type": "code",
   "execution_count": 9,
   "metadata": {},
   "outputs": [],
   "source": [
    "def decrement_epsilon(epsilon,max_eps,min_eps,eps_decay_rate,episode):\n",
    "    return min_eps+(max_eps- min_eps)*np.exp(-eps_decay_rate*episode)"
   ]
  },
  {
   "cell_type": "code",
   "execution_count": 10,
   "metadata": {},
   "outputs": [
    {
     "name": "stdout",
     "output_type": "stream",
     "text": [
      "Training finished\n"
     ]
    }
   ],
   "source": [
    "for episode in range(num_episodes):\n",
    "    state = env.reset()\n",
    "    done = False\n",
    "    rewards_current_episode = 0\n",
    "    \n",
    "    for step in range(max_steps_per_episode):\n",
    "        action = policy(state,q_table,epsilon)\n",
    "        new_state,reward,done,info = env.step(action)\n",
    "        qsa = q_table[state,action]\n",
    "        next_qsa = np.max(q_table[new_state,:])\n",
    "        q_table[state,action]= qsa + alpha*(reward+gamma*next_qsa - qsa)\n",
    "        state = new_state\n",
    "        rewards_current_episode+=reward\n",
    "        if done == True:\n",
    "            break\n",
    "    epsilon = decrement_epsilon(epsilon,max_eps,min_eps,eps_decay_rate,episode)\n",
    "    rewards_all_episodes.append(rewards_current_episode)\n",
    "print(\"Training finished\")\n",
    "     "
   ]
  },
  {
   "cell_type": "code",
   "execution_count": 11,
   "metadata": {},
   "outputs": [
    {
     "data": {
      "text/plain": [
       "array([[ 0.        ,  0.        ,  0.        ,  0.        ,  0.        ,\n",
       "         0.        ],\n",
       "       [ 8.78615276,  9.84577592,  8.83345556,  9.84577693, 10.85663445,\n",
       "         0.84577733],\n",
       "       [12.87767232, 13.89523652, 12.88137326, 13.89527757, 14.91018981,\n",
       "         4.89526765],\n",
       "       ...,\n",
       "       [13.71145349, 15.92611592, 12.42125307, 13.68895017,  5.48297641,\n",
       "         5.72298373],\n",
       "       [ 2.50284197, 11.063568  , 10.2712063 , 11.86836647, -1.7264825 ,\n",
       "        -6.71467865],\n",
       "       [17.93834601, 16.93637876, 17.95572818, 18.98      ,  8.96023859,\n",
       "         8.96078818]])"
      ]
     },
     "execution_count": 11,
     "metadata": {},
     "output_type": "execute_result"
    }
   ],
   "source": [
    "q_table"
   ]
  },
  {
   "cell_type": "code",
   "execution_count": 12,
   "metadata": {},
   "outputs": [
    {
     "name": "stdout",
     "output_type": "stream",
     "text": [
      "Average per thousand episodes\n",
      "1000 : -221.26699999999968\n",
      "2000 : -8.821999999999994\n",
      "3000 : 2.8609999999999913\n",
      "4000 : 5.861999999999972\n",
      "5000 : 6.735999999999974\n",
      "6000 : 7.073999999999968\n",
      "7000 : 7.451999999999958\n",
      "8000 : 7.325999999999959\n",
      "9000 : 7.3759999999999675\n",
      "10000 : 7.501999999999967\n",
      "11000 : 7.54199999999996\n",
      "12000 : 7.2239999999999585\n",
      "13000 : 7.371999999999964\n",
      "14000 : 7.530999999999979\n",
      "15000 : 7.391999999999966\n",
      "16000 : 7.442999999999971\n",
      "17000 : 7.382999999999967\n",
      "18000 : 7.323999999999966\n",
      "19000 : 7.574999999999962\n",
      "20000 : 7.390999999999972\n"
     ]
    }
   ],
   "source": [
    "rewards_per_thousand_episodes = np.split(np.array(rewards_all_episodes), num_episodes/1000)\n",
    "count = 1000\n",
    "\n",
    "print(\"Average per thousand episodes\")\n",
    "for r in rewards_per_thousand_episodes:\n",
    "    print(count,\":\", str(sum(r/1000)))\n",
    "    count+=1000\n"
   ]
  },
  {
   "cell_type": "code",
   "execution_count": null,
   "metadata": {},
   "outputs": [
    {
     "name": "stdout",
     "output_type": "stream",
     "text": [
      "Episode is:4\n"
     ]
    }
   ],
   "source": [
    "for episode in range(5):\n",
    "    state= env.reset()\n",
    "    done = False\n",
    "    print(\"Episode is:\" + str(episode))\n",
    "    time.sleep(1)\n",
    "    for step in range(max_steps_per_episode):\n",
    "        clear_output(wait=True)\n",
    "        env.render()\n",
    "        time.sleep(0.4)\n",
    "        action = np.argmax([q_table[state,:]])\n",
    "        new_state,reward,done,info = env.step(action)\n",
    "        \n",
    "        if done:\n",
    "            clear_output(wait=True)\n",
    "            env.render()\n",
    "            if reward == 20:\n",
    "                print(\"Reached the Goal State\")\n",
    "                time.sleep(2)\n",
    "                clear_output(wait=True)\n",
    "            else:\n",
    "                print(\"Failed\")\n",
    "                time.sleep(2)\n",
    "                clear_output(wait=True)\n",
    "            break\n",
    "        state = new_state\n",
    "env.close()"
   ]
  },
  {
   "cell_type": "code",
   "execution_count": null,
   "metadata": {},
   "outputs": [],
   "source": []
  }
 ],
 "metadata": {
  "kernelspec": {
   "display_name": "Python 3",
   "language": "python",
   "name": "python3"
  },
  "language_info": {
   "codemirror_mode": {
    "name": "ipython",
    "version": 3
   },
   "file_extension": ".py",
   "mimetype": "text/x-python",
   "name": "python",
   "nbconvert_exporter": "python",
   "pygments_lexer": "ipython3",
   "version": "3.8.5"
  }
 },
 "nbformat": 4,
 "nbformat_minor": 4
}
