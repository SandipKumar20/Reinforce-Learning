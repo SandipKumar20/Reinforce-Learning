{
 "cells": [
  {
   "cell_type": "code",
   "execution_count": 1,
   "metadata": {},
   "outputs": [],
   "source": [
    "import os\n",
    "import torch as T\n",
    "import gym\n",
    "import matplotlib.pyplot as plt\n",
    "from tqdm import tqdm\n",
    "import torch.nn as nn\n",
    "from torch.optim import AdamW\n",
    "import torch.nn.functional as F\n",
    "from parallel_env import ParallelEnv,ParallelWrapper\n",
    "from utils import test_policy_network,seed_everything,plot_stats"
   ]
  },
  {
   "cell_type": "code",
   "execution_count": 2,
   "metadata": {},
   "outputs": [],
   "source": [
    "env = gym.make('Acrobot-v1')"
   ]
  },
  {
   "cell_type": "code",
   "execution_count": 3,
   "metadata": {},
   "outputs": [],
   "source": [
    "num_states = env.observation_space.shape[0]\n",
    "num_actions = env.action_space.n"
   ]
  },
  {
   "cell_type": "code",
   "execution_count": 4,
   "metadata": {},
   "outputs": [
    {
     "data": {
      "text/plain": [
       "(array([ 0.99974576,  0.022548  ,  0.99997744,  0.00671763, -0.09325952,\n",
       "        -0.03716143]),\n",
       " 6,\n",
       " 3)"
      ]
     },
     "execution_count": 4,
     "metadata": {},
     "output_type": "execute_result"
    }
   ],
   "source": [
    "env.reset(),num_states,num_actions"
   ]
  },
  {
   "cell_type": "code",
   "execution_count": 5,
   "metadata": {},
   "outputs": [],
   "source": [
    "\"\"\"Number of parallel environments\"\"\"\n",
    "num_envs = os.cpu_count()"
   ]
  },
  {
   "cell_type": "code",
   "execution_count": 6,
   "metadata": {},
   "outputs": [
    {
     "data": {
      "text/plain": [
       "8"
      ]
     },
     "execution_count": 6,
     "metadata": {},
     "output_type": "execute_result"
    }
   ],
   "source": [
    "num_envs"
   ]
  },
  {
   "cell_type": "code",
   "execution_count": 7,
   "metadata": {},
   "outputs": [],
   "source": [
    "def create_env(env_name,seed):\n",
    "    env = gym.make(env_name)\n",
    "    seed_everything(env)\n",
    "    return env"
   ]
  },
  {
   "cell_type": "code",
   "execution_count": 8,
   "metadata": {},
   "outputs": [],
   "source": [
    "env_fns = [lambda: create_env('Acrobot-v1',seed=rank)for rank in range(num_envs)]\n",
    "parallel_env = ParallelEnv(env_fns)"
   ]
  },
  {
   "cell_type": "code",
   "execution_count": 9,
   "metadata": {},
   "outputs": [],
   "source": [
    "class PreprocessEnv(ParallelWrapper):\n",
    "    def __init__(self,env):\n",
    "        ParallelWrapper.__init__(self,env)\n",
    "    def reset(self):\n",
    "        state = self.venv.reset()\n",
    "        return T.from_numpy(state).float()\n",
    "    def step_async(self,actions):\n",
    "        actions = actions.squeeze().numpy()\n",
    "        self.venv.step_async(actions)\n",
    "        \n",
    "    def step_wait(self):\n",
    "        next_state,reward,done,info = self.venv.step_wait()\n",
    "        next_state = T.from_numpy(next_state).float()\n",
    "        reward = T.tensor(reward).unsqueeze(1).float()\n",
    "        done = T.tensor(done).unsqueeze(1)\n",
    "        return next_state,reward,done,info"
   ]
  },
  {
   "cell_type": "code",
   "execution_count": 10,
   "metadata": {},
   "outputs": [],
   "source": [
    "\"\"\"Creating parallel environments\"\"\"\n",
    "parallel_env = PreprocessEnv(parallel_env)"
   ]
  },
  {
   "cell_type": "code",
   "execution_count": 11,
   "metadata": {},
   "outputs": [],
   "source": [
    "\"\"\"The Policy Network\"\"\"\n",
    "def PolicyNet(num_states,num_actions,fc1_dims=128,fc2_dims=64):\n",
    "    policy = nn.Sequential(\n",
    "        nn.Linear(num_states,fc1_dims),\n",
    "        nn.ReLU(),\n",
    "        nn.Linear(fc1_dims,fc2_dims),\n",
    "        nn.ReLU(),\n",
    "        nn.Linear(fc2_dims,num_actions),\n",
    "        nn.Softmax(dim=-1))\n",
    "    return policy\n",
    "    "
   ]
  },
  {
   "cell_type": "code",
   "execution_count": 12,
   "metadata": {},
   "outputs": [],
   "source": [
    "\"\"\"The Value Network\"\"\"\n",
    "def ValueNet(num_states,num_actions,fc1_dims=128,fc2_dims = 64):\n",
    "    value = nn.Sequential(\n",
    "        nn.Linear(num_states,fc1_dims),\n",
    "        nn.ReLU(),\n",
    "        nn.Linear(fc1_dims,fc2_dims),\n",
    "        nn.ReLU(),\n",
    "        nn.Linear(fc2_dims,1))\n",
    "    return value"
   ]
  },
  {
   "cell_type": "code",
   "execution_count": 21,
   "metadata": {},
   "outputs": [],
   "source": [
    "\"\"\"The main function which implements the A2C algorithm\"\"\"\n",
    "def A2C(PolicyNet,ValueNet,epochs,num_states,num_actions,\n",
    "        alpha=1e-4,gamma=0.99,fc1_dims=128,fc2_dims = 64):\n",
    "    policy_net = PolicyNet(num_states,num_actions,fc1_dims,fc2_dims)\n",
    "    value_net = ValueNet(num_states,num_actions,fc1_dims,fc2_dims)\n",
    "    policy_optim = AdamW(policy_net.parameters(),lr = alpha)\n",
    "    value_optim = AdamW(value_net.parameters(), lr = alpha)\n",
    "    stats = {'Actor Loss': [],'Critic Loss': [],'Returns': []}\n",
    "    \n",
    "    for epoch in tqdm(range(1,epochs+1)):\n",
    "        state = parallel_env.reset()\n",
    "        done_b = T.zeros((num_envs,1),dtype = T.bool)\n",
    "        ep_return = T.zeros((num_envs,1))\n",
    "        I = 1.\n",
    "        while not done_b.all():\n",
    "            action = policy_net(state).multinomial(1).detach()\n",
    "            next_state,reward,done,_ = parallel_env.step(action)\n",
    "            value = value_net(state)\n",
    "            target = reward + ~done*gamma*value_net(next_state).detach()\n",
    "            critic_loss = F.mse_loss(value,target)\n",
    "            value_net.zero_grad()\n",
    "            critic_loss.backward()\n",
    "            value_optim.step()\n",
    "            \n",
    "            advantage = (target -value).detach()\n",
    "            probs = policy_net(state)\n",
    "            log_probs = T.log(probs+1e-6)\n",
    "            action_log_prob = log_probs.gather(1,action)\n",
    "            entropy = -T.sum(probs*log_probs,dim=-1,keepdim=True)\n",
    "            actor_loss = -I*action_log_prob*advantage-0.01*entropy\n",
    "            actor_loss = actor_loss.mean()\n",
    "            policy_net.zero_grad()\n",
    "            actor_loss.backward()\n",
    "            policy_optim.step()\n",
    "            \n",
    "            ep_return  += reward\n",
    "            done_b |= done\n",
    "            state = next_state\n",
    "            I = I*gamma\n",
    "        stats['Actor Loss'].append(actor_loss.item())\n",
    "        stats['Critic Loss'].append(critic_loss.item())\n",
    "        stats['Returns'].append(ep_return.mean().item())\n",
    "    return stats"
   ]
  },
  {
   "cell_type": "code",
   "execution_count": 22,
   "metadata": {},
   "outputs": [
    {
     "name": "stderr",
     "output_type": "stream",
     "text": [
      "100%|██████████| 200/200 [03:16<00:00,  1.02it/s]\n"
     ]
    }
   ],
   "source": [
    "stats = A2C(PolicyNet,ValueNet,200,num_states,num_actions)"
   ]
  },
  {
   "cell_type": "code",
   "execution_count": 25,
   "metadata": {},
   "outputs": [
    {
     "data": {
      "image/png": "[encoded data removed]",
      "text/plain": [
       "<Figure size 864x432 with 3 Axes>"
      ]
     },
     "metadata": {
      "needs_background": "light"
     },
     "output_type": "display_data"
    }
   ],
   "source": [
    "plot_stats(stats)"
   ]
  },
  {
   "cell_type": "code",
   "execution_count": null,
   "metadata": {},
   "outputs": [],
   "source": []
  }
 ],
 "metadata": {
  "kernelspec": {
   "display_name": "Python 3",
   "language": "python",
   "name": "python3"
  },
  "language_info": {
   "codemirror_mode": {
    "name": "ipython",
    "version": 3
   },
   "file_extension": ".py",
   "mimetype": "text/x-python",
   "name": "python",
   "nbconvert_exporter": "python",
   "pygments_lexer": "ipython3",
   "version": "3.8.5"
  }
 },
 "nbformat": 4,
 "nbformat_minor": 4
}
